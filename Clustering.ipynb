{
 "cells": [
  {
   "cell_type": "markdown",
   "id": "b84af03d",
   "metadata": {},
   "source": [
    "# Making clusters"
   ]
  },
  {
   "cell_type": "markdown",
   "id": "8743611e",
   "metadata": {},
   "source": [
    "#### Importing libraries"
   ]
  },
  {
   "cell_type": "code",
   "execution_count": 1,
   "id": "0669a359",
   "metadata": {},
   "outputs": [],
   "source": [
    "import spotipy\n",
    "from spotipy.oauth2 import SpotifyClientCredentials\n",
    "import pandas as pd\n",
    "from random import randint\n",
    "from time import sleep\n",
    "from itertools import islice\n",
    "from pandas import json_normalize"
   ]
  },
  {
   "cell_type": "markdown",
   "id": "05e466c2",
   "metadata": {},
   "source": [
    "# Reading out the data and creating a dataframe"
   ]
  },
  {
   "cell_type": "code",
   "execution_count": 2,
   "id": "ab6872dc",
   "metadata": {},
   "outputs": [],
   "source": [
    "df_list = []\n",
    "for i in range(1,101):\n",
    "    df_list.append(pd.read_csv('./Data/part'+str(i)+'.csv'))    "
   ]
  },
  {
   "cell_type": "code",
   "execution_count": 3,
   "id": "eeeec65f",
   "metadata": {},
   "outputs": [],
   "source": [
    "df_songs = pd.concat(df_list)"
   ]
  },
  {
   "cell_type": "code",
   "execution_count": 4,
   "id": "ff7a9096",
   "metadata": {},
   "outputs": [
    {
     "data": {
      "text/html": [
       "<div>\n",
       "<style scoped>\n",
       "    .dataframe tbody tr th:only-of-type {\n",
       "        vertical-align: middle;\n",
       "    }\n",
       "\n",
       "    .dataframe tbody tr th {\n",
       "        vertical-align: top;\n",
       "    }\n",
       "\n",
       "    .dataframe thead th {\n",
       "        text-align: right;\n",
       "    }\n",
       "</style>\n",
       "<table border=\"1\" class=\"dataframe\">\n",
       "  <thead>\n",
       "    <tr style=\"text-align: right;\">\n",
       "      <th></th>\n",
       "      <th>uri</th>\n",
       "      <th>title</th>\n",
       "      <th>artist_name</th>\n",
       "      <th>artist_id</th>\n",
       "      <th>album_id</th>\n",
       "      <th>album_name</th>\n",
       "      <th>length</th>\n",
       "      <th>explicit</th>\n",
       "      <th>popularity</th>\n",
       "      <th>danceability</th>\n",
       "      <th>energy</th>\n",
       "      <th>key</th>\n",
       "      <th>loudness</th>\n",
       "      <th>mode</th>\n",
       "      <th>speechiness</th>\n",
       "      <th>acousticness</th>\n",
       "      <th>instrumentalness</th>\n",
       "      <th>liveness</th>\n",
       "      <th>valence</th>\n",
       "      <th>tempo</th>\n",
       "    </tr>\n",
       "  </thead>\n",
       "  <tbody>\n",
       "    <tr>\n",
       "      <th>0</th>\n",
       "      <td>spotify:track:7zgqtptZvhf8GEmdsM2vp2</td>\n",
       "      <td>...Ready For It?</td>\n",
       "      <td>Taylor Swift</td>\n",
       "      <td>06HL4z0CvFAxyc27GXpf02</td>\n",
       "      <td>0HG8fMDhvN2tH5uPHFsyZP</td>\n",
       "      <td>...Ready For It?</td>\n",
       "      <td>208198</td>\n",
       "      <td>False</td>\n",
       "      <td>0</td>\n",
       "      <td>0.615</td>\n",
       "      <td>0.779</td>\n",
       "      <td>2</td>\n",
       "      <td>-6.454</td>\n",
       "      <td>1</td>\n",
       "      <td>0.1350</td>\n",
       "      <td>0.0665</td>\n",
       "      <td>0.0</td>\n",
       "      <td>0.1550</td>\n",
       "      <td>0.453</td>\n",
       "      <td>160.000</td>\n",
       "    </tr>\n",
       "    <tr>\n",
       "      <th>1</th>\n",
       "      <td>spotify:track:4Vxu50qVrQcycjRyJQaZLC</td>\n",
       "      <td>Life Changes</td>\n",
       "      <td>Thomas Rhett</td>\n",
       "      <td>6x2LnllRG5uGarZMsD4iO8</td>\n",
       "      <td>4w5Jvreahp3yvLqc4vCr9I</td>\n",
       "      <td>Life Changes</td>\n",
       "      <td>190226</td>\n",
       "      <td>False</td>\n",
       "      <td>63</td>\n",
       "      <td>0.687</td>\n",
       "      <td>0.845</td>\n",
       "      <td>7</td>\n",
       "      <td>-4.370</td>\n",
       "      <td>1</td>\n",
       "      <td>0.0576</td>\n",
       "      <td>0.1000</td>\n",
       "      <td>0.0</td>\n",
       "      <td>0.0452</td>\n",
       "      <td>0.809</td>\n",
       "      <td>87.972</td>\n",
       "    </tr>\n",
       "    <tr>\n",
       "      <th>2</th>\n",
       "      <td>spotify:track:6b8Be6ljOzmkOmFslEb23P</td>\n",
       "      <td>24K Magic</td>\n",
       "      <td>Bruno Mars</td>\n",
       "      <td>0du5cEVh5yTK9QJze8zA0C</td>\n",
       "      <td>4PgleR09JVnm3zY1fW3XBA</td>\n",
       "      <td>24K Magic</td>\n",
       "      <td>225983</td>\n",
       "      <td>False</td>\n",
       "      <td>81</td>\n",
       "      <td>0.818</td>\n",
       "      <td>0.803</td>\n",
       "      <td>1</td>\n",
       "      <td>-4.282</td>\n",
       "      <td>1</td>\n",
       "      <td>0.0797</td>\n",
       "      <td>0.0340</td>\n",
       "      <td>0.0</td>\n",
       "      <td>0.1530</td>\n",
       "      <td>0.632</td>\n",
       "      <td>106.970</td>\n",
       "    </tr>\n",
       "  </tbody>\n",
       "</table>\n",
       "</div>"
      ],
      "text/plain": [
       "                                    uri             title   artist_name  \\\n",
       "0  spotify:track:7zgqtptZvhf8GEmdsM2vp2  ...Ready For It?  Taylor Swift   \n",
       "1  spotify:track:4Vxu50qVrQcycjRyJQaZLC      Life Changes  Thomas Rhett   \n",
       "2  spotify:track:6b8Be6ljOzmkOmFslEb23P         24K Magic    Bruno Mars   \n",
       "\n",
       "                artist_id                album_id        album_name  length  \\\n",
       "0  06HL4z0CvFAxyc27GXpf02  0HG8fMDhvN2tH5uPHFsyZP  ...Ready For It?  208198   \n",
       "1  6x2LnllRG5uGarZMsD4iO8  4w5Jvreahp3yvLqc4vCr9I      Life Changes  190226   \n",
       "2  0du5cEVh5yTK9QJze8zA0C  4PgleR09JVnm3zY1fW3XBA         24K Magic  225983   \n",
       "\n",
       "   explicit  popularity  danceability  energy  key  loudness  mode  \\\n",
       "0     False           0         0.615   0.779    2    -6.454     1   \n",
       "1     False          63         0.687   0.845    7    -4.370     1   \n",
       "2     False          81         0.818   0.803    1    -4.282     1   \n",
       "\n",
       "   speechiness  acousticness  instrumentalness  liveness  valence    tempo  \n",
       "0       0.1350        0.0665               0.0    0.1550    0.453  160.000  \n",
       "1       0.0576        0.1000               0.0    0.0452    0.809   87.972  \n",
       "2       0.0797        0.0340               0.0    0.1530    0.632  106.970  "
      ]
     },
     "execution_count": 4,
     "metadata": {},
     "output_type": "execute_result"
    }
   ],
   "source": [
    "df_songs.head(3)"
   ]
  },
  {
   "cell_type": "code",
   "execution_count": 5,
   "id": "bc86289b",
   "metadata": {},
   "outputs": [
    {
     "data": {
      "text/plain": [
       "(10000, 20)"
      ]
     },
     "execution_count": 5,
     "metadata": {},
     "output_type": "execute_result"
    }
   ],
   "source": [
    "df_songs.shape"
   ]
  },
  {
   "cell_type": "markdown",
   "id": "a4a88a17",
   "metadata": {},
   "source": [
    "# Preparing the dataframe"
   ]
  },
  {
   "cell_type": "markdown",
   "id": "d6223ace",
   "metadata": {},
   "source": [
    "#### More imports"
   ]
  },
  {
   "cell_type": "code",
   "execution_count": null,
   "id": "deb90116",
   "metadata": {},
   "outputs": [],
   "source": [
    "from sklearn import cluster, datasets\n",
    "from sklearn.preprocessing import StandardScaler\n",
    "from matplotlib.lines import Line2D\n",
    "from sklearn.cluster import KMeans"
   ]
  },
  {
   "cell_type": "markdown",
   "id": "0109f959",
   "metadata": {},
   "source": [
    "#### Reducing columns"
   ]
  },
  {
   "cell_type": "code",
   "execution_count": null,
   "id": "5e800f26",
   "metadata": {},
   "outputs": [],
   "source": [
    "df_songs.columns"
   ]
  },
  {
   "cell_type": "markdown",
   "id": "a7772f13",
   "metadata": {},
   "source": [
    "Most of the data we have is not needed for the clustering process, we only keep the audio features."
   ]
  },
  {
   "cell_type": "code",
   "execution_count": null,
   "id": "e5ea8883",
   "metadata": {},
   "outputs": [],
   "source": [
    "df_prep = df_songs[['danceability', 'energy', 'key',\n",
    "       'loudness', 'mode', 'speechiness', 'acousticness', 'instrumentalness',\n",
    "       'liveness', 'valence', 'tempo']]\n",
    "df_prep.columns"
   ]
  },
  {
   "cell_type": "markdown",
   "id": "5123c336",
   "metadata": {},
   "source": [
    "#### Cleaning"
   ]
  },
  {
   "cell_type": "code",
   "execution_count": null,
   "id": "11b651f7",
   "metadata": {},
   "outputs": [],
   "source": [
    "# Check nan values\n",
    "df_prep.isna().sum()"
   ]
  },
  {
   "cell_type": "code",
   "execution_count": null,
   "id": "1f4ed167",
   "metadata": {},
   "outputs": [],
   "source": [
    "# Checking types\n",
    "df_prep.dtypes"
   ]
  },
  {
   "cell_type": "markdown",
   "id": "1bee6fd1",
   "metadata": {},
   "source": [
    "There is nothing to clean"
   ]
  },
  {
   "cell_type": "markdown",
   "id": "85489cef",
   "metadata": {},
   "source": [
    "#### Scaling"
   ]
  },
  {
   "cell_type": "code",
   "execution_count": null,
   "id": "d555b508",
   "metadata": {},
   "outputs": [],
   "source": [
    "scaler = StandardScaler().fit(df_prep)\n",
    "scaler"
   ]
  },
  {
   "cell_type": "code",
   "execution_count": null,
   "id": "b0170a4b",
   "metadata": {},
   "outputs": [],
   "source": [
    "normalized = scaler.transform(df_prep)\n",
    "df_normalized = pd.DataFrame(normalized, columns=df_prep.columns)"
   ]
  },
  {
   "cell_type": "code",
   "execution_count": null,
   "id": "f0330671",
   "metadata": {},
   "outputs": [],
   "source": [
    "df_normalized.head(5)"
   ]
  },
  {
   "cell_type": "markdown",
   "id": "929ed065",
   "metadata": {},
   "source": [
    "# Clustering with KMeans"
   ]
  },
  {
   "cell_type": "code",
   "execution_count": null,
   "id": "e10b2600",
   "metadata": {},
   "outputs": [],
   "source": [
    "# Initializing the classifier\n",
    "kmeans = cluster.KMeans(n_clusters=10)"
   ]
  },
  {
   "cell_type": "code",
   "execution_count": null,
   "id": "2a4c6ea7",
   "metadata": {},
   "outputs": [],
   "source": [
    "# Fitting with our scaled data\n",
    "kmeans.fit(df_normalized)"
   ]
  },
  {
   "cell_type": "code",
   "execution_count": null,
   "id": "e2ddbf9e",
   "metadata": {},
   "outputs": [],
   "source": [
    "# Calculating the clusters\n",
    "pred = kmeans.predict(df_normalized)"
   ]
  },
  {
   "cell_type": "code",
   "execution_count": null,
   "id": "bb727dc0",
   "metadata": {},
   "outputs": [],
   "source": [
    "# We now have predictions for all our songs\n",
    "len(pred)"
   ]
  },
  {
   "cell_type": "code",
   "execution_count": null,
   "id": "8a18e297",
   "metadata": {},
   "outputs": [],
   "source": [
    "# Seperated into 10 clusters\n",
    "pd.DataFrame(pred)[0].unique()"
   ]
  },
  {
   "cell_type": "markdown",
   "id": "0370f59d",
   "metadata": {},
   "source": [
    "# Evaluation"
   ]
  },
  {
   "cell_type": "code",
   "execution_count": null,
   "id": "cad395b7",
   "metadata": {},
   "outputs": [],
   "source": [
    "# Looking at inertia\n",
    "kmeans.inertia_ "
   ]
  },
  {
   "cell_type": "markdown",
   "id": "a6c21d30",
   "metadata": {},
   "source": [
    "# Choosing k"
   ]
  },
  {
   "cell_type": "code",
   "execution_count": null,
   "id": "d93b77ef",
   "metadata": {},
   "outputs": [],
   "source": [
    "# We try out different values for K, since grouping music in just 2 categories is just not\n",
    "# useful we start off with 10\n",
    "K = range(2, 20)\n",
    "inertia = []\n",
    "\n",
    "for k in K:\n",
    "    kmeans = KMeans(n_clusters=k,\n",
    "                    random_state=1234)\n",
    "    kmeans.fit(df_normalized)\n",
    "    inertia.append(kmeans.inertia_)\n",
    "\n",
    "import matplotlib.pyplot as plt\n",
    "%matplotlib inline\n",
    "\n",
    "plt.figure(figsize=(16,8))\n",
    "plt.plot(K, inertia, 'bx-')\n",
    "plt.xlabel('k')\n",
    "plt.ylabel('inertia')\n",
    "plt.xticks(np.arange(min(K), max(K)+1, 1.0))\n",
    "plt.title('Elbow Method showing the optimal k')\n",
    "plt.show()"
   ]
  },
  {
   "cell_type": "markdown",
   "id": "d224dc91",
   "metadata": {},
   "source": [
    "We dont have a clear elbow point here, we try to improve with PCA"
   ]
  },
  {
   "cell_type": "markdown",
   "id": "7e43b1e0",
   "metadata": {},
   "source": [
    "# Principal Component Analysis"
   ]
  },
  {
   "cell_type": "code",
   "execution_count": null,
   "id": "76b0b8b5",
   "metadata": {},
   "outputs": [],
   "source": [
    "from sklearn.decomposition import PCA"
   ]
  },
  {
   "cell_type": "code",
   "execution_count": null,
   "id": "32346f25",
   "metadata": {},
   "outputs": [],
   "source": [
    "pca = PCA()\n",
    "pca.fit(df_normalized)"
   ]
  },
  {
   "cell_type": "markdown",
   "id": "778fd239",
   "metadata": {},
   "source": [
    "#### Inspecting the components"
   ]
  },
  {
   "cell_type": "code",
   "execution_count": null,
   "id": "3a1e3585",
   "metadata": {},
   "outputs": [],
   "source": [
    "pca.explained_variance_ratio_.round(2)"
   ]
  },
  {
   "cell_type": "code",
   "execution_count": null,
   "id": "8ef88be0",
   "metadata": {},
   "outputs": [],
   "source": [
    "pca.explained_variance_ratio_[:8].sum()"
   ]
  },
  {
   "cell_type": "markdown",
   "id": "d6c5a89b",
   "metadata": {},
   "source": [
    "Apparently we need a lot of the components to not loose too much information, nevertheless we retry to model with the reduced dimensions."
   ]
  },
  {
   "cell_type": "markdown",
   "id": "eda6ae97",
   "metadata": {},
   "source": [
    "# Modeling with reduced dimensions"
   ]
  },
  {
   "cell_type": "markdown",
   "id": "c03d47f2",
   "metadata": {},
   "source": [
    "#### Setting PCA to 85%"
   ]
  },
  {
   "cell_type": "code",
   "execution_count": null,
   "id": "5c22639f",
   "metadata": {},
   "outputs": [],
   "source": [
    "pca = PCA(0.85)\n",
    "pca.fit(df_normalized)"
   ]
  },
  {
   "cell_type": "code",
   "execution_count": null,
   "id": "698e9df0",
   "metadata": {},
   "outputs": [],
   "source": [
    "# Applying to our data\n",
    "df_normalized_pca = pca.transform(df_normalized)"
   ]
  },
  {
   "cell_type": "markdown",
   "id": "72a72bc9",
   "metadata": {},
   "source": [
    "#### Model"
   ]
  },
  {
   "cell_type": "code",
   "execution_count": null,
   "id": "55a637b9",
   "metadata": {},
   "outputs": [],
   "source": [
    "K = range(2, 20)\n",
    "inertia = []\n",
    "\n",
    "for k in K:\n",
    "    kmeans = KMeans(n_clusters=k,\n",
    "                    random_state=1234)\n",
    "    kmeans.fit(df_normalized_pca)\n",
    "    inertia.append(kmeans.inertia_)\n",
    "\n",
    "import matplotlib.pyplot as plt\n",
    "%matplotlib inline\n",
    "\n",
    "plt.figure(figsize=(16,8))\n",
    "plt.plot(K, inertia, 'bx-')\n",
    "plt.xlabel('k')\n",
    "plt.ylabel('inertia')\n",
    "plt.xticks(np.arange(min(K), max(K)+1, 1.0))\n",
    "plt.title('Elbow Method showing the optimal k')\n",
    "plt.show()"
   ]
  },
  {
   "cell_type": "markdown",
   "id": "2a51eab2",
   "metadata": {},
   "source": [
    "The curve looks a little bit more defined, I would still apply K = 10"
   ]
  },
  {
   "cell_type": "markdown",
   "id": "a415d6cf",
   "metadata": {},
   "source": [
    "#### Comparing"
   ]
  },
  {
   "cell_type": "code",
   "execution_count": null,
   "id": "7f5084bb",
   "metadata": {},
   "outputs": [],
   "source": [
    "kmeans = cluster.KMeans(n_clusters=10)\n",
    "kmeans.fit(df_normalized)\n",
    "kmeans.inertia_ "
   ]
  },
  {
   "cell_type": "code",
   "execution_count": null,
   "id": "bcd77372",
   "metadata": {},
   "outputs": [],
   "source": [
    "kmeans_pca = KMeans(n_clusters=10)\n",
    "kmeans_pca.fit(df_normalized_pca)\n",
    "kmeans_pca.inertia_ "
   ]
  },
  {
   "cell_type": "markdown",
   "id": "dc7e7582",
   "metadata": {},
   "source": [
    "# Correction"
   ]
  },
  {
   "cell_type": "markdown",
   "id": "cf318c76",
   "metadata": {},
   "source": [
    "After integrating our kmean model into our reconmender I could see, that the reconmended songs feel very random. My guess is, that k = 10 looks good technically, but is not suitable for this use case.\n",
    "We try again for a higher number of k."
   ]
  },
  {
   "cell_type": "code",
   "execution_count": null,
   "id": "c659f9e7",
   "metadata": {},
   "outputs": [],
   "source": [
    "kmeans_pca_30 = KMeans(n_clusters=30)\n",
    "kmeans_pca_30.fit(df_normalized_pca)\n",
    "kmeans_pca_30.inertia_ "
   ]
  },
  {
   "cell_type": "markdown",
   "id": "65b5ba7c",
   "metadata": {},
   "source": [
    "#### We try 45 classes"
   ]
  },
  {
   "cell_type": "code",
   "execution_count": null,
   "id": "413bfcc1",
   "metadata": {},
   "outputs": [],
   "source": [
    "kmeans_pca_45 = KMeans(n_clusters=45)\n",
    "kmeans_pca_45.fit(df_normalized_pca)\n",
    "kmeans_pca_45.inertia_"
   ]
  },
  {
   "cell_type": "markdown",
   "id": "b56ec847",
   "metadata": {},
   "source": [
    "# Saving the classifier\n",
    "We save the PCA treated model because of the lower inertia."
   ]
  },
  {
   "cell_type": "code",
   "execution_count": null,
   "id": "0e293bb8",
   "metadata": {},
   "outputs": [],
   "source": [
    "import pickle"
   ]
  },
  {
   "cell_type": "code",
   "execution_count": null,
   "id": "a85b8cf4",
   "metadata": {},
   "outputs": [],
   "source": [
    "pickle.dump(kmeans_pca, open('kmeans10.p', 'wb'))"
   ]
  },
  {
   "cell_type": "code",
   "execution_count": null,
   "id": "7734ef65",
   "metadata": {},
   "outputs": [],
   "source": [
    "pickle.dump(kmeans_pca_30, open('kmeans30.p', 'wb'))"
   ]
  },
  {
   "cell_type": "code",
   "execution_count": null,
   "id": "cfe2eee6",
   "metadata": {},
   "outputs": [],
   "source": [
    "pickle.dump(kmeans_pca_45, open('kmeans45.p', 'wb'))"
   ]
  },
  {
   "cell_type": "code",
   "execution_count": null,
   "id": "a899777f",
   "metadata": {},
   "outputs": [],
   "source": [
    "pickle.dump(pca, open('pca.p', 'wb'))"
   ]
  },
  {
   "cell_type": "code",
   "execution_count": null,
   "id": "8da32f2c",
   "metadata": {},
   "outputs": [],
   "source": [
    "pickle.dump(scaler, open('scaler.p', 'wb'))"
   ]
  },
  {
   "cell_type": "code",
   "execution_count": null,
   "id": "ec1679fc",
   "metadata": {},
   "outputs": [],
   "source": []
  },
  {
   "cell_type": "code",
   "execution_count": null,
   "id": "3023bf33",
   "metadata": {},
   "outputs": [],
   "source": []
  }
 ],
 "metadata": {
  "kernelspec": {
   "display_name": "Python 3 (ipykernel)",
   "language": "python",
   "name": "python3"
  },
  "language_info": {
   "codemirror_mode": {
    "name": "ipython",
    "version": 3
   },
   "file_extension": ".py",
   "mimetype": "text/x-python",
   "name": "python",
   "nbconvert_exporter": "python",
   "pygments_lexer": "ipython3",
   "version": "3.9.13"
  }
 },
 "nbformat": 4,
 "nbformat_minor": 5
}
