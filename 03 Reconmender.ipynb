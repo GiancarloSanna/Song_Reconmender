{
 "cells": [
  {
   "cell_type": "markdown",
   "id": "03bc4974",
   "metadata": {},
   "source": [
    "# Building the reconmender"
   ]
  },
  {
   "cell_type": "markdown",
   "id": "66872946",
   "metadata": {},
   "source": [
    "# 0. Preparation"
   ]
  },
  {
   "cell_type": "markdown",
   "id": "aa4056ae",
   "metadata": {},
   "source": [
    "#### Importing libraries"
   ]
  },
  {
   "cell_type": "code",
   "execution_count": null,
   "id": "0b2378e8",
   "metadata": {},
   "outputs": [],
   "source": [
    "from bs4 import BeautifulSoup\n",
    "import pandas as pd\n",
    "import requests"
   ]
  },
  {
   "cell_type": "code",
   "execution_count": null,
   "id": "8f3f9cbb",
   "metadata": {},
   "outputs": [],
   "source": [
    "import spotipy\n",
    "from spotipy.oauth2 import SpotifyClientCredentials\n",
    "from random import randint\n",
    "from time import sleep\n",
    "from itertools import islice\n",
    "from pandas import json_normalize"
   ]
  },
  {
   "cell_type": "code",
   "execution_count": null,
   "id": "02758d8c",
   "metadata": {},
   "outputs": [],
   "source": [
    "from sklearn import cluster, datasets\n",
    "from sklearn.preprocessing import StandardScaler\n",
    "from matplotlib.lines import Line2D"
   ]
  },
  {
   "cell_type": "code",
   "execution_count": null,
   "id": "896fb100",
   "metadata": {},
   "outputs": [],
   "source": [
    "import random\n",
    "import pickle\n",
    "from sklearn.decomposition import PCA"
   ]
  },
  {
   "cell_type": "markdown",
   "id": "14866c3d",
   "metadata": {},
   "source": [
    "#### Importing our music datafile"
   ]
  },
  {
   "cell_type": "code",
   "execution_count": null,
   "id": "efb05547",
   "metadata": {},
   "outputs": [],
   "source": [
    "df_list = []\n",
    "for i in range(1,101):\n",
    "    df_list.append(pd.read_csv('./Data/part'+str(i)+'.csv'))\n",
    "df_songs = pd.concat(df_list)\n",
    "display(df_songs.head(1))\n",
    "df_songs.shape"
   ]
  },
  {
   "cell_type": "code",
   "execution_count": null,
   "id": "166b786e",
   "metadata": {},
   "outputs": [],
   "source": [
    "df_songs.reset_index(drop = True)"
   ]
  },
  {
   "cell_type": "code",
   "execution_count": null,
   "id": "e7cbe6c7",
   "metadata": {},
   "outputs": [],
   "source": []
  },
  {
   "cell_type": "markdown",
   "id": "8ead7f21",
   "metadata": {},
   "source": [
    "#### Importing our scaler, classifier and pca"
   ]
  },
  {
   "cell_type": "code",
   "execution_count": null,
   "id": "216bbf27",
   "metadata": {},
   "outputs": [],
   "source": []
  },
  {
   "cell_type": "code",
   "execution_count": null,
   "id": "5a3b4130",
   "metadata": {},
   "outputs": [],
   "source": [
    "kmean = pickle.load(open('kmeans10.p','rb'))\n",
    "kmean"
   ]
  },
  {
   "cell_type": "code",
   "execution_count": null,
   "id": "3c05ac9b",
   "metadata": {},
   "outputs": [],
   "source": [
    "pca = pickle.load(open('pca.p','rb'))\n",
    "pca"
   ]
  },
  {
   "cell_type": "code",
   "execution_count": null,
   "id": "e4112eeb",
   "metadata": {},
   "outputs": [],
   "source": [
    "scaler = pickle.load(open('scaler.p','rb'))\n",
    "scaler"
   ]
  },
  {
   "cell_type": "markdown",
   "id": "ae0a55b6",
   "metadata": {},
   "source": [
    "# Task"
   ]
  },
  {
   "cell_type": "markdown",
   "id": "1ee656dc",
   "metadata": {},
   "source": [
    "1. Check whether or not the song is in the Billboard Hot 200.\n",
    "2. Collect the audio features from the Spotify API.\n",
    "After that, you want to send the Spotify audio features of the submitted song to the clustering model, which should return a cluster number."
   ]
  },
  {
   "cell_type": "markdown",
   "id": "af003c8e",
   "metadata": {},
   "source": [
    "# 1 Check if song is in the top 100 song list"
   ]
  },
  {
   "cell_type": "code",
   "execution_count": null,
   "id": "be5ce198",
   "metadata": {},
   "outputs": [],
   "source": [
    "def check_100(song,artist):\n",
    "    # Getting content of the page\n",
    "    url = \"http://www.popvortex.com/music/charts/top-100-songs.php\"\n",
    "    try:\n",
    "        response = requests.get(url, headers = {\"Accept-Language\": \"en-US\"})\n",
    "    except:\n",
    "        # Stopping if we get a bad response\n",
    "        print('Error while connecting to popvortex')\n",
    "        return False, [song,artist]\n",
    "    \n",
    "    # Parsing\n",
    "    soup = BeautifulSoup(response.content, 'html.parser')\n",
    "    \n",
    "    # Creating top 100 list\n",
    "    titles = []\n",
    "    artists = []\n",
    "    \n",
    "    for t in range(len(soup.select('.title'))):\n",
    "        titles.append(soup.select('.title')[t].get_text())\n",
    "    \n",
    "    for a in range(len(soup.select('.artist'))):\n",
    "        artists.append(soup.select('.artist')[a].get_text())\n",
    "    \n",
    "    # Creating dataframe\n",
    "    songs = pd.DataFrame({\"title\":titles,\n",
    "                       \"artist\":artists,\n",
    "                      })\n",
    "    \n",
    "    # Checking if input is in dataframe\n",
    "    userentry = songs[(songs.title == song) & (songs.artist == artist)].index\n",
    "    \n",
    "    # Responding\n",
    "    if userentry.size == 0:\n",
    "        return False, [song,artist]\n",
    "    else:\n",
    "        # Choose a random number except the one from the userinput\n",
    "        reconmendation = random.randint(0,99)\n",
    "        # If the random number is the the same as the userinput we have to redo the random\n",
    "        while reconmendation == userentry:\n",
    "           reconmendation = random.randint(0,99)\n",
    "        # returning True and the song\n",
    "        return True, [songs.loc[reconmendation,'title'],songs.artist[reconmendation]]"
   ]
  },
  {
   "cell_type": "code",
   "execution_count": null,
   "id": "af952c8b",
   "metadata": {},
   "outputs": [],
   "source": [
    "print(check_100('Anti-Hero','Taylor Swift'))"
   ]
  },
  {
   "cell_type": "code",
   "execution_count": null,
   "id": "5cc41910",
   "metadata": {},
   "outputs": [],
   "source": [
    "print(check_100('Not a song','Donald Trump'))"
   ]
  },
  {
   "cell_type": "markdown",
   "id": "77edc0b2",
   "metadata": {},
   "source": [
    "# 2. Collect the audio features from the Spotify API."
   ]
  },
  {
   "cell_type": "markdown",
   "id": "a3f0ee34",
   "metadata": {},
   "source": [
    "#### Getting access to the spotify API"
   ]
  },
  {
   "cell_type": "code",
   "execution_count": null,
   "id": "38776b22",
   "metadata": {},
   "outputs": [],
   "source": [
    "def access_get():\n",
    "    secrets_file = open(\"Access.txt\",\"r\")\n",
    "    string = secrets_file.read()\n",
    "    secrets_dict={}\n",
    "    for line in string.split('\\n'):\n",
    "        if len(line) > 0:\n",
    "            secrets_dict[line.split(':')[0]]=line.split(':')[1]\n",
    "    # Initialising connection\n",
    "    sp = spotipy.Spotify(auth_manager=SpotifyClientCredentials(client_id=secrets_dict['clientid'],\n",
    "                                                           client_secret=secrets_dict['clientsecret']))\n",
    "    return sp"
   ]
  },
  {
   "cell_type": "code",
   "execution_count": null,
   "id": "5fc26d9f",
   "metadata": {},
   "outputs": [],
   "source": [
    "sp = access_get()\n",
    "sp"
   ]
  },
  {
   "cell_type": "markdown",
   "id": "baa8c284",
   "metadata": {},
   "source": [
    "#### First we need to get the song uri to be able to extract the features"
   ]
  },
  {
   "cell_type": "code",
   "execution_count": null,
   "id": "29f35c19",
   "metadata": {},
   "outputs": [],
   "source": [
    "def find_song_uri(song,artist):\n",
    "    try:\n",
    "        # Searching for the song\n",
    "        result = sp.search(q=song+' '+artist, limit=1)\n",
    "        uri = result['tracks']['items'][0]['uri']\n",
    "        return uri\n",
    "    except:\n",
    "        # Returning a placeholder in case of a connection error\n",
    "        print('Connection error while finding uri')\n",
    "        return find_song_uri(song,artist)"
   ]
  },
  {
   "cell_type": "code",
   "execution_count": null,
   "id": "b5925106",
   "metadata": {},
   "outputs": [],
   "source": [
    "find_song_uri('Die Ärzte','Westerland')"
   ]
  },
  {
   "cell_type": "markdown",
   "id": "42f45c04",
   "metadata": {},
   "source": [
    "#### Now getting the features"
   ]
  },
  {
   "cell_type": "code",
   "execution_count": null,
   "id": "c20fb440",
   "metadata": {},
   "outputs": [],
   "source": [
    "def get_features(uri):\n",
    "    try:\n",
    "        return sp.audio_features(uri)\n",
    "    except:\n",
    "        sleep(randint(1,2)) # respectful nap in case connection breaks\n",
    "        print('Error occured while getting feature names')\n",
    "        return get_features(uri)"
   ]
  },
  {
   "cell_type": "code",
   "execution_count": null,
   "id": "4ded38db",
   "metadata": {},
   "outputs": [],
   "source": [
    "features = get_features('spotify:track:5aWpvFnByyWodgqYlC9kha')"
   ]
  },
  {
   "cell_type": "code",
   "execution_count": null,
   "id": "076cae1f",
   "metadata": {},
   "outputs": [],
   "source": [
    "features[0]['danceability']"
   ]
  },
  {
   "cell_type": "markdown",
   "id": "f8e13cef",
   "metadata": {},
   "source": [
    "#### Making prediction based on features"
   ]
  },
  {
   "cell_type": "markdown",
   "id": "6fa27f95",
   "metadata": {},
   "source": [
    "First we have to transform the features into a useful format"
   ]
  },
  {
   "cell_type": "code",
   "execution_count": null,
   "id": "2735eb8f",
   "metadata": {},
   "outputs": [],
   "source": [
    "def flatten_features(features):\n",
    "    featurelist = []\n",
    "    try:\n",
    "        featurelist = [[\n",
    "        features[0]['danceability'],\n",
    "        features[0]['energy'],\n",
    "        features[0]['key'],\n",
    "        features[0]['loudness'],\n",
    "        features[0]['mode'],\n",
    "        features[0]['speechiness'],\n",
    "        features[0]['acousticness'],\n",
    "        features[0]['instrumentalness'],\n",
    "        features[0]['liveness'],\n",
    "        features[0]['valence'],\n",
    "        features[0]['tempo']\n",
    "            ]]\n",
    "    except:\n",
    "        featurelist.append([0,0,0,0,0,0,0,0,0,0,0])\n",
    "    return pd.DataFrame(featurelist, columns = ['danceability','energy','key','loudness','mode','speechiness','acousticness','instrumentalness','liveness','valence','tempo'])"
   ]
  },
  {
   "cell_type": "code",
   "execution_count": null,
   "id": "3707e5e6",
   "metadata": {},
   "outputs": [],
   "source": [
    "features_flat = flatten_features(features)"
   ]
  },
  {
   "cell_type": "code",
   "execution_count": null,
   "id": "d86f83c6",
   "metadata": {},
   "outputs": [],
   "source": [
    "def prediction(features,kmodel):\n",
    "    # Normalize\n",
    "    features_scaled = pd.DataFrame(scaler.transform(features), columns=features.columns)\n",
    "    # Apply PCA\n",
    "    features_scaled_pca = pca.transform(features_scaled)\n",
    "    # Predict\n",
    "    cluster = kmodel.predict(features_scaled_pca)\n",
    "    \n",
    "    return cluster[0]"
   ]
  },
  {
   "cell_type": "code",
   "execution_count": null,
   "id": "87617fa3",
   "metadata": {},
   "outputs": [],
   "source": [
    "prediction(features_flat,kmean)"
   ]
  },
  {
   "cell_type": "markdown",
   "id": "60fa29e9",
   "metadata": {},
   "source": [
    "# 3. Buildung the reconmender\n",
    "1. As an input the reconmender will take a song title and an artist\n",
    "2. If the song is in the top 100 it will return a random song from that list\n",
    "3. If not, it will get the audio features from spotify and predict a class, and reconmend a song from there"
   ]
  },
  {
   "cell_type": "markdown",
   "id": "84242744",
   "metadata": {},
   "source": [
    "#### 0. Classify df_songs\n",
    "To make a reconmendation, we first have to classify our existing songs"
   ]
  },
  {
   "cell_type": "code",
   "execution_count": null,
   "id": "8d13afbe",
   "metadata": {},
   "outputs": [],
   "source": [
    "# pd.DataFrame(df_songs.iloc[1][['danceability','energy','key','loudness','mode','speechiness','acousticness','instrumentalness','liveness','valence','tempo']]).T"
   ]
  },
  {
   "cell_type": "code",
   "execution_count": null,
   "id": "e9d4702c",
   "metadata": {},
   "outputs": [],
   "source": [
    "def classifier(kmodel):\n",
    "    pred_list = []\n",
    "    # Making predictions\n",
    "    for rownum in df_songs.index:\n",
    "        # do something with a row\n",
    "        pred_list.append(prediction(pd.DataFrame(df_songs.iloc[rownum][['danceability','energy','key','loudness','mode','speechiness','acousticness','instrumentalness','liveness','valence','tempo']]).T,kmodel))\n",
    "    df_songs['class'] = pred_list"
   ]
  },
  {
   "cell_type": "code",
   "execution_count": null,
   "id": "4ab4c03e",
   "metadata": {},
   "outputs": [],
   "source": [
    "# classifier(kmean)"
   ]
  },
  {
   "cell_type": "code",
   "execution_count": null,
   "id": "fefe77ef",
   "metadata": {},
   "outputs": [],
   "source": [
    "# df_songs.head(10)"
   ]
  },
  {
   "cell_type": "markdown",
   "id": "06c7c8f3",
   "metadata": {},
   "source": [
    "#### Saving to csv\n",
    "Getting all predictions took a while. I will save the dataframe to csv, so that I dont have to redo it."
   ]
  },
  {
   "cell_type": "code",
   "execution_count": null,
   "id": "f12066fa",
   "metadata": {},
   "outputs": [],
   "source": [
    "# df_songs.to_csv('./Data/songspredicted.csv', index=False)"
   ]
  },
  {
   "cell_type": "code",
   "execution_count": null,
   "id": "2ce2a8b4",
   "metadata": {},
   "outputs": [],
   "source": [
    "songs_predicted = pd.read_csv('./Data/songspredicted.csv')"
   ]
  },
  {
   "cell_type": "code",
   "execution_count": null,
   "id": "1225a805",
   "metadata": {},
   "outputs": [],
   "source": [
    "reconmender(kmean,songs_predicted)"
   ]
  },
  {
   "cell_type": "code",
   "execution_count": null,
   "id": "42c2ab18",
   "metadata": {},
   "outputs": [],
   "source": [
    "songs_predicted['class'].value_counts()"
   ]
  },
  {
   "cell_type": "markdown",
   "id": "f5e88c8b",
   "metadata": {},
   "source": [
    "## The Reconmender"
   ]
  },
  {
   "cell_type": "code",
   "execution_count": null,
   "id": "5940629a",
   "metadata": {},
   "outputs": [],
   "source": [
    "def reconmender(kmodel,songs_predicted):\n",
    "    # Getting the input\n",
    "    song = input('Enter a song:   ')\n",
    "    artist = input('Enter an artist:   ')\n",
    "    \n",
    "    # We check if the song is in the top 100\n",
    "    boolean, reconmendation = check_100(song,artist)\n",
    "    if boolean == True:\n",
    "        # If the song is in the top 100 we return the reconmendation from there\n",
    "        print('\\n\\n\\n''You might like \"' + reconmendation[0] +'\" from \"' + reconmendation[1] + '\" ! One of the top 100 songs on popvortex!')\n",
    "        return [reconmendation[0],reconmendation[1]]\n",
    "\n",
    "    \n",
    "    # If not we continue with spotify\n",
    "    uri = find_song_uri(song,artist)\n",
    "#     print(uri)\n",
    "    features = get_features(uri)\n",
    "    features = flatten_features(features)\n",
    "    pred = prediction(features,kmodel)\n",
    "    \n",
    "    # We specify from which songs there will be a selection:\n",
    "    # We have to take care if the prediction class exists:\n",
    "    if pred in songs_predicted['class'].unique():\n",
    "        selection = songs_predicted[songs_predicted['class'] == pred].reset_index(drop = True)\n",
    "    else:\n",
    "        print('No similar song in the database!')\n",
    "        return\n",
    "    \n",
    "    # Selecting a random song from the selection\n",
    "    rec_nr = random.randint(0,len(selection))\n",
    "#     print(rec_nr)\n",
    "    title_r = selection.iloc[rec_nr]['title']\n",
    "    artist_r = selection.iloc[rec_nr]['artist_name']\n",
    "    \n",
    "    print('\\n\\n\\n''You might like \"' + title_r +'\" from \"' + artist_r + '\" !\\nThis song has similar audiofeatures to your selcetion!')"
   ]
  },
  {
   "cell_type": "markdown",
   "id": "6f4084b9",
   "metadata": {},
   "source": [
    "# Testing"
   ]
  },
  {
   "cell_type": "code",
   "execution_count": null,
   "id": "9fdbb85a",
   "metadata": {
    "scrolled": true
   },
   "outputs": [],
   "source": [
    "# reconmender(kmean,songs_predicted)"
   ]
  },
  {
   "cell_type": "markdown",
   "id": "fb006e9f",
   "metadata": {},
   "source": [
    "# Conclusion"
   ]
  },
  {
   "cell_type": "markdown",
   "id": "a3af3f64",
   "metadata": {},
   "source": [
    "Thge tests did not feel like a good reconmendation, I will try again with a higher number of K"
   ]
  },
  {
   "cell_type": "code",
   "execution_count": null,
   "id": "e95610bd",
   "metadata": {},
   "outputs": [],
   "source": [
    "kmean30 = pickle.load(open('kmeans30.p','rb'))\n",
    "kmean30"
   ]
  },
  {
   "cell_type": "markdown",
   "id": "965226fd",
   "metadata": {},
   "source": [
    "#### We have to reclassify our dataset"
   ]
  },
  {
   "cell_type": "code",
   "execution_count": null,
   "id": "3aa9d2ba",
   "metadata": {},
   "outputs": [],
   "source": [
    "# classifier(kmean30)"
   ]
  },
  {
   "cell_type": "code",
   "execution_count": null,
   "id": "08f9c906",
   "metadata": {},
   "outputs": [],
   "source": [
    "# df_songs.to_csv('./Data/songspredicted30.csv', index=False)\n",
    "songs_predicted30 = pd.read_csv('./Data/songspredicted30.csv')"
   ]
  },
  {
   "cell_type": "code",
   "execution_count": null,
   "id": "1229ccf3",
   "metadata": {
    "scrolled": true
   },
   "outputs": [],
   "source": [
    "# songs_predicted30['class'].value_counts()"
   ]
  },
  {
   "cell_type": "markdown",
   "id": "f4b2823b",
   "metadata": {},
   "source": [
    "# Trying improved reconmender"
   ]
  },
  {
   "cell_type": "code",
   "execution_count": null,
   "id": "c03383c2",
   "metadata": {
    "scrolled": true
   },
   "outputs": [],
   "source": [
    "reconmender(kmean30,songs_predicted30)"
   ]
  },
  {
   "cell_type": "markdown",
   "id": "83846200",
   "metadata": {},
   "source": []
  },
  {
   "cell_type": "markdown",
   "id": "124dc88b",
   "metadata": {},
   "source": [
    "# More classes\n",
    "The songs got much more similar we try to get with 45 classes"
   ]
  },
  {
   "cell_type": "code",
   "execution_count": null,
   "id": "a73b85ef",
   "metadata": {},
   "outputs": [],
   "source": [
    "kmean45 = pickle.load(open('kmeans45.p','rb'))\n",
    "kmean45"
   ]
  },
  {
   "cell_type": "code",
   "execution_count": null,
   "id": "1f97223d",
   "metadata": {},
   "outputs": [],
   "source": [
    "# classifier(kmean45)"
   ]
  },
  {
   "cell_type": "code",
   "execution_count": null,
   "id": "dacd8414",
   "metadata": {},
   "outputs": [],
   "source": [
    "# df_songs.to_csv('./Data/songspredicted45.csv', index=False)\n",
    "songs_predicted45 = pd.read_csv('./Data/songspredicted45.csv')"
   ]
  },
  {
   "cell_type": "markdown",
   "id": "6d5a10ed",
   "metadata": {},
   "source": [
    "# Final version"
   ]
  },
  {
   "cell_type": "markdown",
   "id": "a81d3e79",
   "metadata": {},
   "source": [
    "#### Testing again"
   ]
  },
  {
   "cell_type": "code",
   "execution_count": null,
   "id": "8b6dc33d",
   "metadata": {},
   "outputs": [],
   "source": [
    "reconmender(kmean45,songs_predicted45)"
   ]
  },
  {
   "cell_type": "code",
   "execution_count": null,
   "id": "be8c95a5",
   "metadata": {},
   "outputs": [],
   "source": []
  },
  {
   "cell_type": "markdown",
   "id": "f58abdd5",
   "metadata": {},
   "source": [
    "## Why it did not work in class:"
   ]
  },
  {
   "cell_type": "code",
   "execution_count": null,
   "id": "bd2ccd23",
   "metadata": {},
   "outputs": [],
   "source": [
    "len(songs_predicted45['class'].unique())"
   ]
  },
  {
   "cell_type": "markdown",
   "id": "624ad197",
   "metadata": {},
   "source": [
    "Apparently while classifying some classes were omitted, if the new song lies within the classes, that do not appear in the dataframe, the selection does not work, since it obviously does not find songs of the same class.\n",
    "\n",
    "So either I would stick with the lower amount of classes or accept that it could not assign the input song to an existing group and print out a corresponding message.\n",
    "\n",
    "I put in an if check for this case and print out, that no similar song was found."
   ]
  }
 ],
 "metadata": {
  "kernelspec": {
   "display_name": "Python 3 (ipykernel)",
   "language": "python",
   "name": "python3"
  },
  "language_info": {
   "codemirror_mode": {
    "name": "ipython",
    "version": 3
   },
   "file_extension": ".py",
   "mimetype": "text/x-python",
   "name": "python",
   "nbconvert_exporter": "python",
   "pygments_lexer": "ipython3",
   "version": "3.9.13"
  }
 },
 "nbformat": 4,
 "nbformat_minor": 5
}
