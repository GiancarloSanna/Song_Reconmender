{
 "cells": [
  {
   "cell_type": "markdown",
   "id": "03bc4974",
   "metadata": {},
   "source": [
    "# Building the reconmender"
   ]
  },
  {
   "cell_type": "markdown",
   "id": "66872946",
   "metadata": {},
   "source": [
    "# 0. Preparation"
   ]
  },
  {
   "cell_type": "markdown",
   "id": "aa4056ae",
   "metadata": {},
   "source": [
    "#### Importing libraries"
   ]
  },
  {
   "cell_type": "code",
   "execution_count": 1,
   "id": "0b2378e8",
   "metadata": {},
   "outputs": [],
   "source": [
    "from bs4 import BeautifulSoup\n",
    "import pandas as pd\n",
    "import requests"
   ]
  },
  {
   "cell_type": "code",
   "execution_count": 2,
   "id": "8f3f9cbb",
   "metadata": {},
   "outputs": [],
   "source": [
    "import spotipy\n",
    "from spotipy.oauth2 import SpotifyClientCredentials\n",
    "from random import randint\n",
    "from time import sleep\n",
    "from itertools import islice\n",
    "from pandas import json_normalize"
   ]
  },
  {
   "cell_type": "code",
   "execution_count": 3,
   "id": "02758d8c",
   "metadata": {},
   "outputs": [],
   "source": [
    "from sklearn import cluster, datasets\n",
    "from sklearn.preprocessing import StandardScaler\n",
    "from matplotlib.lines import Line2D"
   ]
  },
  {
   "cell_type": "code",
   "execution_count": 4,
   "id": "896fb100",
   "metadata": {},
   "outputs": [],
   "source": [
    "import random\n",
    "import pickle\n",
    "from sklearn.decomposition import PCA"
   ]
  },
  {
   "cell_type": "markdown",
   "id": "14866c3d",
   "metadata": {},
   "source": [
    "#### Importing our music datafile"
   ]
  },
  {
   "cell_type": "code",
   "execution_count": 5,
   "id": "efb05547",
   "metadata": {},
   "outputs": [
    {
     "data": {
      "text/html": [
       "<div>\n",
       "<style scoped>\n",
       "    .dataframe tbody tr th:only-of-type {\n",
       "        vertical-align: middle;\n",
       "    }\n",
       "\n",
       "    .dataframe tbody tr th {\n",
       "        vertical-align: top;\n",
       "    }\n",
       "\n",
       "    .dataframe thead th {\n",
       "        text-align: right;\n",
       "    }\n",
       "</style>\n",
       "<table border=\"1\" class=\"dataframe\">\n",
       "  <thead>\n",
       "    <tr style=\"text-align: right;\">\n",
       "      <th></th>\n",
       "      <th>uri</th>\n",
       "      <th>title</th>\n",
       "      <th>artist_name</th>\n",
       "      <th>artist_id</th>\n",
       "      <th>album_id</th>\n",
       "      <th>album_name</th>\n",
       "      <th>length</th>\n",
       "      <th>explicit</th>\n",
       "      <th>popularity</th>\n",
       "      <th>danceability</th>\n",
       "      <th>energy</th>\n",
       "      <th>key</th>\n",
       "      <th>loudness</th>\n",
       "      <th>mode</th>\n",
       "      <th>speechiness</th>\n",
       "      <th>acousticness</th>\n",
       "      <th>instrumentalness</th>\n",
       "      <th>liveness</th>\n",
       "      <th>valence</th>\n",
       "      <th>tempo</th>\n",
       "    </tr>\n",
       "  </thead>\n",
       "  <tbody>\n",
       "    <tr>\n",
       "      <th>0</th>\n",
       "      <td>spotify:track:7zgqtptZvhf8GEmdsM2vp2</td>\n",
       "      <td>...Ready For It?</td>\n",
       "      <td>Taylor Swift</td>\n",
       "      <td>06HL4z0CvFAxyc27GXpf02</td>\n",
       "      <td>0HG8fMDhvN2tH5uPHFsyZP</td>\n",
       "      <td>...Ready For It?</td>\n",
       "      <td>208198</td>\n",
       "      <td>False</td>\n",
       "      <td>0</td>\n",
       "      <td>0.615</td>\n",
       "      <td>0.779</td>\n",
       "      <td>2</td>\n",
       "      <td>-6.454</td>\n",
       "      <td>1</td>\n",
       "      <td>0.135</td>\n",
       "      <td>0.0665</td>\n",
       "      <td>0.0</td>\n",
       "      <td>0.155</td>\n",
       "      <td>0.453</td>\n",
       "      <td>160.0</td>\n",
       "    </tr>\n",
       "  </tbody>\n",
       "</table>\n",
       "</div>"
      ],
      "text/plain": [
       "                                    uri             title   artist_name  \\\n",
       "0  spotify:track:7zgqtptZvhf8GEmdsM2vp2  ...Ready For It?  Taylor Swift   \n",
       "\n",
       "                artist_id                album_id        album_name  length  \\\n",
       "0  06HL4z0CvFAxyc27GXpf02  0HG8fMDhvN2tH5uPHFsyZP  ...Ready For It?  208198   \n",
       "\n",
       "   explicit  popularity  danceability  energy  key  loudness  mode  \\\n",
       "0     False           0         0.615   0.779    2    -6.454     1   \n",
       "\n",
       "   speechiness  acousticness  instrumentalness  liveness  valence  tempo  \n",
       "0        0.135        0.0665               0.0     0.155    0.453  160.0  "
      ]
     },
     "metadata": {},
     "output_type": "display_data"
    },
    {
     "data": {
      "text/plain": [
       "(10000, 20)"
      ]
     },
     "execution_count": 5,
     "metadata": {},
     "output_type": "execute_result"
    }
   ],
   "source": [
    "df_list = []\n",
    "for i in range(1,101):\n",
    "    df_list.append(pd.read_csv('./Data/part'+str(i)+'.csv'))\n",
    "df_songs = pd.concat(df_list)\n",
    "display(df_songs.head(1))\n",
    "df_songs.shape"
   ]
  },
  {
   "cell_type": "code",
   "execution_count": 6,
   "id": "166b786e",
   "metadata": {},
   "outputs": [
    {
     "data": {
      "text/html": [
       "<div>\n",
       "<style scoped>\n",
       "    .dataframe tbody tr th:only-of-type {\n",
       "        vertical-align: middle;\n",
       "    }\n",
       "\n",
       "    .dataframe tbody tr th {\n",
       "        vertical-align: top;\n",
       "    }\n",
       "\n",
       "    .dataframe thead th {\n",
       "        text-align: right;\n",
       "    }\n",
       "</style>\n",
       "<table border=\"1\" class=\"dataframe\">\n",
       "  <thead>\n",
       "    <tr style=\"text-align: right;\">\n",
       "      <th></th>\n",
       "      <th>uri</th>\n",
       "      <th>title</th>\n",
       "      <th>artist_name</th>\n",
       "      <th>artist_id</th>\n",
       "      <th>album_id</th>\n",
       "      <th>album_name</th>\n",
       "      <th>length</th>\n",
       "      <th>explicit</th>\n",
       "      <th>popularity</th>\n",
       "      <th>danceability</th>\n",
       "      <th>energy</th>\n",
       "      <th>key</th>\n",
       "      <th>loudness</th>\n",
       "      <th>mode</th>\n",
       "      <th>speechiness</th>\n",
       "      <th>acousticness</th>\n",
       "      <th>instrumentalness</th>\n",
       "      <th>liveness</th>\n",
       "      <th>valence</th>\n",
       "      <th>tempo</th>\n",
       "    </tr>\n",
       "  </thead>\n",
       "  <tbody>\n",
       "    <tr>\n",
       "      <th>0</th>\n",
       "      <td>spotify:track:7zgqtptZvhf8GEmdsM2vp2</td>\n",
       "      <td>...Ready For It?</td>\n",
       "      <td>Taylor Swift</td>\n",
       "      <td>06HL4z0CvFAxyc27GXpf02</td>\n",
       "      <td>0HG8fMDhvN2tH5uPHFsyZP</td>\n",
       "      <td>...Ready For It?</td>\n",
       "      <td>208198</td>\n",
       "      <td>False</td>\n",
       "      <td>0</td>\n",
       "      <td>0.615</td>\n",
       "      <td>0.779</td>\n",
       "      <td>2</td>\n",
       "      <td>-6.454</td>\n",
       "      <td>1</td>\n",
       "      <td>0.1350</td>\n",
       "      <td>0.06650</td>\n",
       "      <td>0.000000</td>\n",
       "      <td>0.1550</td>\n",
       "      <td>0.453</td>\n",
       "      <td>160.000</td>\n",
       "    </tr>\n",
       "    <tr>\n",
       "      <th>1</th>\n",
       "      <td>spotify:track:4Vxu50qVrQcycjRyJQaZLC</td>\n",
       "      <td>Life Changes</td>\n",
       "      <td>Thomas Rhett</td>\n",
       "      <td>6x2LnllRG5uGarZMsD4iO8</td>\n",
       "      <td>4w5Jvreahp3yvLqc4vCr9I</td>\n",
       "      <td>Life Changes</td>\n",
       "      <td>190226</td>\n",
       "      <td>False</td>\n",
       "      <td>63</td>\n",
       "      <td>0.687</td>\n",
       "      <td>0.845</td>\n",
       "      <td>7</td>\n",
       "      <td>-4.370</td>\n",
       "      <td>1</td>\n",
       "      <td>0.0576</td>\n",
       "      <td>0.10000</td>\n",
       "      <td>0.000000</td>\n",
       "      <td>0.0452</td>\n",
       "      <td>0.809</td>\n",
       "      <td>87.972</td>\n",
       "    </tr>\n",
       "    <tr>\n",
       "      <th>2</th>\n",
       "      <td>spotify:track:6b8Be6ljOzmkOmFslEb23P</td>\n",
       "      <td>24K Magic</td>\n",
       "      <td>Bruno Mars</td>\n",
       "      <td>0du5cEVh5yTK9QJze8zA0C</td>\n",
       "      <td>4PgleR09JVnm3zY1fW3XBA</td>\n",
       "      <td>24K Magic</td>\n",
       "      <td>225983</td>\n",
       "      <td>False</td>\n",
       "      <td>81</td>\n",
       "      <td>0.818</td>\n",
       "      <td>0.803</td>\n",
       "      <td>1</td>\n",
       "      <td>-4.282</td>\n",
       "      <td>1</td>\n",
       "      <td>0.0797</td>\n",
       "      <td>0.03400</td>\n",
       "      <td>0.000000</td>\n",
       "      <td>0.1530</td>\n",
       "      <td>0.632</td>\n",
       "      <td>106.970</td>\n",
       "    </tr>\n",
       "    <tr>\n",
       "      <th>3</th>\n",
       "      <td>spotify:track:0afhq8XCExXpqazXczTSve</td>\n",
       "      <td>Galway Girl</td>\n",
       "      <td>Ed Sheeran</td>\n",
       "      <td>6eUKZXaKkcviH0Ku9w2n3V</td>\n",
       "      <td>3T4tUhGYeRNVUGevb0wThu</td>\n",
       "      <td>÷ (Deluxe)</td>\n",
       "      <td>170826</td>\n",
       "      <td>False</td>\n",
       "      <td>80</td>\n",
       "      <td>0.624</td>\n",
       "      <td>0.876</td>\n",
       "      <td>9</td>\n",
       "      <td>-3.374</td>\n",
       "      <td>1</td>\n",
       "      <td>0.1000</td>\n",
       "      <td>0.07350</td>\n",
       "      <td>0.000000</td>\n",
       "      <td>0.3270</td>\n",
       "      <td>0.781</td>\n",
       "      <td>99.943</td>\n",
       "    </tr>\n",
       "    <tr>\n",
       "      <th>4</th>\n",
       "      <td>spotify:track:1HNkqx9Ahdgi1Ixy2xkKkL</td>\n",
       "      <td>Photograph</td>\n",
       "      <td>Ed Sheeran</td>\n",
       "      <td>6eUKZXaKkcviH0Ku9w2n3V</td>\n",
       "      <td>1xn54DMo2qIqBuMqHtUsFd</td>\n",
       "      <td>x (Deluxe Edition)</td>\n",
       "      <td>258986</td>\n",
       "      <td>False</td>\n",
       "      <td>86</td>\n",
       "      <td>0.614</td>\n",
       "      <td>0.379</td>\n",
       "      <td>4</td>\n",
       "      <td>-10.480</td>\n",
       "      <td>1</td>\n",
       "      <td>0.0476</td>\n",
       "      <td>0.60700</td>\n",
       "      <td>0.000464</td>\n",
       "      <td>0.0986</td>\n",
       "      <td>0.201</td>\n",
       "      <td>107.989</td>\n",
       "    </tr>\n",
       "    <tr>\n",
       "      <th>...</th>\n",
       "      <td>...</td>\n",
       "      <td>...</td>\n",
       "      <td>...</td>\n",
       "      <td>...</td>\n",
       "      <td>...</td>\n",
       "      <td>...</td>\n",
       "      <td>...</td>\n",
       "      <td>...</td>\n",
       "      <td>...</td>\n",
       "      <td>...</td>\n",
       "      <td>...</td>\n",
       "      <td>...</td>\n",
       "      <td>...</td>\n",
       "      <td>...</td>\n",
       "      <td>...</td>\n",
       "      <td>...</td>\n",
       "      <td>...</td>\n",
       "      <td>...</td>\n",
       "      <td>...</td>\n",
       "      <td>...</td>\n",
       "    </tr>\n",
       "    <tr>\n",
       "      <th>9995</th>\n",
       "      <td>spotify:track:4UFlPCB4THnQ9TlPHqIQow</td>\n",
       "      <td>Funeral For A Friend / Love Lies Bleeding</td>\n",
       "      <td>Elton John</td>\n",
       "      <td>3PhoLpVuITZKcymswpck5b</td>\n",
       "      <td>6Gp6qSE1ywXCLjal5NUWUE</td>\n",
       "      <td>Goodbye Yellow Brick Road (40th Anniversary Ce...</td>\n",
       "      <td>666571</td>\n",
       "      <td>False</td>\n",
       "      <td>0</td>\n",
       "      <td>0.410</td>\n",
       "      <td>0.761</td>\n",
       "      <td>9</td>\n",
       "      <td>-8.507</td>\n",
       "      <td>0</td>\n",
       "      <td>0.0465</td>\n",
       "      <td>0.01980</td>\n",
       "      <td>0.084700</td>\n",
       "      <td>0.2470</td>\n",
       "      <td>0.193</td>\n",
       "      <td>138.712</td>\n",
       "    </tr>\n",
       "    <tr>\n",
       "      <th>9996</th>\n",
       "      <td>spotify:track:5pSSEkT0963muzzIjsVkrs</td>\n",
       "      <td>Fool's Overture</td>\n",
       "      <td>Supertramp</td>\n",
       "      <td>3JsMj0DEzyWc0VDlHuy9Bx</td>\n",
       "      <td>4X87hQ57jTYQTcYTaJWK5w</td>\n",
       "      <td>Even In The Quietest Moments</td>\n",
       "      <td>652560</td>\n",
       "      <td>False</td>\n",
       "      <td>55</td>\n",
       "      <td>0.406</td>\n",
       "      <td>0.306</td>\n",
       "      <td>3</td>\n",
       "      <td>-10.482</td>\n",
       "      <td>1</td>\n",
       "      <td>0.0372</td>\n",
       "      <td>0.31300</td>\n",
       "      <td>0.007900</td>\n",
       "      <td>0.0727</td>\n",
       "      <td>0.073</td>\n",
       "      <td>135.272</td>\n",
       "    </tr>\n",
       "    <tr>\n",
       "      <th>9997</th>\n",
       "      <td>spotify:track:7gC6Rbllqf1yXNC02e5jz2</td>\n",
       "      <td>Heart of the Sunrise - 2003 Remaster</td>\n",
       "      <td>Yes</td>\n",
       "      <td>7AC976RDJzL2asmZuz7qil</td>\n",
       "      <td>0dZF93WHyOhTWjz5EWM7yG</td>\n",
       "      <td>Fragile (Deluxe Edition)</td>\n",
       "      <td>634440</td>\n",
       "      <td>False</td>\n",
       "      <td>47</td>\n",
       "      <td>0.362</td>\n",
       "      <td>0.507</td>\n",
       "      <td>1</td>\n",
       "      <td>-11.229</td>\n",
       "      <td>1</td>\n",
       "      <td>0.0394</td>\n",
       "      <td>0.01740</td>\n",
       "      <td>0.216000</td>\n",
       "      <td>0.1130</td>\n",
       "      <td>0.456</td>\n",
       "      <td>146.641</td>\n",
       "    </tr>\n",
       "    <tr>\n",
       "      <th>9998</th>\n",
       "      <td>spotify:track:6Ff77WXC58MkhLE5A1qgY1</td>\n",
       "      <td>Venus And Mars / Rock Show / Jet - Live / Rema...</td>\n",
       "      <td>Paul McCartney</td>\n",
       "      <td>4STHEaNw4mPZ2tzheohgXB</td>\n",
       "      <td>2GVLsiEMDZhxOMATIPBK4d</td>\n",
       "      <td>Wings Over America (Remastered)</td>\n",
       "      <td>620746</td>\n",
       "      <td>False</td>\n",
       "      <td>0</td>\n",
       "      <td>0.331</td>\n",
       "      <td>0.733</td>\n",
       "      <td>2</td>\n",
       "      <td>-8.671</td>\n",
       "      <td>1</td>\n",
       "      <td>0.0468</td>\n",
       "      <td>0.08870</td>\n",
       "      <td>0.001740</td>\n",
       "      <td>0.9470</td>\n",
       "      <td>0.380</td>\n",
       "      <td>128.512</td>\n",
       "    </tr>\n",
       "    <tr>\n",
       "      <th>9999</th>\n",
       "      <td>spotify:track:1is5wwajEk2JW7Nsd63r3m</td>\n",
       "      <td>Mr. Brightside</td>\n",
       "      <td>The Killers</td>\n",
       "      <td>0C0XlULifJtAgn6ZNCW2eu</td>\n",
       "      <td>6SODLjPAWEhIlsb9Ewt7ez</td>\n",
       "      <td>Hot Fuss</td>\n",
       "      <td>222106</td>\n",
       "      <td>False</td>\n",
       "      <td>0</td>\n",
       "      <td>0.342</td>\n",
       "      <td>0.932</td>\n",
       "      <td>1</td>\n",
       "      <td>-3.644</td>\n",
       "      <td>1</td>\n",
       "      <td>0.0868</td>\n",
       "      <td>0.00106</td>\n",
       "      <td>0.000000</td>\n",
       "      <td>0.0938</td>\n",
       "      <td>0.226</td>\n",
       "      <td>148.148</td>\n",
       "    </tr>\n",
       "  </tbody>\n",
       "</table>\n",
       "<p>10000 rows × 20 columns</p>\n",
       "</div>"
      ],
      "text/plain": [
       "                                       uri  \\\n",
       "0     spotify:track:7zgqtptZvhf8GEmdsM2vp2   \n",
       "1     spotify:track:4Vxu50qVrQcycjRyJQaZLC   \n",
       "2     spotify:track:6b8Be6ljOzmkOmFslEb23P   \n",
       "3     spotify:track:0afhq8XCExXpqazXczTSve   \n",
       "4     spotify:track:1HNkqx9Ahdgi1Ixy2xkKkL   \n",
       "...                                    ...   \n",
       "9995  spotify:track:4UFlPCB4THnQ9TlPHqIQow   \n",
       "9996  spotify:track:5pSSEkT0963muzzIjsVkrs   \n",
       "9997  spotify:track:7gC6Rbllqf1yXNC02e5jz2   \n",
       "9998  spotify:track:6Ff77WXC58MkhLE5A1qgY1   \n",
       "9999  spotify:track:1is5wwajEk2JW7Nsd63r3m   \n",
       "\n",
       "                                                  title     artist_name  \\\n",
       "0                                      ...Ready For It?    Taylor Swift   \n",
       "1                                          Life Changes    Thomas Rhett   \n",
       "2                                             24K Magic      Bruno Mars   \n",
       "3                                           Galway Girl      Ed Sheeran   \n",
       "4                                            Photograph      Ed Sheeran   \n",
       "...                                                 ...             ...   \n",
       "9995          Funeral For A Friend / Love Lies Bleeding      Elton John   \n",
       "9996                                    Fool's Overture      Supertramp   \n",
       "9997               Heart of the Sunrise - 2003 Remaster             Yes   \n",
       "9998  Venus And Mars / Rock Show / Jet - Live / Rema...  Paul McCartney   \n",
       "9999                                     Mr. Brightside     The Killers   \n",
       "\n",
       "                   artist_id                album_id  \\\n",
       "0     06HL4z0CvFAxyc27GXpf02  0HG8fMDhvN2tH5uPHFsyZP   \n",
       "1     6x2LnllRG5uGarZMsD4iO8  4w5Jvreahp3yvLqc4vCr9I   \n",
       "2     0du5cEVh5yTK9QJze8zA0C  4PgleR09JVnm3zY1fW3XBA   \n",
       "3     6eUKZXaKkcviH0Ku9w2n3V  3T4tUhGYeRNVUGevb0wThu   \n",
       "4     6eUKZXaKkcviH0Ku9w2n3V  1xn54DMo2qIqBuMqHtUsFd   \n",
       "...                      ...                     ...   \n",
       "9995  3PhoLpVuITZKcymswpck5b  6Gp6qSE1ywXCLjal5NUWUE   \n",
       "9996  3JsMj0DEzyWc0VDlHuy9Bx  4X87hQ57jTYQTcYTaJWK5w   \n",
       "9997  7AC976RDJzL2asmZuz7qil  0dZF93WHyOhTWjz5EWM7yG   \n",
       "9998  4STHEaNw4mPZ2tzheohgXB  2GVLsiEMDZhxOMATIPBK4d   \n",
       "9999  0C0XlULifJtAgn6ZNCW2eu  6SODLjPAWEhIlsb9Ewt7ez   \n",
       "\n",
       "                                             album_name  length  explicit  \\\n",
       "0                                      ...Ready For It?  208198     False   \n",
       "1                                          Life Changes  190226     False   \n",
       "2                                             24K Magic  225983     False   \n",
       "3                                            ÷ (Deluxe)  170826     False   \n",
       "4                                    x (Deluxe Edition)  258986     False   \n",
       "...                                                 ...     ...       ...   \n",
       "9995  Goodbye Yellow Brick Road (40th Anniversary Ce...  666571     False   \n",
       "9996                       Even In The Quietest Moments  652560     False   \n",
       "9997                           Fragile (Deluxe Edition)  634440     False   \n",
       "9998                    Wings Over America (Remastered)  620746     False   \n",
       "9999                                           Hot Fuss  222106     False   \n",
       "\n",
       "      popularity  danceability  energy  key  loudness  mode  speechiness  \\\n",
       "0              0         0.615   0.779    2    -6.454     1       0.1350   \n",
       "1             63         0.687   0.845    7    -4.370     1       0.0576   \n",
       "2             81         0.818   0.803    1    -4.282     1       0.0797   \n",
       "3             80         0.624   0.876    9    -3.374     1       0.1000   \n",
       "4             86         0.614   0.379    4   -10.480     1       0.0476   \n",
       "...          ...           ...     ...  ...       ...   ...          ...   \n",
       "9995           0         0.410   0.761    9    -8.507     0       0.0465   \n",
       "9996          55         0.406   0.306    3   -10.482     1       0.0372   \n",
       "9997          47         0.362   0.507    1   -11.229     1       0.0394   \n",
       "9998           0         0.331   0.733    2    -8.671     1       0.0468   \n",
       "9999           0         0.342   0.932    1    -3.644     1       0.0868   \n",
       "\n",
       "      acousticness  instrumentalness  liveness  valence    tempo  \n",
       "0          0.06650          0.000000    0.1550    0.453  160.000  \n",
       "1          0.10000          0.000000    0.0452    0.809   87.972  \n",
       "2          0.03400          0.000000    0.1530    0.632  106.970  \n",
       "3          0.07350          0.000000    0.3270    0.781   99.943  \n",
       "4          0.60700          0.000464    0.0986    0.201  107.989  \n",
       "...            ...               ...       ...      ...      ...  \n",
       "9995       0.01980          0.084700    0.2470    0.193  138.712  \n",
       "9996       0.31300          0.007900    0.0727    0.073  135.272  \n",
       "9997       0.01740          0.216000    0.1130    0.456  146.641  \n",
       "9998       0.08870          0.001740    0.9470    0.380  128.512  \n",
       "9999       0.00106          0.000000    0.0938    0.226  148.148  \n",
       "\n",
       "[10000 rows x 20 columns]"
      ]
     },
     "execution_count": 6,
     "metadata": {},
     "output_type": "execute_result"
    }
   ],
   "source": [
    "df_songs.reset_index(drop = True)"
   ]
  },
  {
   "cell_type": "code",
   "execution_count": null,
   "id": "e7cbe6c7",
   "metadata": {},
   "outputs": [],
   "source": []
  },
  {
   "cell_type": "markdown",
   "id": "8ead7f21",
   "metadata": {},
   "source": [
    "#### Importing our scaler, classifier and pca"
   ]
  },
  {
   "cell_type": "code",
   "execution_count": null,
   "id": "216bbf27",
   "metadata": {},
   "outputs": [],
   "source": []
  },
  {
   "cell_type": "code",
   "execution_count": 7,
   "id": "5a3b4130",
   "metadata": {},
   "outputs": [
    {
     "data": {
      "text/html": [
       "<style>#sk-container-id-1 {color: black;background-color: white;}#sk-container-id-1 pre{padding: 0;}#sk-container-id-1 div.sk-toggleable {background-color: white;}#sk-container-id-1 label.sk-toggleable__label {cursor: pointer;display: block;width: 100%;margin-bottom: 0;padding: 0.3em;box-sizing: border-box;text-align: center;}#sk-container-id-1 label.sk-toggleable__label-arrow:before {content: \"▸\";float: left;margin-right: 0.25em;color: #696969;}#sk-container-id-1 label.sk-toggleable__label-arrow:hover:before {color: black;}#sk-container-id-1 div.sk-estimator:hover label.sk-toggleable__label-arrow:before {color: black;}#sk-container-id-1 div.sk-toggleable__content {max-height: 0;max-width: 0;overflow: hidden;text-align: left;background-color: #f0f8ff;}#sk-container-id-1 div.sk-toggleable__content pre {margin: 0.2em;color: black;border-radius: 0.25em;background-color: #f0f8ff;}#sk-container-id-1 input.sk-toggleable__control:checked~div.sk-toggleable__content {max-height: 200px;max-width: 100%;overflow: auto;}#sk-container-id-1 input.sk-toggleable__control:checked~label.sk-toggleable__label-arrow:before {content: \"▾\";}#sk-container-id-1 div.sk-estimator input.sk-toggleable__control:checked~label.sk-toggleable__label {background-color: #d4ebff;}#sk-container-id-1 div.sk-label input.sk-toggleable__control:checked~label.sk-toggleable__label {background-color: #d4ebff;}#sk-container-id-1 input.sk-hidden--visually {border: 0;clip: rect(1px 1px 1px 1px);clip: rect(1px, 1px, 1px, 1px);height: 1px;margin: -1px;overflow: hidden;padding: 0;position: absolute;width: 1px;}#sk-container-id-1 div.sk-estimator {font-family: monospace;background-color: #f0f8ff;border: 1px dotted black;border-radius: 0.25em;box-sizing: border-box;margin-bottom: 0.5em;}#sk-container-id-1 div.sk-estimator:hover {background-color: #d4ebff;}#sk-container-id-1 div.sk-parallel-item::after {content: \"\";width: 100%;border-bottom: 1px solid gray;flex-grow: 1;}#sk-container-id-1 div.sk-label:hover label.sk-toggleable__label {background-color: #d4ebff;}#sk-container-id-1 div.sk-serial::before {content: \"\";position: absolute;border-left: 1px solid gray;box-sizing: border-box;top: 0;bottom: 0;left: 50%;z-index: 0;}#sk-container-id-1 div.sk-serial {display: flex;flex-direction: column;align-items: center;background-color: white;padding-right: 0.2em;padding-left: 0.2em;position: relative;}#sk-container-id-1 div.sk-item {position: relative;z-index: 1;}#sk-container-id-1 div.sk-parallel {display: flex;align-items: stretch;justify-content: center;background-color: white;position: relative;}#sk-container-id-1 div.sk-item::before, #sk-container-id-1 div.sk-parallel-item::before {content: \"\";position: absolute;border-left: 1px solid gray;box-sizing: border-box;top: 0;bottom: 0;left: 50%;z-index: -1;}#sk-container-id-1 div.sk-parallel-item {display: flex;flex-direction: column;z-index: 1;position: relative;background-color: white;}#sk-container-id-1 div.sk-parallel-item:first-child::after {align-self: flex-end;width: 50%;}#sk-container-id-1 div.sk-parallel-item:last-child::after {align-self: flex-start;width: 50%;}#sk-container-id-1 div.sk-parallel-item:only-child::after {width: 0;}#sk-container-id-1 div.sk-dashed-wrapped {border: 1px dashed gray;margin: 0 0.4em 0.5em 0.4em;box-sizing: border-box;padding-bottom: 0.4em;background-color: white;}#sk-container-id-1 div.sk-label label {font-family: monospace;font-weight: bold;display: inline-block;line-height: 1.2em;}#sk-container-id-1 div.sk-label-container {text-align: center;}#sk-container-id-1 div.sk-container {/* jupyter's `normalize.less` sets `[hidden] { display: none; }` but bootstrap.min.css set `[hidden] { display: none !important; }` so we also need the `!important` here to be able to override the default hidden behavior on the sphinx rendered scikit-learn.org. See: https://github.com/scikit-learn/scikit-learn/issues/21755 */display: inline-block !important;position: relative;}#sk-container-id-1 div.sk-text-repr-fallback {display: none;}</style><div id=\"sk-container-id-1\" class=\"sk-top-container\"><div class=\"sk-text-repr-fallback\"><pre>KMeans(n_clusters=10)</pre><b>In a Jupyter environment, please rerun this cell to show the HTML representation or trust the notebook. <br />On GitHub, the HTML representation is unable to render, please try loading this page with nbviewer.org.</b></div><div class=\"sk-container\" hidden><div class=\"sk-item\"><div class=\"sk-estimator sk-toggleable\"><input class=\"sk-toggleable__control sk-hidden--visually\" id=\"sk-estimator-id-1\" type=\"checkbox\" checked><label for=\"sk-estimator-id-1\" class=\"sk-toggleable__label sk-toggleable__label-arrow\">KMeans</label><div class=\"sk-toggleable__content\"><pre>KMeans(n_clusters=10)</pre></div></div></div></div></div>"
      ],
      "text/plain": [
       "KMeans(n_clusters=10)"
      ]
     },
     "execution_count": 7,
     "metadata": {},
     "output_type": "execute_result"
    }
   ],
   "source": [
    "kmean = pickle.load(open('kmeans10.p','rb'))\n",
    "kmean"
   ]
  },
  {
   "cell_type": "code",
   "execution_count": 8,
   "id": "3c05ac9b",
   "metadata": {},
   "outputs": [
    {
     "data": {
      "text/html": [
       "<style>#sk-container-id-2 {color: black;background-color: white;}#sk-container-id-2 pre{padding: 0;}#sk-container-id-2 div.sk-toggleable {background-color: white;}#sk-container-id-2 label.sk-toggleable__label {cursor: pointer;display: block;width: 100%;margin-bottom: 0;padding: 0.3em;box-sizing: border-box;text-align: center;}#sk-container-id-2 label.sk-toggleable__label-arrow:before {content: \"▸\";float: left;margin-right: 0.25em;color: #696969;}#sk-container-id-2 label.sk-toggleable__label-arrow:hover:before {color: black;}#sk-container-id-2 div.sk-estimator:hover label.sk-toggleable__label-arrow:before {color: black;}#sk-container-id-2 div.sk-toggleable__content {max-height: 0;max-width: 0;overflow: hidden;text-align: left;background-color: #f0f8ff;}#sk-container-id-2 div.sk-toggleable__content pre {margin: 0.2em;color: black;border-radius: 0.25em;background-color: #f0f8ff;}#sk-container-id-2 input.sk-toggleable__control:checked~div.sk-toggleable__content {max-height: 200px;max-width: 100%;overflow: auto;}#sk-container-id-2 input.sk-toggleable__control:checked~label.sk-toggleable__label-arrow:before {content: \"▾\";}#sk-container-id-2 div.sk-estimator input.sk-toggleable__control:checked~label.sk-toggleable__label {background-color: #d4ebff;}#sk-container-id-2 div.sk-label input.sk-toggleable__control:checked~label.sk-toggleable__label {background-color: #d4ebff;}#sk-container-id-2 input.sk-hidden--visually {border: 0;clip: rect(1px 1px 1px 1px);clip: rect(1px, 1px, 1px, 1px);height: 1px;margin: -1px;overflow: hidden;padding: 0;position: absolute;width: 1px;}#sk-container-id-2 div.sk-estimator {font-family: monospace;background-color: #f0f8ff;border: 1px dotted black;border-radius: 0.25em;box-sizing: border-box;margin-bottom: 0.5em;}#sk-container-id-2 div.sk-estimator:hover {background-color: #d4ebff;}#sk-container-id-2 div.sk-parallel-item::after {content: \"\";width: 100%;border-bottom: 1px solid gray;flex-grow: 1;}#sk-container-id-2 div.sk-label:hover label.sk-toggleable__label {background-color: #d4ebff;}#sk-container-id-2 div.sk-serial::before {content: \"\";position: absolute;border-left: 1px solid gray;box-sizing: border-box;top: 0;bottom: 0;left: 50%;z-index: 0;}#sk-container-id-2 div.sk-serial {display: flex;flex-direction: column;align-items: center;background-color: white;padding-right: 0.2em;padding-left: 0.2em;position: relative;}#sk-container-id-2 div.sk-item {position: relative;z-index: 1;}#sk-container-id-2 div.sk-parallel {display: flex;align-items: stretch;justify-content: center;background-color: white;position: relative;}#sk-container-id-2 div.sk-item::before, #sk-container-id-2 div.sk-parallel-item::before {content: \"\";position: absolute;border-left: 1px solid gray;box-sizing: border-box;top: 0;bottom: 0;left: 50%;z-index: -1;}#sk-container-id-2 div.sk-parallel-item {display: flex;flex-direction: column;z-index: 1;position: relative;background-color: white;}#sk-container-id-2 div.sk-parallel-item:first-child::after {align-self: flex-end;width: 50%;}#sk-container-id-2 div.sk-parallel-item:last-child::after {align-self: flex-start;width: 50%;}#sk-container-id-2 div.sk-parallel-item:only-child::after {width: 0;}#sk-container-id-2 div.sk-dashed-wrapped {border: 1px dashed gray;margin: 0 0.4em 0.5em 0.4em;box-sizing: border-box;padding-bottom: 0.4em;background-color: white;}#sk-container-id-2 div.sk-label label {font-family: monospace;font-weight: bold;display: inline-block;line-height: 1.2em;}#sk-container-id-2 div.sk-label-container {text-align: center;}#sk-container-id-2 div.sk-container {/* jupyter's `normalize.less` sets `[hidden] { display: none; }` but bootstrap.min.css set `[hidden] { display: none !important; }` so we also need the `!important` here to be able to override the default hidden behavior on the sphinx rendered scikit-learn.org. See: https://github.com/scikit-learn/scikit-learn/issues/21755 */display: inline-block !important;position: relative;}#sk-container-id-2 div.sk-text-repr-fallback {display: none;}</style><div id=\"sk-container-id-2\" class=\"sk-top-container\"><div class=\"sk-text-repr-fallback\"><pre>PCA(n_components=0.85)</pre><b>In a Jupyter environment, please rerun this cell to show the HTML representation or trust the notebook. <br />On GitHub, the HTML representation is unable to render, please try loading this page with nbviewer.org.</b></div><div class=\"sk-container\" hidden><div class=\"sk-item\"><div class=\"sk-estimator sk-toggleable\"><input class=\"sk-toggleable__control sk-hidden--visually\" id=\"sk-estimator-id-2\" type=\"checkbox\" checked><label for=\"sk-estimator-id-2\" class=\"sk-toggleable__label sk-toggleable__label-arrow\">PCA</label><div class=\"sk-toggleable__content\"><pre>PCA(n_components=0.85)</pre></div></div></div></div></div>"
      ],
      "text/plain": [
       "PCA(n_components=0.85)"
      ]
     },
     "execution_count": 8,
     "metadata": {},
     "output_type": "execute_result"
    }
   ],
   "source": [
    "pca = pickle.load(open('pca.p','rb'))\n",
    "pca"
   ]
  },
  {
   "cell_type": "code",
   "execution_count": 9,
   "id": "e4112eeb",
   "metadata": {},
   "outputs": [
    {
     "data": {
      "text/html": [
       "<style>#sk-container-id-3 {color: black;background-color: white;}#sk-container-id-3 pre{padding: 0;}#sk-container-id-3 div.sk-toggleable {background-color: white;}#sk-container-id-3 label.sk-toggleable__label {cursor: pointer;display: block;width: 100%;margin-bottom: 0;padding: 0.3em;box-sizing: border-box;text-align: center;}#sk-container-id-3 label.sk-toggleable__label-arrow:before {content: \"▸\";float: left;margin-right: 0.25em;color: #696969;}#sk-container-id-3 label.sk-toggleable__label-arrow:hover:before {color: black;}#sk-container-id-3 div.sk-estimator:hover label.sk-toggleable__label-arrow:before {color: black;}#sk-container-id-3 div.sk-toggleable__content {max-height: 0;max-width: 0;overflow: hidden;text-align: left;background-color: #f0f8ff;}#sk-container-id-3 div.sk-toggleable__content pre {margin: 0.2em;color: black;border-radius: 0.25em;background-color: #f0f8ff;}#sk-container-id-3 input.sk-toggleable__control:checked~div.sk-toggleable__content {max-height: 200px;max-width: 100%;overflow: auto;}#sk-container-id-3 input.sk-toggleable__control:checked~label.sk-toggleable__label-arrow:before {content: \"▾\";}#sk-container-id-3 div.sk-estimator input.sk-toggleable__control:checked~label.sk-toggleable__label {background-color: #d4ebff;}#sk-container-id-3 div.sk-label input.sk-toggleable__control:checked~label.sk-toggleable__label {background-color: #d4ebff;}#sk-container-id-3 input.sk-hidden--visually {border: 0;clip: rect(1px 1px 1px 1px);clip: rect(1px, 1px, 1px, 1px);height: 1px;margin: -1px;overflow: hidden;padding: 0;position: absolute;width: 1px;}#sk-container-id-3 div.sk-estimator {font-family: monospace;background-color: #f0f8ff;border: 1px dotted black;border-radius: 0.25em;box-sizing: border-box;margin-bottom: 0.5em;}#sk-container-id-3 div.sk-estimator:hover {background-color: #d4ebff;}#sk-container-id-3 div.sk-parallel-item::after {content: \"\";width: 100%;border-bottom: 1px solid gray;flex-grow: 1;}#sk-container-id-3 div.sk-label:hover label.sk-toggleable__label {background-color: #d4ebff;}#sk-container-id-3 div.sk-serial::before {content: \"\";position: absolute;border-left: 1px solid gray;box-sizing: border-box;top: 0;bottom: 0;left: 50%;z-index: 0;}#sk-container-id-3 div.sk-serial {display: flex;flex-direction: column;align-items: center;background-color: white;padding-right: 0.2em;padding-left: 0.2em;position: relative;}#sk-container-id-3 div.sk-item {position: relative;z-index: 1;}#sk-container-id-3 div.sk-parallel {display: flex;align-items: stretch;justify-content: center;background-color: white;position: relative;}#sk-container-id-3 div.sk-item::before, #sk-container-id-3 div.sk-parallel-item::before {content: \"\";position: absolute;border-left: 1px solid gray;box-sizing: border-box;top: 0;bottom: 0;left: 50%;z-index: -1;}#sk-container-id-3 div.sk-parallel-item {display: flex;flex-direction: column;z-index: 1;position: relative;background-color: white;}#sk-container-id-3 div.sk-parallel-item:first-child::after {align-self: flex-end;width: 50%;}#sk-container-id-3 div.sk-parallel-item:last-child::after {align-self: flex-start;width: 50%;}#sk-container-id-3 div.sk-parallel-item:only-child::after {width: 0;}#sk-container-id-3 div.sk-dashed-wrapped {border: 1px dashed gray;margin: 0 0.4em 0.5em 0.4em;box-sizing: border-box;padding-bottom: 0.4em;background-color: white;}#sk-container-id-3 div.sk-label label {font-family: monospace;font-weight: bold;display: inline-block;line-height: 1.2em;}#sk-container-id-3 div.sk-label-container {text-align: center;}#sk-container-id-3 div.sk-container {/* jupyter's `normalize.less` sets `[hidden] { display: none; }` but bootstrap.min.css set `[hidden] { display: none !important; }` so we also need the `!important` here to be able to override the default hidden behavior on the sphinx rendered scikit-learn.org. See: https://github.com/scikit-learn/scikit-learn/issues/21755 */display: inline-block !important;position: relative;}#sk-container-id-3 div.sk-text-repr-fallback {display: none;}</style><div id=\"sk-container-id-3\" class=\"sk-top-container\"><div class=\"sk-text-repr-fallback\"><pre>StandardScaler()</pre><b>In a Jupyter environment, please rerun this cell to show the HTML representation or trust the notebook. <br />On GitHub, the HTML representation is unable to render, please try loading this page with nbviewer.org.</b></div><div class=\"sk-container\" hidden><div class=\"sk-item\"><div class=\"sk-estimator sk-toggleable\"><input class=\"sk-toggleable__control sk-hidden--visually\" id=\"sk-estimator-id-3\" type=\"checkbox\" checked><label for=\"sk-estimator-id-3\" class=\"sk-toggleable__label sk-toggleable__label-arrow\">StandardScaler</label><div class=\"sk-toggleable__content\"><pre>StandardScaler()</pre></div></div></div></div></div>"
      ],
      "text/plain": [
       "StandardScaler()"
      ]
     },
     "execution_count": 9,
     "metadata": {},
     "output_type": "execute_result"
    }
   ],
   "source": [
    "scaler = pickle.load(open('scaler.p','rb'))\n",
    "scaler"
   ]
  },
  {
   "cell_type": "markdown",
   "id": "ae0a55b6",
   "metadata": {},
   "source": [
    "# Task"
   ]
  },
  {
   "cell_type": "markdown",
   "id": "1ee656dc",
   "metadata": {},
   "source": [
    "1. Check whether or not the song is in the Billboard Hot 200.\n",
    "2. Collect the audio features from the Spotify API.\n",
    "After that, you want to send the Spotify audio features of the submitted song to the clustering model, which should return a cluster number."
   ]
  },
  {
   "cell_type": "markdown",
   "id": "af003c8e",
   "metadata": {},
   "source": [
    "# 1 Check if song is in the top 100 song list"
   ]
  },
  {
   "cell_type": "code",
   "execution_count": 10,
   "id": "be5ce198",
   "metadata": {},
   "outputs": [],
   "source": [
    "def check_100(song,artist):\n",
    "    # Getting content of the page\n",
    "    url = \"http://www.popvortex.com/music/charts/top-100-songs.php\"\n",
    "    try:\n",
    "        response = requests.get(url, headers = {\"Accept-Language\": \"en-US\"})\n",
    "    except:\n",
    "        # Stopping if we get a bad response\n",
    "        print('Error while connecting to popvortex')\n",
    "        return False, [song,artist]\n",
    "    \n",
    "    # Parsing\n",
    "    soup = BeautifulSoup(response.content, 'html.parser')\n",
    "    \n",
    "    # Creating top 100 list\n",
    "    titles = []\n",
    "    artists = []\n",
    "    \n",
    "    for t in range(len(soup.select('.title'))):\n",
    "        titles.append(soup.select('.title')[t].get_text())\n",
    "    \n",
    "    for a in range(len(soup.select('.artist'))):\n",
    "        artists.append(soup.select('.artist')[a].get_text())\n",
    "    \n",
    "    # Creating dataframe\n",
    "    songs = pd.DataFrame({\"title\":titles,\n",
    "                       \"artist\":artists,\n",
    "                      })\n",
    "    \n",
    "    # Checking if input is in dataframe\n",
    "    userentry = songs[(songs.title == song) & (songs.artist == artist)].index\n",
    "    \n",
    "    # Responding\n",
    "    if userentry.size == 0:\n",
    "        return False, [song,artist]\n",
    "    else:\n",
    "        # Choose a random number except the one from the userinput\n",
    "        reconmendation = random.randint(0,99)\n",
    "        # If the random number is the the same as the userinput we have to redo the random\n",
    "        while reconmendation == userentry:\n",
    "           reconmendation = random.randint(0,99)\n",
    "        # returning True and the song\n",
    "        return True, [songs.loc[reconmendation,'title'],songs.artist[reconmendation]]"
   ]
  },
  {
   "cell_type": "code",
   "execution_count": 11,
   "id": "af952c8b",
   "metadata": {},
   "outputs": [
    {
     "name": "stdout",
     "output_type": "stream",
     "text": [
      "(True, [\"Something in the Orange (Z&E's Version)\", 'Zach Bryan'])\n"
     ]
    }
   ],
   "source": [
    "print(check_100('Anti-Hero','Taylor Swift'))"
   ]
  },
  {
   "cell_type": "code",
   "execution_count": 12,
   "id": "5cc41910",
   "metadata": {},
   "outputs": [
    {
     "name": "stdout",
     "output_type": "stream",
     "text": [
      "(False, ['Not a song', 'Donald Trump'])\n"
     ]
    }
   ],
   "source": [
    "print(check_100('Not a song','Donald Trump'))"
   ]
  },
  {
   "cell_type": "markdown",
   "id": "77edc0b2",
   "metadata": {},
   "source": [
    "# 2. Collect the audio features from the Spotify API."
   ]
  },
  {
   "cell_type": "markdown",
   "id": "a3f0ee34",
   "metadata": {},
   "source": [
    "#### Getting access to the spotify API"
   ]
  },
  {
   "cell_type": "code",
   "execution_count": 13,
   "id": "38776b22",
   "metadata": {},
   "outputs": [],
   "source": [
    "def access_get():\n",
    "    secrets_file = open(\"Access.txt\",\"r\")\n",
    "    string = secrets_file.read()\n",
    "    secrets_dict={}\n",
    "    for line in string.split('\\n'):\n",
    "        if len(line) > 0:\n",
    "            secrets_dict[line.split(':')[0]]=line.split(':')[1]\n",
    "    # Initialising connection\n",
    "    sp = spotipy.Spotify(auth_manager=SpotifyClientCredentials(client_id=secrets_dict['clientid'],\n",
    "                                                           client_secret=secrets_dict['clientsecret']))\n",
    "    return sp"
   ]
  },
  {
   "cell_type": "code",
   "execution_count": 14,
   "id": "5fc26d9f",
   "metadata": {},
   "outputs": [
    {
     "data": {
      "text/plain": [
       "<spotipy.client.Spotify at 0x1e335b0d7f0>"
      ]
     },
     "execution_count": 14,
     "metadata": {},
     "output_type": "execute_result"
    }
   ],
   "source": [
    "sp = access_get()\n",
    "sp"
   ]
  },
  {
   "cell_type": "markdown",
   "id": "baa8c284",
   "metadata": {},
   "source": [
    "#### First we need to get the song uri to be able to extract the features"
   ]
  },
  {
   "cell_type": "code",
   "execution_count": 15,
   "id": "29f35c19",
   "metadata": {},
   "outputs": [],
   "source": [
    "def find_song_uri(song,artist):\n",
    "    try:\n",
    "        # Searching for the song\n",
    "        result = sp.search(q=song+' '+artist, limit=1)\n",
    "        uri = result['tracks']['items'][0]['uri']\n",
    "        return uri\n",
    "    except:\n",
    "        # Returning a placeholder in case of a connection error\n",
    "        print('Connection error while finding uri')\n",
    "        return find_song_uri(song,artist)"
   ]
  },
  {
   "cell_type": "code",
   "execution_count": 16,
   "id": "b5925106",
   "metadata": {},
   "outputs": [
    {
     "data": {
      "text/plain": [
       "'spotify:track:5aWpvFnByyWodgqYlC9kha'"
      ]
     },
     "execution_count": 16,
     "metadata": {},
     "output_type": "execute_result"
    }
   ],
   "source": [
    "find_song_uri('Die Ärzte','Westerland')"
   ]
  },
  {
   "cell_type": "markdown",
   "id": "42f45c04",
   "metadata": {},
   "source": [
    "#### Now getting the features"
   ]
  },
  {
   "cell_type": "code",
   "execution_count": 17,
   "id": "c20fb440",
   "metadata": {},
   "outputs": [],
   "source": [
    "def get_features(uri):\n",
    "    try:\n",
    "        return sp.audio_features(uri)\n",
    "    except:\n",
    "        sleep(randint(1,2)) # respectful nap in case connection breaks\n",
    "        print('Error occured while getting feature names')\n",
    "        return get_features(uri)"
   ]
  },
  {
   "cell_type": "code",
   "execution_count": 18,
   "id": "4ded38db",
   "metadata": {},
   "outputs": [],
   "source": [
    "features = get_features('spotify:track:5aWpvFnByyWodgqYlC9kha')"
   ]
  },
  {
   "cell_type": "code",
   "execution_count": 19,
   "id": "076cae1f",
   "metadata": {},
   "outputs": [
    {
     "data": {
      "text/plain": [
       "0.602"
      ]
     },
     "execution_count": 19,
     "metadata": {},
     "output_type": "execute_result"
    }
   ],
   "source": [
    "features[0]['danceability']"
   ]
  },
  {
   "cell_type": "markdown",
   "id": "f8e13cef",
   "metadata": {},
   "source": [
    "#### Making prediction based on features"
   ]
  },
  {
   "cell_type": "markdown",
   "id": "6fa27f95",
   "metadata": {},
   "source": [
    "First we have to transform the features into a useful format"
   ]
  },
  {
   "cell_type": "code",
   "execution_count": 20,
   "id": "2735eb8f",
   "metadata": {},
   "outputs": [],
   "source": [
    "def flatten_features(features):\n",
    "    featurelist = []\n",
    "    try:\n",
    "        featurelist = [[\n",
    "        features[0]['danceability'],\n",
    "        features[0]['energy'],\n",
    "        features[0]['key'],\n",
    "        features[0]['loudness'],\n",
    "        features[0]['mode'],\n",
    "        features[0]['speechiness'],\n",
    "        features[0]['acousticness'],\n",
    "        features[0]['instrumentalness'],\n",
    "        features[0]['liveness'],\n",
    "        features[0]['valence'],\n",
    "        features[0]['tempo']\n",
    "            ]]\n",
    "    except:\n",
    "        featurelist.append([0,0,0,0,0,0,0,0,0,0,0])\n",
    "    return pd.DataFrame(featurelist, columns = ['danceability','energy','key','loudness','mode','speechiness','acousticness','instrumentalness','liveness','valence','tempo'])"
   ]
  },
  {
   "cell_type": "code",
   "execution_count": 21,
   "id": "3707e5e6",
   "metadata": {},
   "outputs": [],
   "source": [
    "features_flat = flatten_features(features)"
   ]
  },
  {
   "cell_type": "code",
   "execution_count": 22,
   "id": "d86f83c6",
   "metadata": {},
   "outputs": [],
   "source": [
    "def prediction(features,kmodel):\n",
    "    # Normalize\n",
    "    features_scaled = pd.DataFrame(scaler.transform(features), columns=features.columns)\n",
    "    # Apply PCA\n",
    "    features_scaled_pca = pca.transform(features_scaled)\n",
    "    # Predict\n",
    "    cluster = kmodel.predict(features_scaled_pca)\n",
    "    \n",
    "    return cluster[0]"
   ]
  },
  {
   "cell_type": "code",
   "execution_count": 23,
   "id": "87617fa3",
   "metadata": {},
   "outputs": [
    {
     "data": {
      "text/plain": [
       "0"
      ]
     },
     "execution_count": 23,
     "metadata": {},
     "output_type": "execute_result"
    }
   ],
   "source": [
    "prediction(features_flat,kmean)"
   ]
  },
  {
   "cell_type": "markdown",
   "id": "60fa29e9",
   "metadata": {},
   "source": [
    "# 3. Buildung the reconmender\n",
    "1. As an input the reconmender will take a song title and an artist\n",
    "2. If the song is in the top 100 it will return a random song from that list\n",
    "3. If not, it will get the audio features from spotify and predict a class, and reconmend a song from there"
   ]
  },
  {
   "cell_type": "markdown",
   "id": "84242744",
   "metadata": {},
   "source": [
    "#### 0. Classify df_songs\n",
    "To make a reconmendation, we first have to classify our existing songs"
   ]
  },
  {
   "cell_type": "code",
   "execution_count": 24,
   "id": "8d13afbe",
   "metadata": {},
   "outputs": [],
   "source": [
    "# pd.DataFrame(df_songs.iloc[1][['danceability','energy','key','loudness','mode','speechiness','acousticness','instrumentalness','liveness','valence','tempo']]).T"
   ]
  },
  {
   "cell_type": "code",
   "execution_count": 46,
   "id": "e9d4702c",
   "metadata": {},
   "outputs": [],
   "source": [
    "def classifier(kmodel):\n",
    "    pred_list = []\n",
    "    # Making predictions\n",
    "    for rownum in df_songs.index:\n",
    "        # do something with a row\n",
    "        pred_list.append(prediction(pd.DataFrame(df_songs.iloc[rownum][['danceability','energy','key','loudness','mode','speechiness','acousticness','instrumentalness','liveness','valence','tempo']]).T,kmodel))\n",
    "    df_songs['class'] = pred_list"
   ]
  },
  {
   "cell_type": "code",
   "execution_count": 57,
   "id": "4ab4c03e",
   "metadata": {},
   "outputs": [],
   "source": [
    "# classifier(kmean)"
   ]
  },
  {
   "cell_type": "code",
   "execution_count": 27,
   "id": "fefe77ef",
   "metadata": {},
   "outputs": [],
   "source": [
    "# df_songs.head(10)"
   ]
  },
  {
   "cell_type": "markdown",
   "id": "06c7c8f3",
   "metadata": {},
   "source": [
    "#### Saving to csv\n",
    "Getting all predictions took a while. I will save the dataframe to csv, so that I dont have to redo it."
   ]
  },
  {
   "cell_type": "code",
   "execution_count": 28,
   "id": "f12066fa",
   "metadata": {},
   "outputs": [],
   "source": [
    "# df_songs.to_csv('./Data/songspredicted.csv', index=False)"
   ]
  },
  {
   "cell_type": "code",
   "execution_count": 29,
   "id": "2ce2a8b4",
   "metadata": {},
   "outputs": [],
   "source": [
    "songs_predicted = pd.read_csv('./Data/songspredicted.csv')"
   ]
  },
  {
   "cell_type": "code",
   "execution_count": 30,
   "id": "42c2ab18",
   "metadata": {},
   "outputs": [
    {
     "data": {
      "text/plain": [
       "0    3700\n",
       "3    2300\n",
       "2    1600\n",
       "5    1000\n",
       "6     900\n",
       "7     200\n",
       "1     200\n",
       "8     100\n",
       "Name: class, dtype: int64"
      ]
     },
     "execution_count": 30,
     "metadata": {},
     "output_type": "execute_result"
    }
   ],
   "source": [
    "songs_predicted['class'].value_counts()"
   ]
  },
  {
   "cell_type": "markdown",
   "id": "f5e88c8b",
   "metadata": {},
   "source": [
    "## The Reconmender"
   ]
  },
  {
   "cell_type": "code",
   "execution_count": 82,
   "id": "5940629a",
   "metadata": {},
   "outputs": [],
   "source": [
    "def reconmender(kmodel,songs_predicted):\n",
    "    # Getting the input\n",
    "    song = input('Enter a song:   ')\n",
    "    artist = input('Enter an artist:   ')\n",
    "    \n",
    "    # We check if the song is in the top 100\n",
    "    boolean, reconmendation = check_100(song,artist)\n",
    "    if boolean == True:\n",
    "        # If the song is in the top 100 we return the reconmendation from there\n",
    "        print('\\n\\n\\n''You might like \"' + reconmendation[0] +'\" from \"' + reconmendation[1] + '\" ! One of the top 100 songs on popvortex!')\n",
    "        return [reconmendation[0],reconmendation[1]]\n",
    "\n",
    "    \n",
    "    # If not we continue with spotify\n",
    "    uri = find_song_uri(song,artist)\n",
    "#     print(uri)\n",
    "    features = get_features(uri)\n",
    "    features = flatten_features(features)\n",
    "    pred = prediction(features,kmodel)\n",
    "    \n",
    "    # We specify from which songs there will be a selection:\n",
    "    # We have to take care if the prediction class exists:\n",
    "    if pred in songs_predicted['class'].unique():\n",
    "        selection = songs_predicted[songs_predicted['class'] == pred].reset_index(drop = True)\n",
    "    else:\n",
    "        print('No similar song in the database!')\n",
    "        return\n",
    "    \n",
    "    # Selecting a random song from the selection\n",
    "    rec_nr = random.randint(0,len(selection))\n",
    "#     print(rec_nr)\n",
    "    title_r = selection.iloc[rec_nr]['title']\n",
    "    artist_r = selection.iloc[rec_nr]['artist_name']\n",
    "    \n",
    "    print('\\n\\n\\n''You might like \"' + title_r +'\" from \"' + artist_r + '\" !\\nThis song has similar audiofeatures to your selcetion!')"
   ]
  },
  {
   "cell_type": "markdown",
   "id": "6f4084b9",
   "metadata": {},
   "source": [
    "# Testing"
   ]
  },
  {
   "cell_type": "code",
   "execution_count": 32,
   "id": "9fdbb85a",
   "metadata": {
    "scrolled": true
   },
   "outputs": [
    {
     "name": "stdout",
     "output_type": "stream",
     "text": [
      "Enter a song:   Nemo\n",
      "Enter an artist:   Nightwish\n",
      "spotify:track:5OF7nhjVV0dmngqYjDrZGw\n",
      "\n",
      "\n",
      "\n",
      "You might like \"Without Me\" from \"Eminem\" !\n",
      "This song has similar audiofeatures to your selcetion!\n"
     ]
    }
   ],
   "source": [
    "reconmender(kmean,songs_predicted)"
   ]
  },
  {
   "cell_type": "markdown",
   "id": "fb006e9f",
   "metadata": {},
   "source": [
    "# Conclusion"
   ]
  },
  {
   "cell_type": "markdown",
   "id": "a3af3f64",
   "metadata": {},
   "source": [
    "Thge tests did not feel like a good reconmendation, I will try again with a higher number of K"
   ]
  },
  {
   "cell_type": "code",
   "execution_count": 33,
   "id": "e95610bd",
   "metadata": {},
   "outputs": [
    {
     "data": {
      "text/html": [
       "<style>#sk-container-id-4 {color: black;background-color: white;}#sk-container-id-4 pre{padding: 0;}#sk-container-id-4 div.sk-toggleable {background-color: white;}#sk-container-id-4 label.sk-toggleable__label {cursor: pointer;display: block;width: 100%;margin-bottom: 0;padding: 0.3em;box-sizing: border-box;text-align: center;}#sk-container-id-4 label.sk-toggleable__label-arrow:before {content: \"▸\";float: left;margin-right: 0.25em;color: #696969;}#sk-container-id-4 label.sk-toggleable__label-arrow:hover:before {color: black;}#sk-container-id-4 div.sk-estimator:hover label.sk-toggleable__label-arrow:before {color: black;}#sk-container-id-4 div.sk-toggleable__content {max-height: 0;max-width: 0;overflow: hidden;text-align: left;background-color: #f0f8ff;}#sk-container-id-4 div.sk-toggleable__content pre {margin: 0.2em;color: black;border-radius: 0.25em;background-color: #f0f8ff;}#sk-container-id-4 input.sk-toggleable__control:checked~div.sk-toggleable__content {max-height: 200px;max-width: 100%;overflow: auto;}#sk-container-id-4 input.sk-toggleable__control:checked~label.sk-toggleable__label-arrow:before {content: \"▾\";}#sk-container-id-4 div.sk-estimator input.sk-toggleable__control:checked~label.sk-toggleable__label {background-color: #d4ebff;}#sk-container-id-4 div.sk-label input.sk-toggleable__control:checked~label.sk-toggleable__label {background-color: #d4ebff;}#sk-container-id-4 input.sk-hidden--visually {border: 0;clip: rect(1px 1px 1px 1px);clip: rect(1px, 1px, 1px, 1px);height: 1px;margin: -1px;overflow: hidden;padding: 0;position: absolute;width: 1px;}#sk-container-id-4 div.sk-estimator {font-family: monospace;background-color: #f0f8ff;border: 1px dotted black;border-radius: 0.25em;box-sizing: border-box;margin-bottom: 0.5em;}#sk-container-id-4 div.sk-estimator:hover {background-color: #d4ebff;}#sk-container-id-4 div.sk-parallel-item::after {content: \"\";width: 100%;border-bottom: 1px solid gray;flex-grow: 1;}#sk-container-id-4 div.sk-label:hover label.sk-toggleable__label {background-color: #d4ebff;}#sk-container-id-4 div.sk-serial::before {content: \"\";position: absolute;border-left: 1px solid gray;box-sizing: border-box;top: 0;bottom: 0;left: 50%;z-index: 0;}#sk-container-id-4 div.sk-serial {display: flex;flex-direction: column;align-items: center;background-color: white;padding-right: 0.2em;padding-left: 0.2em;position: relative;}#sk-container-id-4 div.sk-item {position: relative;z-index: 1;}#sk-container-id-4 div.sk-parallel {display: flex;align-items: stretch;justify-content: center;background-color: white;position: relative;}#sk-container-id-4 div.sk-item::before, #sk-container-id-4 div.sk-parallel-item::before {content: \"\";position: absolute;border-left: 1px solid gray;box-sizing: border-box;top: 0;bottom: 0;left: 50%;z-index: -1;}#sk-container-id-4 div.sk-parallel-item {display: flex;flex-direction: column;z-index: 1;position: relative;background-color: white;}#sk-container-id-4 div.sk-parallel-item:first-child::after {align-self: flex-end;width: 50%;}#sk-container-id-4 div.sk-parallel-item:last-child::after {align-self: flex-start;width: 50%;}#sk-container-id-4 div.sk-parallel-item:only-child::after {width: 0;}#sk-container-id-4 div.sk-dashed-wrapped {border: 1px dashed gray;margin: 0 0.4em 0.5em 0.4em;box-sizing: border-box;padding-bottom: 0.4em;background-color: white;}#sk-container-id-4 div.sk-label label {font-family: monospace;font-weight: bold;display: inline-block;line-height: 1.2em;}#sk-container-id-4 div.sk-label-container {text-align: center;}#sk-container-id-4 div.sk-container {/* jupyter's `normalize.less` sets `[hidden] { display: none; }` but bootstrap.min.css set `[hidden] { display: none !important; }` so we also need the `!important` here to be able to override the default hidden behavior on the sphinx rendered scikit-learn.org. See: https://github.com/scikit-learn/scikit-learn/issues/21755 */display: inline-block !important;position: relative;}#sk-container-id-4 div.sk-text-repr-fallback {display: none;}</style><div id=\"sk-container-id-4\" class=\"sk-top-container\"><div class=\"sk-text-repr-fallback\"><pre>KMeans(n_clusters=30)</pre><b>In a Jupyter environment, please rerun this cell to show the HTML representation or trust the notebook. <br />On GitHub, the HTML representation is unable to render, please try loading this page with nbviewer.org.</b></div><div class=\"sk-container\" hidden><div class=\"sk-item\"><div class=\"sk-estimator sk-toggleable\"><input class=\"sk-toggleable__control sk-hidden--visually\" id=\"sk-estimator-id-4\" type=\"checkbox\" checked><label for=\"sk-estimator-id-4\" class=\"sk-toggleable__label sk-toggleable__label-arrow\">KMeans</label><div class=\"sk-toggleable__content\"><pre>KMeans(n_clusters=30)</pre></div></div></div></div></div>"
      ],
      "text/plain": [
       "KMeans(n_clusters=30)"
      ]
     },
     "execution_count": 33,
     "metadata": {},
     "output_type": "execute_result"
    }
   ],
   "source": [
    "kmean30 = pickle.load(open('kmeans30.p','rb'))\n",
    "kmean30"
   ]
  },
  {
   "cell_type": "markdown",
   "id": "965226fd",
   "metadata": {},
   "source": [
    "#### We have to reclassify our dataset"
   ]
  },
  {
   "cell_type": "code",
   "execution_count": 56,
   "id": "3aa9d2ba",
   "metadata": {},
   "outputs": [],
   "source": [
    "# classifier(kmean30)"
   ]
  },
  {
   "cell_type": "code",
   "execution_count": 36,
   "id": "08f9c906",
   "metadata": {},
   "outputs": [],
   "source": [
    "# df_songs.to_csv('./Data/songspredicted30.csv', index=False)\n",
    "songs_predicted30 = pd.read_csv('./Data/songspredicted30.csv')"
   ]
  },
  {
   "cell_type": "code",
   "execution_count": 37,
   "id": "1229ccf3",
   "metadata": {
    "scrolled": true
   },
   "outputs": [],
   "source": [
    "# songs_predicted30['class'].value_counts()"
   ]
  },
  {
   "cell_type": "markdown",
   "id": "f4b2823b",
   "metadata": {},
   "source": [
    "# Trying improved reconmender"
   ]
  },
  {
   "cell_type": "code",
   "execution_count": 38,
   "id": "c03383c2",
   "metadata": {
    "scrolled": true
   },
   "outputs": [
    {
     "name": "stdout",
     "output_type": "stream",
     "text": [
      "Enter a song:   Master of Puppets\n",
      "Enter an artist:   Metallica\n",
      "spotify:track:54bm2e3tk8cliUz3VSdCPZ\n",
      "\n",
      "\n",
      "\n",
      "You might like \"2 Cigarettes\" from \"Jack & Jack\" !\n",
      "This song has similar audiofeatures to your selcetion!\n"
     ]
    }
   ],
   "source": [
    "reconmender(kmean30,songs_predicted30)"
   ]
  },
  {
   "cell_type": "code",
   "execution_count": null,
   "id": "a71484af",
   "metadata": {},
   "outputs": [],
   "source": []
  },
  {
   "cell_type": "markdown",
   "id": "124dc88b",
   "metadata": {},
   "source": [
    "# More classes\n",
    "The songs got much more similar we try to get with 45 classes"
   ]
  },
  {
   "cell_type": "code",
   "execution_count": 39,
   "id": "a73b85ef",
   "metadata": {},
   "outputs": [
    {
     "data": {
      "text/html": [
       "<style>#sk-container-id-5 {color: black;background-color: white;}#sk-container-id-5 pre{padding: 0;}#sk-container-id-5 div.sk-toggleable {background-color: white;}#sk-container-id-5 label.sk-toggleable__label {cursor: pointer;display: block;width: 100%;margin-bottom: 0;padding: 0.3em;box-sizing: border-box;text-align: center;}#sk-container-id-5 label.sk-toggleable__label-arrow:before {content: \"▸\";float: left;margin-right: 0.25em;color: #696969;}#sk-container-id-5 label.sk-toggleable__label-arrow:hover:before {color: black;}#sk-container-id-5 div.sk-estimator:hover label.sk-toggleable__label-arrow:before {color: black;}#sk-container-id-5 div.sk-toggleable__content {max-height: 0;max-width: 0;overflow: hidden;text-align: left;background-color: #f0f8ff;}#sk-container-id-5 div.sk-toggleable__content pre {margin: 0.2em;color: black;border-radius: 0.25em;background-color: #f0f8ff;}#sk-container-id-5 input.sk-toggleable__control:checked~div.sk-toggleable__content {max-height: 200px;max-width: 100%;overflow: auto;}#sk-container-id-5 input.sk-toggleable__control:checked~label.sk-toggleable__label-arrow:before {content: \"▾\";}#sk-container-id-5 div.sk-estimator input.sk-toggleable__control:checked~label.sk-toggleable__label {background-color: #d4ebff;}#sk-container-id-5 div.sk-label input.sk-toggleable__control:checked~label.sk-toggleable__label {background-color: #d4ebff;}#sk-container-id-5 input.sk-hidden--visually {border: 0;clip: rect(1px 1px 1px 1px);clip: rect(1px, 1px, 1px, 1px);height: 1px;margin: -1px;overflow: hidden;padding: 0;position: absolute;width: 1px;}#sk-container-id-5 div.sk-estimator {font-family: monospace;background-color: #f0f8ff;border: 1px dotted black;border-radius: 0.25em;box-sizing: border-box;margin-bottom: 0.5em;}#sk-container-id-5 div.sk-estimator:hover {background-color: #d4ebff;}#sk-container-id-5 div.sk-parallel-item::after {content: \"\";width: 100%;border-bottom: 1px solid gray;flex-grow: 1;}#sk-container-id-5 div.sk-label:hover label.sk-toggleable__label {background-color: #d4ebff;}#sk-container-id-5 div.sk-serial::before {content: \"\";position: absolute;border-left: 1px solid gray;box-sizing: border-box;top: 0;bottom: 0;left: 50%;z-index: 0;}#sk-container-id-5 div.sk-serial {display: flex;flex-direction: column;align-items: center;background-color: white;padding-right: 0.2em;padding-left: 0.2em;position: relative;}#sk-container-id-5 div.sk-item {position: relative;z-index: 1;}#sk-container-id-5 div.sk-parallel {display: flex;align-items: stretch;justify-content: center;background-color: white;position: relative;}#sk-container-id-5 div.sk-item::before, #sk-container-id-5 div.sk-parallel-item::before {content: \"\";position: absolute;border-left: 1px solid gray;box-sizing: border-box;top: 0;bottom: 0;left: 50%;z-index: -1;}#sk-container-id-5 div.sk-parallel-item {display: flex;flex-direction: column;z-index: 1;position: relative;background-color: white;}#sk-container-id-5 div.sk-parallel-item:first-child::after {align-self: flex-end;width: 50%;}#sk-container-id-5 div.sk-parallel-item:last-child::after {align-self: flex-start;width: 50%;}#sk-container-id-5 div.sk-parallel-item:only-child::after {width: 0;}#sk-container-id-5 div.sk-dashed-wrapped {border: 1px dashed gray;margin: 0 0.4em 0.5em 0.4em;box-sizing: border-box;padding-bottom: 0.4em;background-color: white;}#sk-container-id-5 div.sk-label label {font-family: monospace;font-weight: bold;display: inline-block;line-height: 1.2em;}#sk-container-id-5 div.sk-label-container {text-align: center;}#sk-container-id-5 div.sk-container {/* jupyter's `normalize.less` sets `[hidden] { display: none; }` but bootstrap.min.css set `[hidden] { display: none !important; }` so we also need the `!important` here to be able to override the default hidden behavior on the sphinx rendered scikit-learn.org. See: https://github.com/scikit-learn/scikit-learn/issues/21755 */display: inline-block !important;position: relative;}#sk-container-id-5 div.sk-text-repr-fallback {display: none;}</style><div id=\"sk-container-id-5\" class=\"sk-top-container\"><div class=\"sk-text-repr-fallback\"><pre>KMeans(n_clusters=45)</pre><b>In a Jupyter environment, please rerun this cell to show the HTML representation or trust the notebook. <br />On GitHub, the HTML representation is unable to render, please try loading this page with nbviewer.org.</b></div><div class=\"sk-container\" hidden><div class=\"sk-item\"><div class=\"sk-estimator sk-toggleable\"><input class=\"sk-toggleable__control sk-hidden--visually\" id=\"sk-estimator-id-5\" type=\"checkbox\" checked><label for=\"sk-estimator-id-5\" class=\"sk-toggleable__label sk-toggleable__label-arrow\">KMeans</label><div class=\"sk-toggleable__content\"><pre>KMeans(n_clusters=45)</pre></div></div></div></div></div>"
      ],
      "text/plain": [
       "KMeans(n_clusters=45)"
      ]
     },
     "execution_count": 39,
     "metadata": {},
     "output_type": "execute_result"
    }
   ],
   "source": [
    "kmean45 = pickle.load(open('kmeans45.p','rb'))\n",
    "kmean45"
   ]
  },
  {
   "cell_type": "code",
   "execution_count": 47,
   "id": "1f97223d",
   "metadata": {},
   "outputs": [],
   "source": [
    "classifier(kmean45)"
   ]
  },
  {
   "cell_type": "code",
   "execution_count": 48,
   "id": "dacd8414",
   "metadata": {},
   "outputs": [],
   "source": [
    "df_songs.to_csv('./Data/songspredicted45.csv', index=False)\n",
    "songs_predicted45 = pd.read_csv('./Data/songspredicted45.csv')"
   ]
  },
  {
   "cell_type": "markdown",
   "id": "6d5a10ed",
   "metadata": {},
   "source": [
    "# Final version"
   ]
  },
  {
   "cell_type": "markdown",
   "id": "a81d3e79",
   "metadata": {},
   "source": [
    "#### Testing again"
   ]
  },
  {
   "cell_type": "code",
   "execution_count": 84,
   "id": "8b6dc33d",
   "metadata": {},
   "outputs": [
    {
     "name": "stdout",
     "output_type": "stream",
     "text": [
      "Enter a song:   Baby Shark\n",
      "Enter an artist:    \n",
      "\n",
      "\n",
      "\n",
      "You might like \"Can't Believe\" from \"Staind\" !\n",
      "This song has similar audiofeatures to your selcetion!\n"
     ]
    }
   ],
   "source": [
    "reconmender(kmean45,songs_predicted45)"
   ]
  },
  {
   "cell_type": "code",
   "execution_count": null,
   "id": "be8c95a5",
   "metadata": {},
   "outputs": [],
   "source": []
  },
  {
   "cell_type": "markdown",
   "id": "f58abdd5",
   "metadata": {},
   "source": [
    "## Why it did not work in class:"
   ]
  },
  {
   "cell_type": "code",
   "execution_count": 88,
   "id": "bd2ccd23",
   "metadata": {},
   "outputs": [
    {
     "data": {
      "text/plain": [
       "26"
      ]
     },
     "execution_count": 88,
     "metadata": {},
     "output_type": "execute_result"
    }
   ],
   "source": [
    "len(songs_predicted45['class'].unique())"
   ]
  },
  {
   "cell_type": "markdown",
   "id": "624ad197",
   "metadata": {},
   "source": [
    "Apparently while classifying some classes were omitted, if the new song lies within the classes, that do not appear in the dataframe, the selection does not work, since it obviously does not find songs of the same class.\n",
    "\n",
    "So either I would stick with the lower amount of classes or accept that it could not assign the input song to an existing group and print out a corresponding message.\n",
    "\n",
    "I put in an if check for this case and print out, that no similar song was found."
   ]
  }
 ],
 "metadata": {
  "kernelspec": {
   "display_name": "Python 3 (ipykernel)",
   "language": "python",
   "name": "python3"
  },
  "language_info": {
   "codemirror_mode": {
    "name": "ipython",
    "version": 3
   },
   "file_extension": ".py",
   "mimetype": "text/x-python",
   "name": "python",
   "nbconvert_exporter": "python",
   "pygments_lexer": "ipython3",
   "version": "3.9.13"
  }
 },
 "nbformat": 4,
 "nbformat_minor": 5
}
