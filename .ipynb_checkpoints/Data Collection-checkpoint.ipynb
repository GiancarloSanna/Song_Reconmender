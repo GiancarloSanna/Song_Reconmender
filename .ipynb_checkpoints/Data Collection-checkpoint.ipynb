{
 "cells": [
  {
   "cell_type": "markdown",
   "id": "436ef4ba",
   "metadata": {},
   "source": [
    "# Collecting songs and their properties for the music reconmender"
   ]
  },
  {
   "cell_type": "markdown",
   "id": "fc3fd71a",
   "metadata": {},
   "source": [
    "#### Importing libraries"
   ]
  },
  {
   "cell_type": "code",
   "execution_count": 1,
   "id": "2983604b",
   "metadata": {},
   "outputs": [],
   "source": [
    "import spotipy\n",
    "from spotipy.oauth2 import SpotifyClientCredentials\n",
    "import pandas as pd\n",
    "from random import randint\n",
    "from time import sleep\n",
    "from itertools import islice\n",
    "from pandas import json_normalize"
   ]
  },
  {
   "cell_type": "markdown",
   "id": "2cfd0759",
   "metadata": {},
   "source": [
    "#### Getting access data for the API"
   ]
  },
  {
   "cell_type": "code",
   "execution_count": 2,
   "id": "598313ba",
   "metadata": {},
   "outputs": [],
   "source": [
    "secrets_file = open(\"Access.txt\",\"r\")\n",
    "string = secrets_file.read()\n",
    "# string"
   ]
  },
  {
   "cell_type": "code",
   "execution_count": 3,
   "id": "bd994e22",
   "metadata": {},
   "outputs": [],
   "source": [
    "# Creating a dictionary with the credentials\n",
    "secrets_dict={}\n",
    "for line in string.split('\\n'):\n",
    "    if len(line) > 0:\n",
    "        secrets_dict[line.split(':')[0]]=line.split(':')[1]\n",
    "# secrets_dict"
   ]
  },
  {
   "cell_type": "markdown",
   "id": "49e4a590",
   "metadata": {},
   "source": [
    "#### Initialising the connection"
   ]
  },
  {
   "cell_type": "code",
   "execution_count": 4,
   "id": "ac8d43ee",
   "metadata": {},
   "outputs": [],
   "source": [
    "sp = spotipy.Spotify(auth_manager=SpotifyClientCredentials(client_id=secrets_dict['clientid'],\n",
    "                                                           client_secret=secrets_dict['clientsecret']))"
   ]
  },
  {
   "cell_type": "markdown",
   "id": "81a0fb83",
   "metadata": {},
   "source": [
    "## Getting data"
   ]
  },
  {
   "cell_type": "markdown",
   "id": "1e07a41d",
   "metadata": {},
   "source": [
    "First I will create a small dataframe on this playlist\n",
    "'5fo41o54DPTvdPO2uMTDH1'\n",
    "with just about 190 songs. \n",
    "When I am sure that everything works, I will aplly my functions on a bigger playlist."
   ]
  },
  {
   "cell_type": "markdown",
   "id": "54703af7",
   "metadata": {},
   "source": [
    "#### Example data"
   ]
  },
  {
   "cell_type": "code",
   "execution_count": 5,
   "id": "e00ae9dc",
   "metadata": {},
   "outputs": [],
   "source": [
    "# gettiong the playlist\n",
    "playlist = sp.user_playlist_tracks(\"spotify\", \"5fo41o54DPTvdPO2uMTDH1\")"
   ]
  },
  {
   "cell_type": "code",
   "execution_count": 6,
   "id": "4fba1f35",
   "metadata": {},
   "outputs": [
    {
     "data": {
      "text/plain": [
       "192"
      ]
     },
     "execution_count": 6,
     "metadata": {},
     "output_type": "execute_result"
    }
   ],
   "source": [
    "playlist['total']"
   ]
  },
  {
   "cell_type": "code",
   "execution_count": 7,
   "id": "0cbafc00",
   "metadata": {},
   "outputs": [
    {
     "data": {
      "text/plain": [
       "100"
      ]
     },
     "execution_count": 7,
     "metadata": {},
     "output_type": "execute_result"
    }
   ],
   "source": [
    "len(playlist['items'])"
   ]
  },
  {
   "cell_type": "code",
   "execution_count": 8,
   "id": "09642bf9",
   "metadata": {},
   "outputs": [],
   "source": [
    "# playlist.keys()"
   ]
  },
  {
   "cell_type": "code",
   "execution_count": 9,
   "id": "bcee743a",
   "metadata": {},
   "outputs": [],
   "source": [
    "# playlist['offset']"
   ]
  },
  {
   "cell_type": "code",
   "execution_count": 10,
   "id": "b9d3bddd",
   "metadata": {},
   "outputs": [],
   "source": [
    "# playlist['items'][1]"
   ]
  },
  {
   "cell_type": "code",
   "execution_count": 11,
   "id": "654c742b",
   "metadata": {},
   "outputs": [],
   "source": [
    "# playlist['items'][0]['track']"
   ]
  },
  {
   "cell_type": "code",
   "execution_count": 12,
   "id": "d8bd7c75",
   "metadata": {},
   "outputs": [
    {
     "data": {
      "text/plain": [
       "dict_keys(['album', 'artists', 'available_markets', 'disc_number', 'duration_ms', 'episode', 'explicit', 'external_ids', 'external_urls', 'href', 'id', 'is_local', 'name', 'popularity', 'preview_url', 'track', 'track_number', 'type', 'uri'])"
      ]
     },
     "execution_count": 12,
     "metadata": {},
     "output_type": "execute_result"
    }
   ],
   "source": [
    "playlist['items'][0]['track'].keys()"
   ]
  },
  {
   "cell_type": "code",
   "execution_count": 13,
   "id": "ce97c886",
   "metadata": {},
   "outputs": [
    {
     "data": {
      "text/plain": [
       "147410"
      ]
     },
     "execution_count": 13,
     "metadata": {},
     "output_type": "execute_result"
    }
   ],
   "source": [
    "playlist['items'][0]['track']['duration_ms']"
   ]
  },
  {
   "cell_type": "markdown",
   "id": "2bc09b90",
   "metadata": {},
   "source": [
    "### What do we want to do?\n",
    "1. We will iterate over the playlist, putting all songs into a list.\n",
    "2. We will pull out the desired features into a dataframe.\n",
    "3. We will get the audiofeatures for all songs in the dataframe.\n",
    "\n",
    "What to consider: We have to be aware of the piossibility of timeouts during our API requests and consider that in creating our function."
   ]
  },
  {
   "cell_type": "markdown",
   "id": "acac514f",
   "metadata": {},
   "source": [
    "We create a dataframe, where we will finally store our songs\n",
    "- columns = ['id','title','artist_name','artist_id,'album','length','explicit']"
   ]
  },
  {
   "cell_type": "markdown",
   "id": "3d764dc9",
   "metadata": {},
   "source": [
    "#### 1. Iterating over the playlist, pulling all songs out."
   ]
  },
  {
   "cell_type": "code",
   "execution_count": 14,
   "id": "41437b38",
   "metadata": {},
   "outputs": [],
   "source": [
    "# We need to get everything!\n",
    "def get_playlist_tracks(playlist_id):\n",
    "    results = sp.user_playlist_tracks(\"spotify\",playlist_id)\n",
    "    tracks = results['items']\n",
    "    while results['next']!=None:\n",
    "        results = sp.next(results)\n",
    "        tracks = tracks + results['items']\n",
    "        sleep(randint(1,3)) # respectful nap\n",
    "    return tracks       "
   ]
  },
  {
   "cell_type": "code",
   "execution_count": 15,
   "id": "da1e4cf1",
   "metadata": {},
   "outputs": [
    {
     "data": {
      "text/plain": [
       "192"
      ]
     },
     "execution_count": 15,
     "metadata": {},
     "output_type": "execute_result"
    }
   ],
   "source": [
    "playlist = get_playlist_tracks('5fo41o54DPTvdPO2uMTDH1')\n",
    "len(playlist)"
   ]
  },
  {
   "cell_type": "markdown",
   "id": "4153a37d",
   "metadata": {},
   "source": [
    "#### 1.2 Getting all songfeatures from the playlist"
   ]
  },
  {
   "cell_type": "code",
   "execution_count": 16,
   "id": "bb369c00",
   "metadata": {},
   "outputs": [],
   "source": [
    "# Using the function form the lesson, modified that it only returns artists\n",
    "def get_name_artists_from_track(track):\n",
    "    return [artist[\"name\"] for artist in track[\"artists\"]]"
   ]
  },
  {
   "cell_type": "code",
   "execution_count": 17,
   "id": "814cd3ec",
   "metadata": {},
   "outputs": [],
   "source": [
    "# Same for artist id\n",
    "def get_name_artists_id_from_track(track):\n",
    "    return [artist[\"id\"] for artist in track[\"artists\"]]"
   ]
  },
  {
   "cell_type": "code",
   "execution_count": 18,
   "id": "2fae3547",
   "metadata": {},
   "outputs": [],
   "source": [
    "def get_tracks(playlist):\n",
    "    tracklist = []\n",
    "    for i in range(len(playlist)):\n",
    "        tracklist.append([\n",
    "            playlist[i]['track']['uri'],\n",
    "            playlist[i]['track']['name'],\n",
    "            get_name_artists_from_track(playlist[i]['track'])[0],\n",
    "            get_name_artists_id_from_track(playlist[i]['track'])[0],\n",
    "            playlist[i]['track']['album']['id'],\n",
    "            playlist[i]['track']['album']['name'],\n",
    "            playlist[i]['track']['duration_ms'],\n",
    "            playlist[i]['track']['explicit'],\n",
    "            playlist[i]['track']['popularity']\n",
    "        ]\n",
    "        )\n",
    "    return tracklist"
   ]
  },
  {
   "cell_type": "code",
   "execution_count": 19,
   "id": "b5954155",
   "metadata": {},
   "outputs": [],
   "source": [
    "songs = get_tracks(playlist)"
   ]
  },
  {
   "cell_type": "markdown",
   "id": "d61356f6",
   "metadata": {},
   "source": [
    "#### 2. We will pull out the desired features into a dataframe."
   ]
  },
  {
   "cell_type": "code",
   "execution_count": 20,
   "id": "ed8bbb55",
   "metadata": {},
   "outputs": [],
   "source": [
    "df_songs = pd.DataFrame(data = songs, columns = ['uri','title','artist_name','artist_id','album_id','album_name','length','explicit','popularity'])"
   ]
  },
  {
   "cell_type": "code",
   "execution_count": 21,
   "id": "9bf1ece6",
   "metadata": {},
   "outputs": [
    {
     "data": {
      "text/html": [
       "<div>\n",
       "<style scoped>\n",
       "    .dataframe tbody tr th:only-of-type {\n",
       "        vertical-align: middle;\n",
       "    }\n",
       "\n",
       "    .dataframe tbody tr th {\n",
       "        vertical-align: top;\n",
       "    }\n",
       "\n",
       "    .dataframe thead th {\n",
       "        text-align: right;\n",
       "    }\n",
       "</style>\n",
       "<table border=\"1\" class=\"dataframe\">\n",
       "  <thead>\n",
       "    <tr style=\"text-align: right;\">\n",
       "      <th></th>\n",
       "      <th>uri</th>\n",
       "      <th>title</th>\n",
       "      <th>artist_name</th>\n",
       "      <th>artist_id</th>\n",
       "      <th>album_id</th>\n",
       "      <th>album_name</th>\n",
       "      <th>length</th>\n",
       "      <th>explicit</th>\n",
       "      <th>popularity</th>\n",
       "    </tr>\n",
       "  </thead>\n",
       "  <tbody>\n",
       "    <tr>\n",
       "      <th>0</th>\n",
       "      <td>spotify:track:5JVA0t7r2Y7m9NaHmgaeiC</td>\n",
       "      <td>Remedy</td>\n",
       "      <td>Leony</td>\n",
       "      <td>2NpPlwwDVYR5dIj0F31EcC</td>\n",
       "      <td>4nKguZWie1WQuxFspIwHOY</td>\n",
       "      <td>Remedy</td>\n",
       "      <td>147410</td>\n",
       "      <td>False</td>\n",
       "      <td>72</td>\n",
       "    </tr>\n",
       "    <tr>\n",
       "      <th>1</th>\n",
       "      <td>spotify:track:6Hj9jySrnFppAI0sEMCZpJ</td>\n",
       "      <td>Robbery</td>\n",
       "      <td>Juice WRLD</td>\n",
       "      <td>4MCBfE4596Uoi2O4DtmEMz</td>\n",
       "      <td>1GYVNOzwhx1nMcIJDogSNp</td>\n",
       "      <td>Death Race For Love</td>\n",
       "      <td>240050</td>\n",
       "      <td>True</td>\n",
       "      <td>10</td>\n",
       "    </tr>\n",
       "    <tr>\n",
       "      <th>2</th>\n",
       "      <td>spotify:track:7gpSIL1cTo9hRaJWzJ366l</td>\n",
       "      <td>Shots</td>\n",
       "      <td>HBz</td>\n",
       "      <td>7I2JG3CcPawkeQPE7uypHJ</td>\n",
       "      <td>1usEYgVkSLHg5nWQcbZTpT</td>\n",
       "      <td>Family</td>\n",
       "      <td>167230</td>\n",
       "      <td>False</td>\n",
       "      <td>62</td>\n",
       "    </tr>\n",
       "    <tr>\n",
       "      <th>3</th>\n",
       "      <td>spotify:track:0RSZ8EmUPEN3ySfCgytPke</td>\n",
       "      <td>Auf &amp; Ab</td>\n",
       "      <td>Montez</td>\n",
       "      <td>5ZY4M2aGiTaZQEP6HfqeJc</td>\n",
       "      <td>0HSkqlRyseGrpCBrrTv773</td>\n",
       "      <td>Auf &amp; Ab</td>\n",
       "      <td>165476</td>\n",
       "      <td>False</td>\n",
       "      <td>6</td>\n",
       "    </tr>\n",
       "    <tr>\n",
       "      <th>4</th>\n",
       "      <td>spotify:track:6CDzDgIUqeDY5g8ujExx2f</td>\n",
       "      <td>Heat Waves</td>\n",
       "      <td>Glass Animals</td>\n",
       "      <td>4yvcSjfu4PC0CYQyLy4wSq</td>\n",
       "      <td>69K1zrf6TkXHdYUO8n2qVi</td>\n",
       "      <td>Heat Waves</td>\n",
       "      <td>238805</td>\n",
       "      <td>False</td>\n",
       "      <td>84</td>\n",
       "    </tr>\n",
       "    <tr>\n",
       "      <th>...</th>\n",
       "      <td>...</td>\n",
       "      <td>...</td>\n",
       "      <td>...</td>\n",
       "      <td>...</td>\n",
       "      <td>...</td>\n",
       "      <td>...</td>\n",
       "      <td>...</td>\n",
       "      <td>...</td>\n",
       "      <td>...</td>\n",
       "    </tr>\n",
       "    <tr>\n",
       "      <th>187</th>\n",
       "      <td>spotify:track:7qqZZt1ey8D2OBRkccCakO</td>\n",
       "      <td>LEERE AUGEN</td>\n",
       "      <td>FiNCH</td>\n",
       "      <td>1ZyqnbV7Brg5LgyS4EZCUD</td>\n",
       "      <td>6ik1OcdVYKnuJjGWciH8Gw</td>\n",
       "      <td>LEERE AUGEN</td>\n",
       "      <td>178818</td>\n",
       "      <td>False</td>\n",
       "      <td>56</td>\n",
       "    </tr>\n",
       "    <tr>\n",
       "      <th>188</th>\n",
       "      <td>spotify:track:194lppukv9RRDj2yqHrO6N</td>\n",
       "      <td>Dance Dance x Hung Up - Remix</td>\n",
       "      <td>NVBR</td>\n",
       "      <td>2SK1xoft5PyuLAxTjK9RVe</td>\n",
       "      <td>1oonpEPBsvmCdRgndYYcLZ</td>\n",
       "      <td>Dance Dance x Hung Up (Remix)</td>\n",
       "      <td>223006</td>\n",
       "      <td>False</td>\n",
       "      <td>68</td>\n",
       "    </tr>\n",
       "    <tr>\n",
       "      <th>189</th>\n",
       "      <td>spotify:track:0oFHlnUwZVhizux1FOAsfr</td>\n",
       "      <td>Never Forget</td>\n",
       "      <td>GASHI</td>\n",
       "      <td>0JOxt5QOwq0czoJxvSc5hS</td>\n",
       "      <td>3mbsaMY2Dp9qtV44xrM9wW</td>\n",
       "      <td>Cabin Fever</td>\n",
       "      <td>289485</td>\n",
       "      <td>True</td>\n",
       "      <td>48</td>\n",
       "    </tr>\n",
       "    <tr>\n",
       "      <th>190</th>\n",
       "      <td>spotify:track:0b6wdul3A5sQNpIOv03OxP</td>\n",
       "      <td>Ocean Drive</td>\n",
       "      <td>Duke Dumont</td>\n",
       "      <td>61lyPtntblHJvA7FMMhi7E</td>\n",
       "      <td>5APvbPGki6FOQO6rNEuXCv</td>\n",
       "      <td>Ocean Drive</td>\n",
       "      <td>206320</td>\n",
       "      <td>False</td>\n",
       "      <td>72</td>\n",
       "    </tr>\n",
       "    <tr>\n",
       "      <th>191</th>\n",
       "      <td>spotify:track:1qQWAmVIfqIEGH7BNBrbPO</td>\n",
       "      <td>Warum bist du weg</td>\n",
       "      <td>TOBEY NIZE</td>\n",
       "      <td>6NNtBSXXlTQTPFDZBiAJ0I</td>\n",
       "      <td>67LyVMHT6zSLHu2GnMbCIW</td>\n",
       "      <td>Warum bist du weg</td>\n",
       "      <td>204222</td>\n",
       "      <td>False</td>\n",
       "      <td>60</td>\n",
       "    </tr>\n",
       "  </tbody>\n",
       "</table>\n",
       "<p>192 rows × 9 columns</p>\n",
       "</div>"
      ],
      "text/plain": [
       "                                      uri                          title  \\\n",
       "0    spotify:track:5JVA0t7r2Y7m9NaHmgaeiC                         Remedy   \n",
       "1    spotify:track:6Hj9jySrnFppAI0sEMCZpJ                        Robbery   \n",
       "2    spotify:track:7gpSIL1cTo9hRaJWzJ366l                          Shots   \n",
       "3    spotify:track:0RSZ8EmUPEN3ySfCgytPke                       Auf & Ab   \n",
       "4    spotify:track:6CDzDgIUqeDY5g8ujExx2f                     Heat Waves   \n",
       "..                                    ...                            ...   \n",
       "187  spotify:track:7qqZZt1ey8D2OBRkccCakO                    LEERE AUGEN   \n",
       "188  spotify:track:194lppukv9RRDj2yqHrO6N  Dance Dance x Hung Up - Remix   \n",
       "189  spotify:track:0oFHlnUwZVhizux1FOAsfr                   Never Forget   \n",
       "190  spotify:track:0b6wdul3A5sQNpIOv03OxP                    Ocean Drive   \n",
       "191  spotify:track:1qQWAmVIfqIEGH7BNBrbPO              Warum bist du weg   \n",
       "\n",
       "       artist_name               artist_id                album_id  \\\n",
       "0            Leony  2NpPlwwDVYR5dIj0F31EcC  4nKguZWie1WQuxFspIwHOY   \n",
       "1       Juice WRLD  4MCBfE4596Uoi2O4DtmEMz  1GYVNOzwhx1nMcIJDogSNp   \n",
       "2              HBz  7I2JG3CcPawkeQPE7uypHJ  1usEYgVkSLHg5nWQcbZTpT   \n",
       "3           Montez  5ZY4M2aGiTaZQEP6HfqeJc  0HSkqlRyseGrpCBrrTv773   \n",
       "4    Glass Animals  4yvcSjfu4PC0CYQyLy4wSq  69K1zrf6TkXHdYUO8n2qVi   \n",
       "..             ...                     ...                     ...   \n",
       "187          FiNCH  1ZyqnbV7Brg5LgyS4EZCUD  6ik1OcdVYKnuJjGWciH8Gw   \n",
       "188           NVBR  2SK1xoft5PyuLAxTjK9RVe  1oonpEPBsvmCdRgndYYcLZ   \n",
       "189          GASHI  0JOxt5QOwq0czoJxvSc5hS  3mbsaMY2Dp9qtV44xrM9wW   \n",
       "190    Duke Dumont  61lyPtntblHJvA7FMMhi7E  5APvbPGki6FOQO6rNEuXCv   \n",
       "191     TOBEY NIZE  6NNtBSXXlTQTPFDZBiAJ0I  67LyVMHT6zSLHu2GnMbCIW   \n",
       "\n",
       "                        album_name  length  explicit  popularity  \n",
       "0                           Remedy  147410     False          72  \n",
       "1              Death Race For Love  240050      True          10  \n",
       "2                           Family  167230     False          62  \n",
       "3                         Auf & Ab  165476     False           6  \n",
       "4                       Heat Waves  238805     False          84  \n",
       "..                             ...     ...       ...         ...  \n",
       "187                    LEERE AUGEN  178818     False          56  \n",
       "188  Dance Dance x Hung Up (Remix)  223006     False          68  \n",
       "189                    Cabin Fever  289485      True          48  \n",
       "190                    Ocean Drive  206320     False          72  \n",
       "191              Warum bist du weg  204222     False          60  \n",
       "\n",
       "[192 rows x 9 columns]"
      ]
     },
     "metadata": {},
     "output_type": "display_data"
    }
   ],
   "source": [
    "display(df_songs)"
   ]
  },
  {
   "cell_type": "markdown",
   "id": "80496ab7",
   "metadata": {},
   "source": [
    "#### 3. We will get the audiofeatures for all songs in the dataframe."
   ]
  },
  {
   "cell_type": "code",
   "execution_count": 22,
   "id": "ab65912d",
   "metadata": {},
   "outputs": [],
   "source": [
    "# We pull out the features and then wait a bit so we don't access the api too often whhen apllying\n",
    "def get_features_delayed(uri):\n",
    "    sleep(randint(1,2)) # respectful nap\n",
    "    return sp.audio_features(uri)   "
   ]
  },
  {
   "cell_type": "code",
   "execution_count": 23,
   "id": "c8c94f89",
   "metadata": {},
   "outputs": [],
   "source": [
    "# Commented out, takes too long to run over and over again\n",
    "\n",
    "# df_songs['features'] = df_songs['uri'].apply(get_features_delayed).copy()\n",
    "# df_songs"
   ]
  },
  {
   "cell_type": "code",
   "execution_count": 24,
   "id": "ef4e0644",
   "metadata": {},
   "outputs": [],
   "source": [
    "# print(get_features_delayed('spotify:track:1qQWAmVIfqIEGH7BNBrbPO'))"
   ]
  },
  {
   "cell_type": "markdown",
   "id": "f7d455a9",
   "metadata": {},
   "source": [
    "# Making the functions resilient to errors"
   ]
  },
  {
   "cell_type": "markdown",
   "id": "0cf846f1",
   "metadata": {},
   "source": [
    "#### Feature extraction"
   ]
  },
  {
   "cell_type": "code",
   "execution_count": 25,
   "id": "64af7ea5",
   "metadata": {},
   "outputs": [],
   "source": [
    "# We have to make the function resilient to errors in case the coinnection breaks\n",
    "def get_features_delayed(uri):\n",
    "    # First we try to get the features\n",
    "    try:\n",
    "        sleep(randint(1,2)) # respectful nap\n",
    "        features = sp.audio_features(uri)\n",
    "    # if it doesnt work we try again, for this we make the function recursive\n",
    "    except:\n",
    "        print('Error occured while getting feature names')\n",
    "        features = get_features_delayed(uri)\n",
    "    # Finally we return the features\n",
    "    return features"
   ]
  },
  {
   "cell_type": "code",
   "execution_count": 26,
   "id": "2f539a3a",
   "metadata": {},
   "outputs": [],
   "source": [
    "# df_songs.head(3)"
   ]
  },
  {
   "cell_type": "code",
   "execution_count": 27,
   "id": "6391e11a",
   "metadata": {},
   "outputs": [],
   "source": [
    "def flatten_features(df):\n",
    "    featurelist = []\n",
    "    for i in range(len(df['features'])):\n",
    "        try:\n",
    "            featurelist.append([\n",
    "            df['features'][i][0]['danceability'],\n",
    "            df['features'][i][0]['energy'],\n",
    "            df['features'][i][0]['key'],\n",
    "            df['features'][i][0]['loudness'],\n",
    "            df['features'][i][0]['mode'],\n",
    "            df['features'][i][0]['speechiness'],\n",
    "            df['features'][i][0]['acousticness'],\n",
    "            df['features'][i][0]['instrumentalness'],\n",
    "            df['features'][i][0]['liveness'],\n",
    "            df['features'][i][0]['valence'],\n",
    "            df['features'][i][0]['tempo']\n",
    "            ])\n",
    "        except:\n",
    "            featurelist.append([0,0,0,0,0,0,0,0,0,0,0])\n",
    "    featureframe = pd.DataFrame(featurelist,columns = ['danceability','energy','key','loudness','mode','speechiness','acousticness','instrumentalness','liveness','valence','tempo'] )\n",
    "    df = pd.concat([df,featureframe],axis = 1)\n",
    "    df = df.drop('features',axis = 1)\n",
    "    return df"
   ]
  },
  {
   "cell_type": "code",
   "execution_count": 28,
   "id": "b9ab0308",
   "metadata": {},
   "outputs": [],
   "source": [
    "# For testing the function, commented it out, takes too long\n",
    "# df_songs2 = df_songs.copy()\n",
    "# df_test = flatten_features(df_songs)\n",
    "# df_test.head(5)"
   ]
  },
  {
   "cell_type": "code",
   "execution_count": null,
   "id": "0f9af989",
   "metadata": {},
   "outputs": [],
   "source": []
  },
  {
   "cell_type": "markdown",
   "id": "1e12955c",
   "metadata": {},
   "source": [
    "#### Getting all songs"
   ]
  },
  {
   "cell_type": "code",
   "execution_count": 29,
   "id": "696a8a14",
   "metadata": {},
   "outputs": [],
   "source": [
    "def get_playlist_tracks_festures_to_dataframe_csv(playlist_id):\n",
    "    # We get the first chunk of the playlist\n",
    "    results = sp.user_playlist_tracks(\"spotify\",playlist_id)\n",
    "    filenumber = 1\n",
    "    # Some things to monitor the progress\n",
    "    errorcount = 0\n",
    "    fetched = 100\n",
    "    \n",
    "    \n",
    "    # Saving first batch, everything explained in detail in the while loop\n",
    "    flat = get_tracks(results['items'])\n",
    "    resultframe = pd.DataFrame(data = flat, columns = ['uri','title','artist_name','artist_id','album_id','album_name','length','explicit','popularity'])\n",
    "    resultframe['features'] = resultframe['uri'].apply(get_features_delayed)\n",
    "    resultframe = flatten_features(resultframe)\n",
    "    resultframe.to_csv('Data/part'+str(filenumber)+'.csv', index=False)\n",
    "    print('First batch successfull')\n",
    "    \n",
    "    \n",
    "    # We iterate over the whole playlist\n",
    "    while results['next']!=None:\n",
    "        # We try to get more from the next iteration\n",
    "        try:\n",
    "            sleep(randint(1,3)) # respectful nap\n",
    "            \n",
    "            # Getting the next batch\n",
    "            results = sp.next(results)\n",
    "    \n",
    "            # Making our dataframe\n",
    "            flat = get_tracks(results['items'])\n",
    "            resultframe = pd.DataFrame(data = flat, columns = ['uri','title','artist_name','artist_id','album_id','album_name','length','explicit','popularity'])\n",
    "            \n",
    "            # Get features\n",
    "            resultframe['features'] = resultframe['uri'].apply(get_features_delayed)\n",
    "            \n",
    "            # Flatten the features\n",
    "            resultframe = flatten_features(resultframe)\n",
    "            \n",
    "            # Saving result\n",
    "            filenumber += 1\n",
    "            resultframe.to_csv('Data/part'+str(filenumber)+'.csv', index=False)\n",
    "            \n",
    "            # If it succeeds we report:\n",
    "            fetched += 100\n",
    "            print('Fetched '+str(fetched)+' out of '+str(results['total'])+' '+str(100*(fetched/results['total']))+'%')\n",
    "            \n",
    "        # If it does not work we give out an error, since the results did not change the next\n",
    "        # iteration will try again\n",
    "        except:\n",
    "            errorcount += 1\n",
    "            print('Error while fetching. # '+str(errorcount))\n",
    "        \n",
    "       \n",
    "    return pd.DataFrame(resultframe)"
   ]
  },
  {
   "cell_type": "code",
   "execution_count": 30,
   "id": "50f576b1",
   "metadata": {},
   "outputs": [],
   "source": [
    "# test = get_playlist_tracks_festures_to_dataframe_csv('5fo41o54DPTvdPO2uMTDH1')"
   ]
  },
  {
   "cell_type": "code",
   "execution_count": 31,
   "id": "571bea72",
   "metadata": {},
   "outputs": [
    {
     "data": {
      "text/html": [
       "<div>\n",
       "<style scoped>\n",
       "    .dataframe tbody tr th:only-of-type {\n",
       "        vertical-align: middle;\n",
       "    }\n",
       "\n",
       "    .dataframe tbody tr th {\n",
       "        vertical-align: top;\n",
       "    }\n",
       "\n",
       "    .dataframe thead th {\n",
       "        text-align: right;\n",
       "    }\n",
       "</style>\n",
       "<table border=\"1\" class=\"dataframe\">\n",
       "  <thead>\n",
       "    <tr style=\"text-align: right;\">\n",
       "      <th></th>\n",
       "      <th>uri</th>\n",
       "      <th>title</th>\n",
       "      <th>artist_name</th>\n",
       "      <th>artist_id</th>\n",
       "      <th>album_id</th>\n",
       "      <th>album_name</th>\n",
       "      <th>length</th>\n",
       "      <th>explicit</th>\n",
       "      <th>popularity</th>\n",
       "      <th>danceability</th>\n",
       "      <th>energy</th>\n",
       "      <th>key</th>\n",
       "      <th>loudness</th>\n",
       "      <th>mode</th>\n",
       "      <th>speechiness</th>\n",
       "      <th>acousticness</th>\n",
       "      <th>instrumentalness</th>\n",
       "      <th>liveness</th>\n",
       "      <th>valence</th>\n",
       "      <th>tempo</th>\n",
       "    </tr>\n",
       "  </thead>\n",
       "  <tbody>\n",
       "    <tr>\n",
       "      <th>0</th>\n",
       "      <td>spotify:track:0fmbjLzenF8z20WN0QPSXl</td>\n",
       "      <td>999 (Remix)</td>\n",
       "      <td>MYT</td>\n",
       "      <td>0q9PBbZ4ZWpyY4hK6IpXui</td>\n",
       "      <td>49QJjwNEWrL9Vl9SO8qXGq</td>\n",
       "      <td>999 (Remix)</td>\n",
       "      <td>208000</td>\n",
       "      <td>True</td>\n",
       "      <td>59</td>\n",
       "      <td>0.669</td>\n",
       "      <td>0.452</td>\n",
       "      <td>1</td>\n",
       "      <td>-12.112</td>\n",
       "      <td>1</td>\n",
       "      <td>0.2310</td>\n",
       "      <td>0.42000</td>\n",
       "      <td>0.291000</td>\n",
       "      <td>0.0999</td>\n",
       "      <td>0.106</td>\n",
       "      <td>165.035</td>\n",
       "    </tr>\n",
       "    <tr>\n",
       "      <th>1</th>\n",
       "      <td>spotify:track:5fQllnHCmwjhmhnpFAcknW</td>\n",
       "      <td>High sein</td>\n",
       "      <td>HBz</td>\n",
       "      <td>7I2JG3CcPawkeQPE7uypHJ</td>\n",
       "      <td>76UbTO36WLsNpyaGQ54JV0</td>\n",
       "      <td>High sein</td>\n",
       "      <td>133943</td>\n",
       "      <td>False</td>\n",
       "      <td>64</td>\n",
       "      <td>0.669</td>\n",
       "      <td>0.873</td>\n",
       "      <td>1</td>\n",
       "      <td>-6.767</td>\n",
       "      <td>1</td>\n",
       "      <td>0.1790</td>\n",
       "      <td>0.04050</td>\n",
       "      <td>0.001810</td>\n",
       "      <td>0.2520</td>\n",
       "      <td>0.442</td>\n",
       "      <td>142.081</td>\n",
       "    </tr>\n",
       "    <tr>\n",
       "      <th>2</th>\n",
       "      <td>spotify:track:43cTBSgL0p3JfAqVwk3SBR</td>\n",
       "      <td>Falsche Liebe</td>\n",
       "      <td>K-Fly</td>\n",
       "      <td>4jDdEv3oafVcJfrywVDi4p</td>\n",
       "      <td>4VvOcsfEsqT4RszOHUU3Px</td>\n",
       "      <td>Falsche Liebe</td>\n",
       "      <td>215327</td>\n",
       "      <td>False</td>\n",
       "      <td>43</td>\n",
       "      <td>0.452</td>\n",
       "      <td>0.628</td>\n",
       "      <td>8</td>\n",
       "      <td>-14.860</td>\n",
       "      <td>0</td>\n",
       "      <td>0.4450</td>\n",
       "      <td>0.22100</td>\n",
       "      <td>0.000000</td>\n",
       "      <td>0.1200</td>\n",
       "      <td>0.359</td>\n",
       "      <td>90.632</td>\n",
       "    </tr>\n",
       "    <tr>\n",
       "      <th>3</th>\n",
       "      <td>spotify:track:5YdnOm5990Kfq1Jodws98B</td>\n",
       "      <td>Call It Love</td>\n",
       "      <td>Felix Jaehn</td>\n",
       "      <td>4bL2B6hmLlMWnUEZnorEtG</td>\n",
       "      <td>5c3YGhnf058Op4YviM73wn</td>\n",
       "      <td>Call It Love</td>\n",
       "      <td>154560</td>\n",
       "      <td>False</td>\n",
       "      <td>84</td>\n",
       "      <td>0.616</td>\n",
       "      <td>0.841</td>\n",
       "      <td>5</td>\n",
       "      <td>-4.779</td>\n",
       "      <td>0</td>\n",
       "      <td>0.0760</td>\n",
       "      <td>0.05590</td>\n",
       "      <td>0.002170</td>\n",
       "      <td>0.4170</td>\n",
       "      <td>0.714</td>\n",
       "      <td>110.029</td>\n",
       "    </tr>\n",
       "    <tr>\n",
       "      <th>4</th>\n",
       "      <td>spotify:track:5uSFGgIfHMT3osrAd9n9ym</td>\n",
       "      <td>Forget Me</td>\n",
       "      <td>Lewis Capaldi</td>\n",
       "      <td>4GNC7GD6oZMSxPGyXy4MNB</td>\n",
       "      <td>50IWCes196EP2nWO6i4I67</td>\n",
       "      <td>Forget Me</td>\n",
       "      <td>203472</td>\n",
       "      <td>False</td>\n",
       "      <td>86</td>\n",
       "      <td>0.669</td>\n",
       "      <td>0.742</td>\n",
       "      <td>1</td>\n",
       "      <td>-3.518</td>\n",
       "      <td>0</td>\n",
       "      <td>0.0441</td>\n",
       "      <td>0.29600</td>\n",
       "      <td>0.000000</td>\n",
       "      <td>0.3550</td>\n",
       "      <td>0.716</td>\n",
       "      <td>101.982</td>\n",
       "    </tr>\n",
       "    <tr>\n",
       "      <th>5</th>\n",
       "      <td>spotify:track:6kvW6EI5UuqCmlp7L7HD9O</td>\n",
       "      <td>Someone Else</td>\n",
       "      <td>ClockClock</td>\n",
       "      <td>4NSzuIc0eGOftqr0tEOhJk</td>\n",
       "      <td>5HbBzk9KEgIAi2mWj4ubCh</td>\n",
       "      <td>Someone Else</td>\n",
       "      <td>173423</td>\n",
       "      <td>False</td>\n",
       "      <td>74</td>\n",
       "      <td>0.817</td>\n",
       "      <td>0.784</td>\n",
       "      <td>5</td>\n",
       "      <td>-4.971</td>\n",
       "      <td>0</td>\n",
       "      <td>0.0463</td>\n",
       "      <td>0.11900</td>\n",
       "      <td>0.000000</td>\n",
       "      <td>0.1300</td>\n",
       "      <td>0.537</td>\n",
       "      <td>131.995</td>\n",
       "    </tr>\n",
       "    <tr>\n",
       "      <th>6</th>\n",
       "      <td>spotify:track:0R3QYRCLL1UryJhxXQM07e</td>\n",
       "      <td>Adilettenstyle</td>\n",
       "      <td>Specktakel</td>\n",
       "      <td>1ErIf1pAAaw5upKsCbqhzz</td>\n",
       "      <td>36rPPcwcImUfUmll4PxX7T</td>\n",
       "      <td>Adilettenstyle</td>\n",
       "      <td>213745</td>\n",
       "      <td>False</td>\n",
       "      <td>42</td>\n",
       "      <td>0.663</td>\n",
       "      <td>0.934</td>\n",
       "      <td>0</td>\n",
       "      <td>-1.900</td>\n",
       "      <td>1</td>\n",
       "      <td>0.1380</td>\n",
       "      <td>0.00682</td>\n",
       "      <td>0.000000</td>\n",
       "      <td>0.1950</td>\n",
       "      <td>0.614</td>\n",
       "      <td>139.870</td>\n",
       "    </tr>\n",
       "    <tr>\n",
       "      <th>7</th>\n",
       "      <td>spotify:track:3EJRsDYQdoBW8S2uj6EhQq</td>\n",
       "      <td>Drop Drop Drop</td>\n",
       "      <td>THOVI</td>\n",
       "      <td>55E3g7oUV2dhqCWao7kzm3</td>\n",
       "      <td>6kAIOQEpuhgPQ7P2Hv5CMZ</td>\n",
       "      <td>Drop Drop Drop</td>\n",
       "      <td>122081</td>\n",
       "      <td>False</td>\n",
       "      <td>58</td>\n",
       "      <td>0.754</td>\n",
       "      <td>0.885</td>\n",
       "      <td>2</td>\n",
       "      <td>-5.926</td>\n",
       "      <td>1</td>\n",
       "      <td>0.2320</td>\n",
       "      <td>0.10200</td>\n",
       "      <td>0.003160</td>\n",
       "      <td>0.2360</td>\n",
       "      <td>0.701</td>\n",
       "      <td>149.959</td>\n",
       "    </tr>\n",
       "    <tr>\n",
       "      <th>8</th>\n",
       "      <td>spotify:track:2cvwCpqdCeL6CtXTd2JJNQ</td>\n",
       "      <td>MÜNCHEN</td>\n",
       "      <td>Tream</td>\n",
       "      <td>6vNAKgK5d74N1I0zTxRPDp</td>\n",
       "      <td>5jCZm7SNgFxihxrtcZvRH0</td>\n",
       "      <td>MÜNCHEN</td>\n",
       "      <td>157221</td>\n",
       "      <td>False</td>\n",
       "      <td>53</td>\n",
       "      <td>0.680</td>\n",
       "      <td>0.951</td>\n",
       "      <td>0</td>\n",
       "      <td>-4.800</td>\n",
       "      <td>0</td>\n",
       "      <td>0.3490</td>\n",
       "      <td>0.36500</td>\n",
       "      <td>0.000000</td>\n",
       "      <td>0.1500</td>\n",
       "      <td>0.536</td>\n",
       "      <td>169.983</td>\n",
       "    </tr>\n",
       "    <tr>\n",
       "      <th>9</th>\n",
       "      <td>spotify:track:6HUWZBldbQhzvBMqaNkNYM</td>\n",
       "      <td>AUF DIE ZEITEN DIE MAL WAREN</td>\n",
       "      <td>Tream</td>\n",
       "      <td>6vNAKgK5d74N1I0zTxRPDp</td>\n",
       "      <td>399uH7NgKhqgX4vOIf6fS4</td>\n",
       "      <td>AUF DIE ZEITEN DIE MAL WAREN</td>\n",
       "      <td>122666</td>\n",
       "      <td>True</td>\n",
       "      <td>54</td>\n",
       "      <td>0.590</td>\n",
       "      <td>0.732</td>\n",
       "      <td>1</td>\n",
       "      <td>-4.605</td>\n",
       "      <td>1</td>\n",
       "      <td>0.0713</td>\n",
       "      <td>0.28600</td>\n",
       "      <td>0.000000</td>\n",
       "      <td>0.1240</td>\n",
       "      <td>0.457</td>\n",
       "      <td>89.969</td>\n",
       "    </tr>\n",
       "    <tr>\n",
       "      <th>10</th>\n",
       "      <td>spotify:track:1MFD6gdVDjFFMM8ItH9ZhI</td>\n",
       "      <td>White Walls (feat. ScHoolboy Q &amp; Hollis)</td>\n",
       "      <td>Macklemore &amp; Ryan Lewis</td>\n",
       "      <td>5BcAKTbp20cv7tC5VqPFoC</td>\n",
       "      <td>2pFX16u42q0e5F5vRmmzYT</td>\n",
       "      <td>The Heist (Deluxe Edition)</td>\n",
       "      <td>220319</td>\n",
       "      <td>True</td>\n",
       "      <td>60</td>\n",
       "      <td>0.768</td>\n",
       "      <td>0.782</td>\n",
       "      <td>7</td>\n",
       "      <td>-5.545</td>\n",
       "      <td>1</td>\n",
       "      <td>0.1410</td>\n",
       "      <td>0.05450</td>\n",
       "      <td>0.000000</td>\n",
       "      <td>0.3380</td>\n",
       "      <td>0.842</td>\n",
       "      <td>116.492</td>\n",
       "    </tr>\n",
       "    <tr>\n",
       "      <th>11</th>\n",
       "      <td>spotify:track:7y2CanQNBGTd7EVJy80hLC</td>\n",
       "      <td>Nur für Dich</td>\n",
       "      <td>Kontra K</td>\n",
       "      <td>4lDiJcOJ2GLCK6p9q5BgfK</td>\n",
       "      <td>5925gOqT0wsG2ZQmdOJXZW</td>\n",
       "      <td>Für den Himmel durch die Hölle</td>\n",
       "      <td>192506</td>\n",
       "      <td>True</td>\n",
       "      <td>74</td>\n",
       "      <td>0.670</td>\n",
       "      <td>0.498</td>\n",
       "      <td>6</td>\n",
       "      <td>-8.236</td>\n",
       "      <td>0</td>\n",
       "      <td>0.3320</td>\n",
       "      <td>0.72200</td>\n",
       "      <td>0.000000</td>\n",
       "      <td>0.1160</td>\n",
       "      <td>0.355</td>\n",
       "      <td>81.914</td>\n",
       "    </tr>\n",
       "    <tr>\n",
       "      <th>12</th>\n",
       "      <td>spotify:track:3azoHmJmvLD2AVR1m0gasI</td>\n",
       "      <td>Koala Mulaya</td>\n",
       "      <td>01099</td>\n",
       "      <td>3Z3aTg9PwJ37e8xeO0aUC9</td>\n",
       "      <td>3iGjbuHlPwhBQJCZ0zrA67</td>\n",
       "      <td>Koala Mulaya</td>\n",
       "      <td>186750</td>\n",
       "      <td>True</td>\n",
       "      <td>41</td>\n",
       "      <td>0.772</td>\n",
       "      <td>0.610</td>\n",
       "      <td>8</td>\n",
       "      <td>-8.644</td>\n",
       "      <td>0</td>\n",
       "      <td>0.2800</td>\n",
       "      <td>0.75200</td>\n",
       "      <td>0.000032</td>\n",
       "      <td>0.1150</td>\n",
       "      <td>0.827</td>\n",
       "      <td>95.981</td>\n",
       "    </tr>\n",
       "    <tr>\n",
       "      <th>13</th>\n",
       "      <td>spotify:track:2uZWffKoemZDI0gHcBEcDc</td>\n",
       "      <td>On &amp; On</td>\n",
       "      <td>Cartoon</td>\n",
       "      <td>2sf28o6euxEDpYkG9dMtuM</td>\n",
       "      <td>6Unm4KKxYtjR08J1wEOnkc</td>\n",
       "      <td>On &amp; On</td>\n",
       "      <td>207068</td>\n",
       "      <td>False</td>\n",
       "      <td>76</td>\n",
       "      <td>0.451</td>\n",
       "      <td>0.692</td>\n",
       "      <td>11</td>\n",
       "      <td>-4.741</td>\n",
       "      <td>1</td>\n",
       "      <td>0.0398</td>\n",
       "      <td>0.28700</td>\n",
       "      <td>0.000000</td>\n",
       "      <td>0.1150</td>\n",
       "      <td>0.423</td>\n",
       "      <td>174.122</td>\n",
       "    </tr>\n",
       "    <tr>\n",
       "      <th>14</th>\n",
       "      <td>spotify:track:3fAz5OBCj54Ar8vzps112y</td>\n",
       "      <td>Medizin (feat. Jamule)</td>\n",
       "      <td>Sido</td>\n",
       "      <td>4Yttlv9ndGjCDCVLqM7ACq</td>\n",
       "      <td>6pKa9ZwiXrysumGnan5sFS</td>\n",
       "      <td>Medizin (feat. Jamule)</td>\n",
       "      <td>195745</td>\n",
       "      <td>True</td>\n",
       "      <td>42</td>\n",
       "      <td>0.865</td>\n",
       "      <td>0.626</td>\n",
       "      <td>7</td>\n",
       "      <td>-8.370</td>\n",
       "      <td>1</td>\n",
       "      <td>0.0791</td>\n",
       "      <td>0.09370</td>\n",
       "      <td>0.003270</td>\n",
       "      <td>0.0926</td>\n",
       "      <td>0.532</td>\n",
       "      <td>123.004</td>\n",
       "    </tr>\n",
       "    <tr>\n",
       "      <th>15</th>\n",
       "      <td>spotify:track:3iBU3w9MbrqFdB9mOa2JeK</td>\n",
       "      <td>Nie mehr gehen</td>\n",
       "      <td>Apache 207</td>\n",
       "      <td>1qQLhymHXFPtP5U8KNKsm6</td>\n",
       "      <td>5TPcUrhPDARHdOV3cuzH7B</td>\n",
       "      <td>Nie mehr gehen</td>\n",
       "      <td>195924</td>\n",
       "      <td>True</td>\n",
       "      <td>68</td>\n",
       "      <td>0.704</td>\n",
       "      <td>0.318</td>\n",
       "      <td>0</td>\n",
       "      <td>-7.806</td>\n",
       "      <td>1</td>\n",
       "      <td>0.0425</td>\n",
       "      <td>0.30100</td>\n",
       "      <td>0.000000</td>\n",
       "      <td>0.1700</td>\n",
       "      <td>0.240</td>\n",
       "      <td>139.924</td>\n",
       "    </tr>\n",
       "    <tr>\n",
       "      <th>16</th>\n",
       "      <td>spotify:track:4YxZQd3I4rj1nqkXgvpCk4</td>\n",
       "      <td>Zukunft Pink (feat. Inéz)</td>\n",
       "      <td>Peter Fox</td>\n",
       "      <td>6rqlONGmPuP2wJVSfliLBI</td>\n",
       "      <td>0oCAC1DmJcWxPjs55uJl6D</td>\n",
       "      <td>Zukunft Pink (feat. Inéz)</td>\n",
       "      <td>230829</td>\n",
       "      <td>True</td>\n",
       "      <td>82</td>\n",
       "      <td>0.903</td>\n",
       "      <td>0.719</td>\n",
       "      <td>1</td>\n",
       "      <td>-8.054</td>\n",
       "      <td>1</td>\n",
       "      <td>0.0520</td>\n",
       "      <td>0.51400</td>\n",
       "      <td>0.000077</td>\n",
       "      <td>0.7430</td>\n",
       "      <td>0.639</td>\n",
       "      <td>118.036</td>\n",
       "    </tr>\n",
       "    <tr>\n",
       "      <th>17</th>\n",
       "      <td>spotify:track:0an0ND3xIrzMkCyZjIMuSF</td>\n",
       "      <td>SEASON</td>\n",
       "      <td>Tream</td>\n",
       "      <td>6vNAKgK5d74N1I0zTxRPDp</td>\n",
       "      <td>5P1dCMNjkB4LE3xUFS2Q1n</td>\n",
       "      <td>SEASON</td>\n",
       "      <td>143480</td>\n",
       "      <td>False</td>\n",
       "      <td>54</td>\n",
       "      <td>0.837</td>\n",
       "      <td>0.875</td>\n",
       "      <td>1</td>\n",
       "      <td>-4.682</td>\n",
       "      <td>1</td>\n",
       "      <td>0.1820</td>\n",
       "      <td>0.12100</td>\n",
       "      <td>0.000000</td>\n",
       "      <td>0.2900</td>\n",
       "      <td>0.840</td>\n",
       "      <td>140.051</td>\n",
       "    </tr>\n",
       "    <tr>\n",
       "      <th>18</th>\n",
       "      <td>spotify:track:70Xfh3baxA4xusCiV5B5jg</td>\n",
       "      <td>KISSENSCHLACHT</td>\n",
       "      <td>Jamule</td>\n",
       "      <td>4sVieJlKgpZ2k9ESNS5IdN</td>\n",
       "      <td>2GZ8s5Dy2AZ02Ga5mngS23</td>\n",
       "      <td>KISSENSCHLACHT</td>\n",
       "      <td>171069</td>\n",
       "      <td>True</td>\n",
       "      <td>62</td>\n",
       "      <td>0.910</td>\n",
       "      <td>0.447</td>\n",
       "      <td>1</td>\n",
       "      <td>-5.580</td>\n",
       "      <td>1</td>\n",
       "      <td>0.0688</td>\n",
       "      <td>0.10100</td>\n",
       "      <td>0.000377</td>\n",
       "      <td>0.1380</td>\n",
       "      <td>0.315</td>\n",
       "      <td>125.021</td>\n",
       "    </tr>\n",
       "    <tr>\n",
       "      <th>19</th>\n",
       "      <td>spotify:track:7MiZjKawmXTsTNePyTfPyL</td>\n",
       "      <td>Devil Eyes</td>\n",
       "      <td>Hippie Sabotage</td>\n",
       "      <td>4dM6NDYSfLcspt8GLoT5aE</td>\n",
       "      <td>1RVXVo1puacM8aQ6hgQahi</td>\n",
       "      <td>Providence</td>\n",
       "      <td>131271</td>\n",
       "      <td>False</td>\n",
       "      <td>79</td>\n",
       "      <td>0.391</td>\n",
       "      <td>0.396</td>\n",
       "      <td>1</td>\n",
       "      <td>-8.621</td>\n",
       "      <td>0</td>\n",
       "      <td>0.1890</td>\n",
       "      <td>0.70200</td>\n",
       "      <td>0.405000</td>\n",
       "      <td>0.3150</td>\n",
       "      <td>0.199</td>\n",
       "      <td>99.112</td>\n",
       "    </tr>\n",
       "  </tbody>\n",
       "</table>\n",
       "</div>"
      ],
      "text/plain": [
       "                                     uri  \\\n",
       "0   spotify:track:0fmbjLzenF8z20WN0QPSXl   \n",
       "1   spotify:track:5fQllnHCmwjhmhnpFAcknW   \n",
       "2   spotify:track:43cTBSgL0p3JfAqVwk3SBR   \n",
       "3   spotify:track:5YdnOm5990Kfq1Jodws98B   \n",
       "4   spotify:track:5uSFGgIfHMT3osrAd9n9ym   \n",
       "5   spotify:track:6kvW6EI5UuqCmlp7L7HD9O   \n",
       "6   spotify:track:0R3QYRCLL1UryJhxXQM07e   \n",
       "7   spotify:track:3EJRsDYQdoBW8S2uj6EhQq   \n",
       "8   spotify:track:2cvwCpqdCeL6CtXTd2JJNQ   \n",
       "9   spotify:track:6HUWZBldbQhzvBMqaNkNYM   \n",
       "10  spotify:track:1MFD6gdVDjFFMM8ItH9ZhI   \n",
       "11  spotify:track:7y2CanQNBGTd7EVJy80hLC   \n",
       "12  spotify:track:3azoHmJmvLD2AVR1m0gasI   \n",
       "13  spotify:track:2uZWffKoemZDI0gHcBEcDc   \n",
       "14  spotify:track:3fAz5OBCj54Ar8vzps112y   \n",
       "15  spotify:track:3iBU3w9MbrqFdB9mOa2JeK   \n",
       "16  spotify:track:4YxZQd3I4rj1nqkXgvpCk4   \n",
       "17  spotify:track:0an0ND3xIrzMkCyZjIMuSF   \n",
       "18  spotify:track:70Xfh3baxA4xusCiV5B5jg   \n",
       "19  spotify:track:7MiZjKawmXTsTNePyTfPyL   \n",
       "\n",
       "                                       title              artist_name  \\\n",
       "0                                999 (Remix)                      MYT   \n",
       "1                                  High sein                      HBz   \n",
       "2                              Falsche Liebe                    K-Fly   \n",
       "3                               Call It Love              Felix Jaehn   \n",
       "4                                  Forget Me            Lewis Capaldi   \n",
       "5                               Someone Else               ClockClock   \n",
       "6                             Adilettenstyle               Specktakel   \n",
       "7                             Drop Drop Drop                    THOVI   \n",
       "8                                    MÜNCHEN                    Tream   \n",
       "9               AUF DIE ZEITEN DIE MAL WAREN                    Tream   \n",
       "10  White Walls (feat. ScHoolboy Q & Hollis)  Macklemore & Ryan Lewis   \n",
       "11                              Nur für Dich                 Kontra K   \n",
       "12                              Koala Mulaya                    01099   \n",
       "13                                   On & On                  Cartoon   \n",
       "14                    Medizin (feat. Jamule)                     Sido   \n",
       "15                            Nie mehr gehen               Apache 207   \n",
       "16                 Zukunft Pink (feat. Inéz)                Peter Fox   \n",
       "17                                    SEASON                    Tream   \n",
       "18                            KISSENSCHLACHT                   Jamule   \n",
       "19                                Devil Eyes          Hippie Sabotage   \n",
       "\n",
       "                 artist_id                album_id  \\\n",
       "0   0q9PBbZ4ZWpyY4hK6IpXui  49QJjwNEWrL9Vl9SO8qXGq   \n",
       "1   7I2JG3CcPawkeQPE7uypHJ  76UbTO36WLsNpyaGQ54JV0   \n",
       "2   4jDdEv3oafVcJfrywVDi4p  4VvOcsfEsqT4RszOHUU3Px   \n",
       "3   4bL2B6hmLlMWnUEZnorEtG  5c3YGhnf058Op4YviM73wn   \n",
       "4   4GNC7GD6oZMSxPGyXy4MNB  50IWCes196EP2nWO6i4I67   \n",
       "5   4NSzuIc0eGOftqr0tEOhJk  5HbBzk9KEgIAi2mWj4ubCh   \n",
       "6   1ErIf1pAAaw5upKsCbqhzz  36rPPcwcImUfUmll4PxX7T   \n",
       "7   55E3g7oUV2dhqCWao7kzm3  6kAIOQEpuhgPQ7P2Hv5CMZ   \n",
       "8   6vNAKgK5d74N1I0zTxRPDp  5jCZm7SNgFxihxrtcZvRH0   \n",
       "9   6vNAKgK5d74N1I0zTxRPDp  399uH7NgKhqgX4vOIf6fS4   \n",
       "10  5BcAKTbp20cv7tC5VqPFoC  2pFX16u42q0e5F5vRmmzYT   \n",
       "11  4lDiJcOJ2GLCK6p9q5BgfK  5925gOqT0wsG2ZQmdOJXZW   \n",
       "12  3Z3aTg9PwJ37e8xeO0aUC9  3iGjbuHlPwhBQJCZ0zrA67   \n",
       "13  2sf28o6euxEDpYkG9dMtuM  6Unm4KKxYtjR08J1wEOnkc   \n",
       "14  4Yttlv9ndGjCDCVLqM7ACq  6pKa9ZwiXrysumGnan5sFS   \n",
       "15  1qQLhymHXFPtP5U8KNKsm6  5TPcUrhPDARHdOV3cuzH7B   \n",
       "16  6rqlONGmPuP2wJVSfliLBI  0oCAC1DmJcWxPjs55uJl6D   \n",
       "17  6vNAKgK5d74N1I0zTxRPDp  5P1dCMNjkB4LE3xUFS2Q1n   \n",
       "18  4sVieJlKgpZ2k9ESNS5IdN  2GZ8s5Dy2AZ02Ga5mngS23   \n",
       "19  4dM6NDYSfLcspt8GLoT5aE  1RVXVo1puacM8aQ6hgQahi   \n",
       "\n",
       "                        album_name  length  explicit  popularity  \\\n",
       "0                      999 (Remix)  208000      True          59   \n",
       "1                        High sein  133943     False          64   \n",
       "2                    Falsche Liebe  215327     False          43   \n",
       "3                     Call It Love  154560     False          84   \n",
       "4                        Forget Me  203472     False          86   \n",
       "5                     Someone Else  173423     False          74   \n",
       "6                   Adilettenstyle  213745     False          42   \n",
       "7                   Drop Drop Drop  122081     False          58   \n",
       "8                          MÜNCHEN  157221     False          53   \n",
       "9     AUF DIE ZEITEN DIE MAL WAREN  122666      True          54   \n",
       "10      The Heist (Deluxe Edition)  220319      True          60   \n",
       "11  Für den Himmel durch die Hölle  192506      True          74   \n",
       "12                    Koala Mulaya  186750      True          41   \n",
       "13                         On & On  207068     False          76   \n",
       "14          Medizin (feat. Jamule)  195745      True          42   \n",
       "15                  Nie mehr gehen  195924      True          68   \n",
       "16       Zukunft Pink (feat. Inéz)  230829      True          82   \n",
       "17                          SEASON  143480     False          54   \n",
       "18                  KISSENSCHLACHT  171069      True          62   \n",
       "19                      Providence  131271     False          79   \n",
       "\n",
       "    danceability  energy  key  loudness  mode  speechiness  acousticness  \\\n",
       "0          0.669   0.452    1   -12.112     1       0.2310       0.42000   \n",
       "1          0.669   0.873    1    -6.767     1       0.1790       0.04050   \n",
       "2          0.452   0.628    8   -14.860     0       0.4450       0.22100   \n",
       "3          0.616   0.841    5    -4.779     0       0.0760       0.05590   \n",
       "4          0.669   0.742    1    -3.518     0       0.0441       0.29600   \n",
       "5          0.817   0.784    5    -4.971     0       0.0463       0.11900   \n",
       "6          0.663   0.934    0    -1.900     1       0.1380       0.00682   \n",
       "7          0.754   0.885    2    -5.926     1       0.2320       0.10200   \n",
       "8          0.680   0.951    0    -4.800     0       0.3490       0.36500   \n",
       "9          0.590   0.732    1    -4.605     1       0.0713       0.28600   \n",
       "10         0.768   0.782    7    -5.545     1       0.1410       0.05450   \n",
       "11         0.670   0.498    6    -8.236     0       0.3320       0.72200   \n",
       "12         0.772   0.610    8    -8.644     0       0.2800       0.75200   \n",
       "13         0.451   0.692   11    -4.741     1       0.0398       0.28700   \n",
       "14         0.865   0.626    7    -8.370     1       0.0791       0.09370   \n",
       "15         0.704   0.318    0    -7.806     1       0.0425       0.30100   \n",
       "16         0.903   0.719    1    -8.054     1       0.0520       0.51400   \n",
       "17         0.837   0.875    1    -4.682     1       0.1820       0.12100   \n",
       "18         0.910   0.447    1    -5.580     1       0.0688       0.10100   \n",
       "19         0.391   0.396    1    -8.621     0       0.1890       0.70200   \n",
       "\n",
       "    instrumentalness  liveness  valence    tempo  \n",
       "0           0.291000    0.0999    0.106  165.035  \n",
       "1           0.001810    0.2520    0.442  142.081  \n",
       "2           0.000000    0.1200    0.359   90.632  \n",
       "3           0.002170    0.4170    0.714  110.029  \n",
       "4           0.000000    0.3550    0.716  101.982  \n",
       "5           0.000000    0.1300    0.537  131.995  \n",
       "6           0.000000    0.1950    0.614  139.870  \n",
       "7           0.003160    0.2360    0.701  149.959  \n",
       "8           0.000000    0.1500    0.536  169.983  \n",
       "9           0.000000    0.1240    0.457   89.969  \n",
       "10          0.000000    0.3380    0.842  116.492  \n",
       "11          0.000000    0.1160    0.355   81.914  \n",
       "12          0.000032    0.1150    0.827   95.981  \n",
       "13          0.000000    0.1150    0.423  174.122  \n",
       "14          0.003270    0.0926    0.532  123.004  \n",
       "15          0.000000    0.1700    0.240  139.924  \n",
       "16          0.000077    0.7430    0.639  118.036  \n",
       "17          0.000000    0.2900    0.840  140.051  \n",
       "18          0.000377    0.1380    0.315  125.021  \n",
       "19          0.405000    0.3150    0.199   99.112  "
      ]
     },
     "execution_count": 31,
     "metadata": {},
     "output_type": "execute_result"
    }
   ],
   "source": [
    "test = pd.read_csv('./Data/part2.csv')\n",
    "test.head(20)"
   ]
  },
  {
   "cell_type": "code",
   "execution_count": null,
   "id": "6b05117c",
   "metadata": {},
   "outputs": [],
   "source": []
  },
  {
   "cell_type": "markdown",
   "id": "18eee4e5",
   "metadata": {},
   "source": [
    "# Applying the working mechanism to a long playlist"
   ]
  },
  {
   "cell_type": "code",
   "execution_count": 32,
   "id": "2bf48e35",
   "metadata": {},
   "outputs": [
    {
     "data": {
      "text/plain": [
       "'5S8SJdl1BDc0ugpkEvFsIL'"
      ]
     },
     "execution_count": 32,
     "metadata": {},
     "output_type": "execute_result"
    }
   ],
   "source": [
    "\"5S8SJdl1BDc0ugpkEvFsIL\""
   ]
  },
  {
   "cell_type": "code",
   "execution_count": 33,
   "id": "74372c80",
   "metadata": {},
   "outputs": [
    {
     "name": "stdout",
     "output_type": "stream",
     "text": [
      "First batch successfull\n",
      "Fetched 200 out of 10000 2.0%\n",
      "Fetched 300 out of 10000 3.0%\n",
      "Fetched 400 out of 10000 4.0%\n",
      "Fetched 500 out of 10000 5.0%\n",
      "Fetched 600 out of 10000 6.0%\n",
      "Fetched 700 out of 10000 7.000000000000001%\n",
      "Fetched 800 out of 10000 8.0%\n",
      "Fetched 900 out of 10000 9.0%\n",
      "Fetched 1000 out of 10000 10.0%\n",
      "Fetched 1100 out of 10000 11.0%\n",
      "Fetched 1200 out of 10000 12.0%\n",
      "Fetched 1300 out of 10000 13.0%\n",
      "Fetched 1400 out of 10000 14.000000000000002%\n",
      "Fetched 1500 out of 10000 15.0%\n",
      "Fetched 1600 out of 10000 16.0%\n",
      "Fetched 1700 out of 10000 17.0%\n",
      "Fetched 1800 out of 10000 18.0%\n",
      "Fetched 1900 out of 10000 19.0%\n",
      "Fetched 2000 out of 10000 20.0%\n",
      "Fetched 2100 out of 10000 21.0%\n",
      "Fetched 2200 out of 10000 22.0%\n",
      "Fetched 2300 out of 10000 23.0%\n",
      "Fetched 2400 out of 10000 24.0%\n",
      "Fetched 2500 out of 10000 25.0%\n",
      "Fetched 2600 out of 10000 26.0%\n",
      "Fetched 2700 out of 10000 27.0%\n",
      "Fetched 2800 out of 10000 28.000000000000004%\n",
      "Fetched 2900 out of 10000 28.999999999999996%\n",
      "Fetched 3000 out of 10000 30.0%\n",
      "Fetched 3100 out of 10000 31.0%\n",
      "Fetched 3200 out of 10000 32.0%\n",
      "Fetched 3300 out of 10000 33.0%\n",
      "Fetched 3400 out of 10000 34.0%\n",
      "Fetched 3500 out of 10000 35.0%\n",
      "Fetched 3600 out of 10000 36.0%\n",
      "Error occured while getting feature names\n",
      "Error occured while getting feature names\n",
      "Error occured while getting feature names\n",
      "Fetched 3700 out of 10000 37.0%\n",
      "Fetched 3800 out of 10000 38.0%\n",
      "Fetched 3900 out of 10000 39.0%\n",
      "Fetched 4000 out of 10000 40.0%\n",
      "Fetched 4100 out of 10000 41.0%\n",
      "Fetched 4200 out of 10000 42.0%\n",
      "Fetched 4300 out of 10000 43.0%\n"
     ]
    },
    {
     "name": "stderr",
     "output_type": "stream",
     "text": [
      "Expected id of type track but found type In+the+Shadow+of+the+Valley spotify:local:::In+the+Shadow+of+the+Valley:187\n"
     ]
    },
    {
     "name": "stdout",
     "output_type": "stream",
     "text": [
      "Fetched 4400 out of 10000 44.0%\n",
      "Fetched 4500 out of 10000 45.0%\n",
      "Fetched 4600 out of 10000 46.0%\n",
      "Fetched 4700 out of 10000 47.0%\n"
     ]
    },
    {
     "name": "stderr",
     "output_type": "stream",
     "text": [
      "Expected id of type track but found type April+Sweatpants spotify:local:::April+Sweatpants:166\n"
     ]
    },
    {
     "name": "stdout",
     "output_type": "stream",
     "text": [
      "Fetched 4800 out of 10000 48.0%\n",
      "Fetched 4900 out of 10000 49.0%\n"
     ]
    },
    {
     "name": "stderr",
     "output_type": "stream",
     "text": [
      "Expected id of type track but found type Gee+%28Korean+Ver.+MP3+only%29 spotify:local:SNSD::Gee+%28Korean+Ver.+MP3+only%29:205\n",
      "Expected id of type track but found type Hero spotify:local:::Hero:194\n",
      "Expected id of type track but found type Beneath+the+Mask+%5BWith+Lyrics%5D+-+Persona+5 spotify:local:::Beneath+the+Mask+%5BWith+Lyrics%5D+-+Persona+5:285\n",
      "Expected id of type track but found type Last+Surprise+%5BWith+Lyrics%5D+-+Persona+5 spotify:local:::Last+Surprise+%5BWith+Lyrics%5D+-+Persona+5:236\n"
     ]
    },
    {
     "name": "stdout",
     "output_type": "stream",
     "text": [
      "Fetched 5000 out of 10000 50.0%\n",
      "Fetched 5100 out of 10000 51.0%\n",
      "Fetched 5200 out of 10000 52.0%\n",
      "Fetched 5300 out of 10000 53.0%\n",
      "Fetched 5400 out of 10000 54.0%\n",
      "Fetched 5500 out of 10000 55.00000000000001%\n",
      "Fetched 5600 out of 10000 56.00000000000001%\n",
      "Fetched 5700 out of 10000 56.99999999999999%\n",
      "Fetched 5800 out of 10000 57.99999999999999%\n",
      "Error occured while getting feature names\n",
      "Fetched 5900 out of 10000 59.0%\n",
      "Fetched 6000 out of 10000 60.0%\n",
      "Fetched 6100 out of 10000 61.0%\n",
      "Fetched 6200 out of 10000 62.0%\n",
      "Fetched 6300 out of 10000 63.0%\n",
      "Fetched 6400 out of 10000 64.0%\n",
      "Fetched 6500 out of 10000 65.0%\n"
     ]
    },
    {
     "name": "stderr",
     "output_type": "stream",
     "text": [
      "Expected id of type track but found type Vampire+Weekend++Ottoman spotify:local:::Vampire+Weekend++Ottoman:244\n"
     ]
    },
    {
     "name": "stdout",
     "output_type": "stream",
     "text": [
      "Fetched 6600 out of 10000 66.0%\n",
      "Fetched 6700 out of 10000 67.0%\n",
      "Fetched 6800 out of 10000 68.0%\n"
     ]
    },
    {
     "name": "stderr",
     "output_type": "stream",
     "text": [
      "Expected id of type track but found type Vampire+Weekend+-+Ottoman spotify:local:::Vampire+Weekend+-+Ottoman:234\n"
     ]
    },
    {
     "name": "stdout",
     "output_type": "stream",
     "text": [
      "Fetched 6900 out of 10000 69.0%\n",
      "Fetched 7000 out of 10000 70.0%\n",
      "Fetched 7100 out of 10000 71.0%\n",
      "Fetched 7200 out of 10000 72.0%\n",
      "Fetched 7300 out of 10000 73.0%\n",
      "Fetched 7400 out of 10000 74.0%\n",
      "Fetched 7500 out of 10000 75.0%\n"
     ]
    },
    {
     "name": "stderr",
     "output_type": "stream",
     "text": [
      "Expected id of type track but found type Father+Christmas spotify:local:Harry+Gregson-Williams:The+Chronicles+of+Narnia%3A+The+Lion%2C+The+Witch+and+the+Wardrobe+%28Soundtrack+from+the+Motion+Picture%29:Father+Christmas:200\n",
      "Expected id of type track but found type To+Aslan%27s+Camp spotify:local:Harry+Gregson-Williams:The+Chronicles+of+Narnia%3A+The+Lion%2C+The+Witch+and+the+Wardrobe+%28Soundtrack+from+the+Motion+Picture%29:To+Aslan%27s+Camp:192\n",
      "Expected id of type track but found type Only+the+Beginning+of+the+Adventure spotify:local:Harry+Gregson-Williams:The+Chronicles+of+Narnia%3A+The+Lion%2C+The+Witch+and+the+Wardrobe+%28Soundtrack+from+the+Motion+Picture%29:Only+the+Beginning+of+the+Adventure:348\n",
      "Expected id of type track but found type Evacuating+London spotify:local:Harry+Gregson-Williams:The+Chronicles+of+Narnia%3A+The+Lion%2C+The+Witch+and+the+Wardrobe+%28Soundtrack+from+the+Motion+Picture%29:Evacuating+London:218\n",
      "Expected id of type track but found type The+Battle spotify:local:Harry+Gregson-Williams:The+Chronicles+of+Narnia%3A+The+Lion%2C+The+Witch+and+the+Wardrobe+%28Soundtrack+from+the+Motion+Picture%29:The+Battle:428\n"
     ]
    },
    {
     "name": "stdout",
     "output_type": "stream",
     "text": [
      "Fetched 7600 out of 10000 76.0%\n",
      "Fetched 7700 out of 10000 77.0%\n",
      "Fetched 7800 out of 10000 78.0%\n",
      "Fetched 7900 out of 10000 79.0%\n",
      "Fetched 8000 out of 10000 80.0%\n",
      "Error occured while getting feature names\n",
      "Fetched 8100 out of 10000 81.0%\n",
      "Fetched 8200 out of 10000 82.0%\n",
      "Fetched 8300 out of 10000 83.0%\n",
      "Fetched 8400 out of 10000 84.0%\n"
     ]
    },
    {
     "name": "stderr",
     "output_type": "stream",
     "text": [
      "Expected id of type track but found type I+Am+Not+A+Robot+%28Clock+Opera+Remix%29 spotify:local:Marina+%26+The+Diamonds:I+Am+Not+a+Robot:I+Am+Not+A+Robot+%28Clock+Opera+Remix%29:276\n"
     ]
    },
    {
     "name": "stdout",
     "output_type": "stream",
     "text": [
      "Fetched 8500 out of 10000 85.0%\n"
     ]
    },
    {
     "name": "stderr",
     "output_type": "stream",
     "text": [
      "Expected id of type track but found type Guilt spotify:local:Nero:Guilt:Guilt:273\n"
     ]
    },
    {
     "name": "stdout",
     "output_type": "stream",
     "text": [
      "Fetched 8600 out of 10000 86.0%\n"
     ]
    },
    {
     "name": "stderr",
     "output_type": "stream",
     "text": [
      "Expected id of type track but found type Bomb+The+Bass+%2F+Bug+Powder+Dust+%28K%26D+Session%29 spotify:local:Kruder+%26+Dorfmeister:The+K%26D+Sessions+CD1:Bomb+The+Bass+%2F+Bug+Powder+Dust+%28K%26D+Session%29:440\n"
     ]
    },
    {
     "name": "stdout",
     "output_type": "stream",
     "text": [
      "Fetched 8700 out of 10000 87.0%\n",
      "Fetched 8800 out of 10000 88.0%\n",
      "Error occured while getting feature names\n",
      "Fetched 8900 out of 10000 89.0%\n",
      "Fetched 9000 out of 10000 90.0%\n",
      "Fetched 9100 out of 10000 91.0%\n",
      "Fetched 9200 out of 10000 92.0%\n",
      "Fetched 9300 out of 10000 93.0%\n",
      "Fetched 9400 out of 10000 94.0%\n",
      "Fetched 9500 out of 10000 95.0%\n"
     ]
    },
    {
     "name": "stderr",
     "output_type": "stream",
     "text": [
      "Expected id of type track but found type Agust+D spotify:local:Agust+D:Agust+D:Agust+D:234\n",
      "Expected id of type track but found type %EC%95%BD%EC%86%8D+By+JIMIN+Of+BTS spotify:local:BTS:%EC%95%BD%EC%86%8D+By+JIMIN+Of+BTS:%EC%95%BD%EC%86%8D+By+JIMIN+Of+BTS:151\n",
      "Expected id of type track but found type Seesaw+X+I+NEED+U+REMIX spotify:local:BTS:Seesaw+X+I+NEED+U+REMIX:Seesaw+X+I+NEED+U+REMIX:191\n"
     ]
    },
    {
     "name": "stdout",
     "output_type": "stream",
     "text": [
      "Fetched 9600 out of 10000 96.0%\n",
      "Fetched 9700 out of 10000 97.0%\n"
     ]
    },
    {
     "name": "stderr",
     "output_type": "stream",
     "text": [
      "Expected id of type track but found type In+A+Gadda+Da+Vida+%28Live%29 spotify:local:Iron+Butterfly:Divers:In+A+Gadda+Da+Vida+%28Live%29:1129\n"
     ]
    },
    {
     "name": "stdout",
     "output_type": "stream",
     "text": [
      "Fetched 9800 out of 10000 98.0%\n",
      "Fetched 9900 out of 10000 99.0%\n",
      "Fetched 10000 out of 10000 100.0%\n"
     ]
    }
   ],
   "source": [
    "final = get_playlist_tracks_festures_to_dataframe_csv('5S8SJdl1BDc0ugpkEvFsIL')"
   ]
  },
  {
   "cell_type": "code",
   "execution_count": null,
   "id": "da575989",
   "metadata": {},
   "outputs": [],
   "source": []
  }
 ],
 "metadata": {
  "kernelspec": {
   "display_name": "Python 3 (ipykernel)",
   "language": "python",
   "name": "python3"
  },
  "language_info": {
   "codemirror_mode": {
    "name": "ipython",
    "version": 3
   },
   "file_extension": ".py",
   "mimetype": "text/x-python",
   "name": "python",
   "nbconvert_exporter": "python",
   "pygments_lexer": "ipython3",
   "version": "3.9.13"
  }
 },
 "nbformat": 4,
 "nbformat_minor": 5
}
