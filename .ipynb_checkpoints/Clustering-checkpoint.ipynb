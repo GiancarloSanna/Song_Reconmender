{
 "cells": [
  {
   "cell_type": "markdown",
   "id": "b84af03d",
   "metadata": {},
   "source": [
    "# Making clusters"
   ]
  },
  {
   "cell_type": "markdown",
   "id": "8743611e",
   "metadata": {},
   "source": [
    "#### Importing libraries"
   ]
  },
  {
   "cell_type": "code",
   "execution_count": null,
   "id": "0669a359",
   "metadata": {},
   "outputs": [],
   "source": [
    "import spotipy\n",
    "from spotipy.oauth2 import SpotifyClientCredentials\n",
    "import pandas as pd\n",
    "from random import randint\n",
    "from time import sleep\n",
    "from itertools import islice\n",
    "from pandas import json_normalize"
   ]
  },
  {
   "cell_type": "markdown",
   "id": "05e466c2",
   "metadata": {},
   "source": [
    "# Reading out the data and creating a dataframe"
   ]
  },
  {
   "cell_type": "code",
   "execution_count": null,
   "id": "ab6872dc",
   "metadata": {},
   "outputs": [],
   "source": [
    "df_list = []\n",
    "for i in range(1,101):\n",
    "    df_list.append(pd.read_csv('./Data/part'+str(i)+'.csv'))    "
   ]
  },
  {
   "cell_type": "code",
   "execution_count": null,
   "id": "eeeec65f",
   "metadata": {},
   "outputs": [],
   "source": [
    "df_songs = pd.concat(df_list)"
   ]
  },
  {
   "cell_type": "code",
   "execution_count": null,
   "id": "ff7a9096",
   "metadata": {},
   "outputs": [],
   "source": [
    "df_songs.head(3)"
   ]
  },
  {
   "cell_type": "code",
   "execution_count": null,
   "id": "bc86289b",
   "metadata": {},
   "outputs": [],
   "source": [
    "df_songs.shape"
   ]
  },
  {
   "cell_type": "markdown",
   "id": "a4a88a17",
   "metadata": {},
   "source": [
    "# Preparing the dataframe"
   ]
  },
  {
   "cell_type": "markdown",
   "id": "d6223ace",
   "metadata": {},
   "source": [
    "#### More imports"
   ]
  },
  {
   "cell_type": "code",
   "execution_count": null,
   "id": "deb90116",
   "metadata": {},
   "outputs": [],
   "source": [
    "from sklearn import cluster, datasets\n",
    "from sklearn.preprocessing import StandardScaler\n",
    "from matplotlib.lines import Line2D\n",
    "from sklearn.cluster import KMeans"
   ]
  },
  {
   "cell_type": "markdown",
   "id": "0109f959",
   "metadata": {},
   "source": [
    "#### Reducing columns"
   ]
  },
  {
   "cell_type": "code",
   "execution_count": null,
   "id": "5e800f26",
   "metadata": {},
   "outputs": [],
   "source": [
    "df_songs.columns"
   ]
  },
  {
   "cell_type": "markdown",
   "id": "a7772f13",
   "metadata": {},
   "source": [
    "Most of the data we have is not needed for the clustering process, we only keep the audio features."
   ]
  },
  {
   "cell_type": "code",
   "execution_count": null,
   "id": "e5ea8883",
   "metadata": {},
   "outputs": [],
   "source": [
    "df_prep = df_songs[['danceability', 'energy', 'key',\n",
    "       'loudness', 'mode', 'speechiness', 'acousticness', 'instrumentalness',\n",
    "       'liveness', 'valence', 'tempo']]\n",
    "df_prep.columns"
   ]
  },
  {
   "cell_type": "markdown",
   "id": "5123c336",
   "metadata": {},
   "source": [
    "#### Cleaning"
   ]
  },
  {
   "cell_type": "code",
   "execution_count": null,
   "id": "11b651f7",
   "metadata": {},
   "outputs": [],
   "source": [
    "# Check nan values\n",
    "df_prep.isna().sum()"
   ]
  },
  {
   "cell_type": "code",
   "execution_count": null,
   "id": "1f4ed167",
   "metadata": {},
   "outputs": [],
   "source": [
    "# Checking types\n",
    "df_prep.dtypes"
   ]
  },
  {
   "cell_type": "markdown",
   "id": "1bee6fd1",
   "metadata": {},
   "source": [
    "There is nothing to clean"
   ]
  },
  {
   "cell_type": "markdown",
   "id": "85489cef",
   "metadata": {},
   "source": [
    "#### Scaling"
   ]
  },
  {
   "cell_type": "code",
   "execution_count": null,
   "id": "d555b508",
   "metadata": {},
   "outputs": [],
   "source": [
    "scaler = StandardScaler().fit(df_prep)\n",
    "scaler"
   ]
  },
  {
   "cell_type": "code",
   "execution_count": null,
   "id": "b0170a4b",
   "metadata": {},
   "outputs": [],
   "source": [
    "normalized = scaler.transform(df_prep)\n",
    "df_normalized = pd.DataFrame(normalized, columns=df_prep.columns)"
   ]
  },
  {
   "cell_type": "code",
   "execution_count": null,
   "id": "f0330671",
   "metadata": {},
   "outputs": [],
   "source": [
    "df_normalized.head(5)"
   ]
  },
  {
   "cell_type": "markdown",
   "id": "929ed065",
   "metadata": {},
   "source": [
    "# Clustering with KMeans"
   ]
  },
  {
   "cell_type": "code",
   "execution_count": null,
   "id": "e10b2600",
   "metadata": {},
   "outputs": [],
   "source": [
    "# Initializing the classifier\n",
    "kmeans = cluster.KMeans(n_clusters=10)"
   ]
  },
  {
   "cell_type": "code",
   "execution_count": null,
   "id": "2a4c6ea7",
   "metadata": {},
   "outputs": [],
   "source": [
    "# Fitting with our scaled data\n",
    "kmeans.fit(df_normalized)"
   ]
  },
  {
   "cell_type": "code",
   "execution_count": null,
   "id": "e2ddbf9e",
   "metadata": {},
   "outputs": [],
   "source": [
    "# Calculating the clusters\n",
    "pred = kmeans.predict(df_normalized)"
   ]
  },
  {
   "cell_type": "code",
   "execution_count": null,
   "id": "bb727dc0",
   "metadata": {},
   "outputs": [],
   "source": [
    "# We now have predictions for all our songs\n",
    "len(pred)"
   ]
  },
  {
   "cell_type": "code",
   "execution_count": null,
   "id": "8a18e297",
   "metadata": {},
   "outputs": [],
   "source": [
    "# Seperated into 10 clusters\n",
    "pd.DataFrame(pred)[0].unique()"
   ]
  },
  {
   "cell_type": "markdown",
   "id": "0370f59d",
   "metadata": {},
   "source": [
    "# Evaluation"
   ]
  },
  {
   "cell_type": "code",
   "execution_count": null,
   "id": "cad395b7",
   "metadata": {},
   "outputs": [],
   "source": [
    "# Looking at inertia\n",
    "kmeans.inertia_ "
   ]
  },
  {
   "cell_type": "markdown",
   "id": "a6c21d30",
   "metadata": {},
   "source": [
    "# Choosing k"
   ]
  },
  {
   "cell_type": "code",
   "execution_count": null,
   "id": "d93b77ef",
   "metadata": {},
   "outputs": [],
   "source": [
    "# We try out different values for K, since grouping music in just 2 categories is just not\n",
    "# useful we start off with 10\n",
    "K = range(2, 20)\n",
    "inertia = []\n",
    "\n",
    "for k in K:\n",
    "    kmeans = KMeans(n_clusters=k,\n",
    "                    random_state=1234)\n",
    "    kmeans.fit(df_normalized)\n",
    "    inertia.append(kmeans.inertia_)\n",
    "\n",
    "import matplotlib.pyplot as plt\n",
    "%matplotlib inline\n",
    "\n",
    "plt.figure(figsize=(16,8))\n",
    "plt.plot(K, inertia, 'bx-')\n",
    "plt.xlabel('k')\n",
    "plt.ylabel('inertia')\n",
    "plt.xticks(np.arange(min(K), max(K)+1, 1.0))\n",
    "plt.title('Elbow Method showing the optimal k')\n",
    "plt.show()"
   ]
  },
  {
   "cell_type": "markdown",
   "id": "d224dc91",
   "metadata": {},
   "source": [
    "We dont have a clear elbow point here, we try to improve with PCA"
   ]
  },
  {
   "cell_type": "markdown",
   "id": "7e43b1e0",
   "metadata": {},
   "source": [
    "# Principal Component Analysis"
   ]
  },
  {
   "cell_type": "code",
   "execution_count": null,
   "id": "76b0b8b5",
   "metadata": {},
   "outputs": [],
   "source": [
    "from sklearn.decomposition import PCA"
   ]
  },
  {
   "cell_type": "code",
   "execution_count": null,
   "id": "32346f25",
   "metadata": {},
   "outputs": [],
   "source": [
    "pca = PCA()\n",
    "pca.fit(df_normalized)"
   ]
  },
  {
   "cell_type": "markdown",
   "id": "778fd239",
   "metadata": {},
   "source": [
    "#### Inspecting the components"
   ]
  },
  {
   "cell_type": "code",
   "execution_count": null,
   "id": "3a1e3585",
   "metadata": {},
   "outputs": [],
   "source": [
    "pca.explained_variance_ratio_.round(2)"
   ]
  },
  {
   "cell_type": "code",
   "execution_count": null,
   "id": "8ef88be0",
   "metadata": {},
   "outputs": [],
   "source": [
    "pca.explained_variance_ratio_[:8].sum()"
   ]
  },
  {
   "cell_type": "markdown",
   "id": "d6c5a89b",
   "metadata": {},
   "source": [
    "Apparently we need a lot of the components to not loose too much information, nevertheless we retry to model with the reduced dimensions."
   ]
  },
  {
   "cell_type": "markdown",
   "id": "eda6ae97",
   "metadata": {},
   "source": [
    "# Modeling with reduced dimensions"
   ]
  },
  {
   "cell_type": "markdown",
   "id": "c03d47f2",
   "metadata": {},
   "source": [
    "#### Setting PCA to 85%"
   ]
  },
  {
   "cell_type": "code",
   "execution_count": null,
   "id": "5c22639f",
   "metadata": {},
   "outputs": [],
   "source": [
    "pca = PCA(0.85)\n",
    "pca.fit(df_normalized)"
   ]
  },
  {
   "cell_type": "code",
   "execution_count": null,
   "id": "698e9df0",
   "metadata": {},
   "outputs": [],
   "source": [
    "# Applying to our data\n",
    "df_normalized_pca = pca.transform(df_normalized)"
   ]
  },
  {
   "cell_type": "markdown",
   "id": "72a72bc9",
   "metadata": {},
   "source": [
    "#### Model"
   ]
  },
  {
   "cell_type": "code",
   "execution_count": null,
   "id": "55a637b9",
   "metadata": {},
   "outputs": [],
   "source": [
    "K = range(2, 20)\n",
    "inertia = []\n",
    "\n",
    "for k in K:\n",
    "    kmeans = KMeans(n_clusters=k,\n",
    "                    random_state=1234)\n",
    "    kmeans.fit(df_normalized_pca)\n",
    "    inertia.append(kmeans.inertia_)\n",
    "\n",
    "import matplotlib.pyplot as plt\n",
    "%matplotlib inline\n",
    "\n",
    "plt.figure(figsize=(16,8))\n",
    "plt.plot(K, inertia, 'bx-')\n",
    "plt.xlabel('k')\n",
    "plt.ylabel('inertia')\n",
    "plt.xticks(np.arange(min(K), max(K)+1, 1.0))\n",
    "plt.title('Elbow Method showing the optimal k')\n",
    "plt.show()"
   ]
  },
  {
   "cell_type": "markdown",
   "id": "2a51eab2",
   "metadata": {},
   "source": [
    "The curve looks a little bit more defined, I would still apply K = 10"
   ]
  },
  {
   "cell_type": "markdown",
   "id": "a415d6cf",
   "metadata": {},
   "source": [
    "#### Comparing"
   ]
  },
  {
   "cell_type": "code",
   "execution_count": null,
   "id": "7f5084bb",
   "metadata": {},
   "outputs": [],
   "source": [
    "kmeans = cluster.KMeans(n_clusters=10)\n",
    "kmeans.fit(df_normalized)\n",
    "kmeans.inertia_ "
   ]
  },
  {
   "cell_type": "code",
   "execution_count": null,
   "id": "bcd77372",
   "metadata": {},
   "outputs": [],
   "source": [
    "kmeans_pca = KMeans(n_clusters=10)\n",
    "kmeans_pca.fit(df_normalized_pca)\n",
    "kmeans_pca.inertia_ "
   ]
  },
  {
   "cell_type": "markdown",
   "id": "dc7e7582",
   "metadata": {},
   "source": [
    "# Correction"
   ]
  },
  {
   "cell_type": "markdown",
   "id": "cf318c76",
   "metadata": {},
   "source": [
    "After integrating our kmean model into our reconmender I could see, that the reconmended songs feel very random. My guess is, that k = 10 looks good technically, but is not suitable for this use case.\n",
    "We try again for a higher number of k."
   ]
  },
  {
   "cell_type": "code",
   "execution_count": null,
   "id": "c659f9e7",
   "metadata": {},
   "outputs": [],
   "source": [
    "kmeans_pca_30 = KMeans(n_clusters=30)\n",
    "kmeans_pca_30.fit(df_normalized_pca)\n",
    "kmeans_pca_30.inertia_ "
   ]
  },
  {
   "cell_type": "markdown",
   "id": "c32ddf3c",
   "metadata": {},
   "source": [
    "#### We try 45 classes"
   ]
  },
  {
   "cell_type": "code",
   "execution_count": null,
   "id": "413bfcc1",
   "metadata": {},
   "outputs": [],
   "source": [
    "kmeans_pca_45 = KMeans(n_clusters=45)\n",
    "kmeans_pca_45.fit(df_normalized_pca)\n",
    "kmeans_pca_45.inertia_"
   ]
  },
  {
   "cell_type": "markdown",
   "id": "b56ec847",
   "metadata": {},
   "source": [
    "# Saving the classifier\n",
    "We save the PCA treated model because of the lower inertia."
   ]
  },
  {
   "cell_type": "code",
   "execution_count": null,
   "id": "0e293bb8",
   "metadata": {},
   "outputs": [],
   "source": [
    "import pickle"
   ]
  },
  {
   "cell_type": "code",
   "execution_count": null,
   "id": "a85b8cf4",
   "metadata": {},
   "outputs": [],
   "source": [
    "pickle.dump(kmeans_pca, open('kmeans10.p', 'wb'))"
   ]
  },
  {
   "cell_type": "code",
   "execution_count": null,
   "id": "7734ef65",
   "metadata": {},
   "outputs": [],
   "source": [
    "pickle.dump(kmeans_pca_30, open('kmeans30.p', 'wb'))"
   ]
  },
  {
   "cell_type": "code",
   "execution_count": null,
   "id": "e733a041",
   "metadata": {},
   "outputs": [],
   "source": [
    "pickle.dump(kmeans_pca_45, open('kmeans45.p', 'wb'))"
   ]
  },
  {
   "cell_type": "code",
   "execution_count": null,
   "id": "a899777f",
   "metadata": {},
   "outputs": [],
   "source": [
    "pickle.dump(pca, open('pca.p', 'wb'))"
   ]
  },
  {
   "cell_type": "code",
   "execution_count": null,
   "id": "8da32f2c",
   "metadata": {},
   "outputs": [],
   "source": [
    "pickle.dump(scaler, open('scaler.p', 'wb'))"
   ]
  },
  {
   "cell_type": "code",
   "execution_count": null,
   "id": "ec1679fc",
   "metadata": {},
   "outputs": [],
   "source": []
  },
  {
   "cell_type": "code",
   "execution_count": null,
   "id": "3023bf33",
   "metadata": {},
   "outputs": [],
   "source": []
  }
 ],
 "metadata": {
  "kernelspec": {
   "display_name": "Python 3 (ipykernel)",
   "language": "python",
   "name": "python3"
  },
  "language_info": {
   "codemirror_mode": {
    "name": "ipython",
    "version": 3
   },
   "file_extension": ".py",
   "mimetype": "text/x-python",
   "name": "python",
   "nbconvert_exporter": "python",
   "pygments_lexer": "ipython3",
   "version": "3.9.13"
  }
 },
 "nbformat": 4,
 "nbformat_minor": 5
}
